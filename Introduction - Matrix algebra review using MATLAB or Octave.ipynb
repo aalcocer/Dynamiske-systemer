{
 "cells": [
  {
   "cell_type": "markdown",
   "metadata": {},
   "source": [
    "# Introduction - Matrix algebra review using MATLAB/Octave"
   ]
  },
  {
   "cell_type": "markdown",
   "metadata": {
    "collapsed": true
   },
   "source": [
    "This page contains some basic reminder of matrix algebra using MATLAB or Octave.\n",
    "\n",
    "\n",
    "Matrix with real elements:\n",
    "$ \\mathbf{A} = \\begin{bmatrix}\n",
    "a_{11}  & a_{12} & \\ldots & a_{1m} \\\\\n",
    "a_{21}  & a_{22} & \\ldots & a_{2m} \\\\        \n",
    "\\vdots  &  \\vdots  & \\ddots &  \\vdots\\\\\n",
    "a_{n1}  & a_{n2} &  \\ldots & a_{nm}     \n",
    "\\end{bmatrix} \\in \\mathbb{R}^{n\\times m}$\n",
    "\n",
    "The first index $n$ is the number of rows.  \n",
    "The second index $m$ is the number of columns\n",
    "\n",
    "Column vector of dimension $n$:\n",
    "$\\mathbf{a} = \n",
    "\\begin{bmatrix}\n",
    "a_{1}  \\\\\n",
    "a_{2}  \\\\\n",
    "\\vdots \\\\\n",
    "a_{n}  \\\\\n",
    "\\end{bmatrix} \\in \\mathbb{R}^{n\\times 1}\n",
    "$\n",
    "\n",
    "Row vector of dimension $m$:\n",
    "\n",
    "$\\mathbf{b} = \n",
    "\\begin{bmatrix}\n",
    "b_1  & b_2 & \\ldots b_{m} \n",
    "\\end{bmatrix} \\in \\mathbb{R}^{1\\times m}\n",
    "$\n"
   ]
  },
  {
   "cell_type": "code",
   "execution_count": 96,
   "metadata": {
    "collapsed": false
   },
   "outputs": [
    {
     "name": "stdout",
     "output_type": "stream",
     "text": [
      "A =\n",
      "\n",
      "  -0.52844   1.55529\n",
      "   0.14171  -0.37204\n",
      "   0.98940   0.13291\n",
      "\n"
     ]
    }
   ],
   "source": [
    "A = randn(3, 2) % creates random matrix with integer entries (from 0-9) and size (3,2)"
   ]
  },
  {
   "cell_type": "code",
   "execution_count": 97,
   "metadata": {
    "collapsed": false
   },
   "outputs": [
    {
     "name": "stdout",
     "output_type": "stream",
     "text": [
      "a =\n",
      "\n",
      "   1\n",
      "   2\n",
      "   4\n",
      "   6\n",
      "   5\n",
      "\n"
     ]
    }
   ],
   "source": [
    "a = [1; 2; 4; 6; 5] % column vector of dimension (5,1)"
   ]
  },
  {
   "cell_type": "code",
   "execution_count": 98,
   "metadata": {
    "collapsed": false
   },
   "outputs": [
    {
     "name": "stdout",
     "output_type": "stream",
     "text": [
      "ans =\n",
      "\n",
      "   5   1\n",
      "\n"
     ]
    }
   ],
   "source": [
    "size(a)"
   ]
  },
  {
   "cell_type": "code",
   "execution_count": 99,
   "metadata": {
    "collapsed": false
   },
   "outputs": [
    {
     "name": "stdout",
     "output_type": "stream",
     "text": [
      "b =\n",
      "\n",
      "   1   2   4   6   5\n",
      "\n"
     ]
    }
   ],
   "source": [
    "b = [1 2 4 6 5] % row vector of dimension (1,5)"
   ]
  },
  {
   "cell_type": "code",
   "execution_count": 100,
   "metadata": {
    "collapsed": false
   },
   "outputs": [
    {
     "name": "stdout",
     "output_type": "stream",
     "text": [
      "ans =\n",
      "\n",
      "   1   5\n",
      "\n"
     ]
    }
   ],
   "source": [
    "size(b)"
   ]
  },
  {
   "cell_type": "code",
   "execution_count": 101,
   "metadata": {
    "collapsed": false
   },
   "outputs": [
    {
     "name": "stdout",
     "output_type": "stream",
     "text": [
      "ans =\n",
      "\n",
      "   0\n",
      "   0\n",
      "   0\n",
      "   0\n",
      "   0\n",
      "\n"
     ]
    }
   ],
   "source": [
    "zeros(5,1) % column vector of zeros and dimension 5x1"
   ]
  },
  {
   "cell_type": "code",
   "execution_count": 102,
   "metadata": {
    "collapsed": false
   },
   "outputs": [
    {
     "name": "stdout",
     "output_type": "stream",
     "text": [
      "ans =\n",
      "\n",
      "   1   1   1   1\n",
      "\n"
     ]
    }
   ],
   "source": [
    "ones(1,4) % row vector of ones and dimension 5x1"
   ]
  },
  {
   "cell_type": "markdown",
   "metadata": {},
   "source": [
    "## Transpose\n",
    "\n",
    "\n",
    "\n",
    "$ \\mathbf{A} = \\begin{bmatrix}\n",
    "a_{11}  & a_{12} & \\ldots & a_{1m} \\\\\n",
    "a_{21}  & a_{22} & \\ldots & a_{2m} \\\\        \n",
    "\\vdots  &  \\vdots  & \\ddots &  \\vdots\\\\\n",
    "a_{n1}  & a_{n2} &  \\ldots & a_{nm}     \n",
    "\\end{bmatrix} \\in \\mathbb{R}^{n\\times m} \\Longrightarrow\n",
    "\\mathbf{A}^T = \\begin{bmatrix}\n",
    "a_{11}  & a_{21} & \\ldots & a_{n1} \\\\\n",
    "a_{12}  & a_{22} & \\ldots & a_{n2} \\\\        \n",
    "\\vdots  &  \\vdots  & \\ddots &  \\vdots\\\\\n",
    "a_{1m}  & a_{2m} &  \\ldots & a_{nm}     \n",
    "\\end{bmatrix} \\in \\mathbb{R}^{m\\times n}$\n",
    "\n",
    "$  \\mathbf{A} = \\begin{bmatrix}\n",
    "\\mathbf{c}_{1}  & \\mathbf{c}_{1} & \\ldots & \\mathbf{c}_{m}\n",
    "\\end{bmatrix} \\in \\mathbb{R}^{n\\times m}, \n",
    "\\mathbf{c}_i = \n",
    "\\begin{bmatrix}\n",
    "a_{1i}  \\\\\n",
    "a_{2i}  \\\\\n",
    "\\vdots \\\\\n",
    "a_{ni}  \\\\\n",
    "\\end{bmatrix} \\in \\mathbb{R}^{n\\times 1}\n",
    " \\Longrightarrow\n",
    "\\mathbf{A}^T = \\begin{bmatrix}\n",
    "\\mathbf{c}^T_{1}  \\\\\n",
    "\\mathbf{c}^T_{2}  \\\\\n",
    "\\vdots \\\\\n",
    "\\mathbf{c}^T_{m}\n",
    "\\end{bmatrix} \\in \\mathbb{R}^{m\\times n},\n",
    "\\mathbf{c}^T_i = \n",
    "\\begin{bmatrix}\n",
    "a_{1i}  & a_{2i} & \\ldots &a_{ni}  \n",
    "\\end{bmatrix} \\in \\mathbb{R}^{1\\times n}\n",
    "$\n",
    "\n",
    "$  \n",
    "\\mathbf{A} = \\begin{bmatrix}\n",
    "\\mathbf{r}_{1}  \\\\\n",
    "\\mathbf{r}_{2}  \\\\\n",
    "\\vdots \\\\\n",
    "\\mathbf{r}_{n}\n",
    "\\end{bmatrix}\\in \\mathbb{R}^{n\\times m},\n",
    "\\mathbf{r}_i = \n",
    "\\begin{bmatrix}\n",
    "a_{i1}  & a_{i2} & \\ldots &a_{im}  \n",
    "\\end{bmatrix} \\in \\mathbb{R}^{1\\times m}\n",
    " \\Longrightarrow\n",
    "\\mathbf{A}^T = \\begin{bmatrix}\n",
    "\\mathbf{r}^T_{1}  & \\mathbf{r}^T_{1} & \\ldots & \\mathbf{r}^T_{n}\n",
    "\\end{bmatrix} \\in \\mathbb{R}^{m\\times n},\n",
    "\\mathbf{r}^T_i = \n",
    "\\begin{bmatrix}\n",
    "a_{i1}  \\\\\n",
    "a_{i2}  \\\\\n",
    "\\vdots \\\\\n",
    "a_{im}  \\\\\n",
    "\\end{bmatrix} \\in \\mathbb{R}^{m\\times 1}\n",
    "$\n",
    "\n",
    "In numpy, a matrix transpose is indicated by \".T\" operator."
   ]
  },
  {
   "cell_type": "code",
   "execution_count": 103,
   "metadata": {
    "collapsed": false
   },
   "outputs": [
    {
     "name": "stdout",
     "output_type": "stream",
     "text": [
      "A =\n",
      "\n",
      "    7    2    6\n",
      "    0    8    4\n",
      "    5    7    7\n",
      "   10    4    0\n",
      "    5    5    8\n",
      "\n"
     ]
    }
   ],
   "source": [
    "A = randi([0 10], 5, 3) % creates random matrix with inetegers in [0,10] and size (5,3)"
   ]
  },
  {
   "cell_type": "code",
   "execution_count": 104,
   "metadata": {
    "collapsed": false
   },
   "outputs": [
    {
     "name": "stdout",
     "output_type": "stream",
     "text": [
      "ans =\n",
      "\n",
      "   5   3\n",
      "\n"
     ]
    }
   ],
   "source": [
    "size(A)"
   ]
  },
  {
   "cell_type": "code",
   "execution_count": 105,
   "metadata": {
    "collapsed": false
   },
   "outputs": [
    {
     "name": "stdout",
     "output_type": "stream",
     "text": [
      "ans =\n",
      "\n",
      "    7    0    5   10    5\n",
      "    2    8    7    4    5\n",
      "    6    4    7    0    8\n",
      "\n"
     ]
    }
   ],
   "source": [
    "A' % returns matrix transpose"
   ]
  },
  {
   "cell_type": "code",
   "execution_count": 106,
   "metadata": {
    "collapsed": false
   },
   "outputs": [
    {
     "name": "stdout",
     "output_type": "stream",
     "text": [
      "ans =\n",
      "\n",
      "   3   5\n",
      "\n"
     ]
    }
   ],
   "source": [
    "size(A')"
   ]
  },
  {
   "cell_type": "code",
   "execution_count": 107,
   "metadata": {
    "collapsed": false
   },
   "outputs": [
    {
     "name": "stdout",
     "output_type": "stream",
     "text": [
      "b =\n",
      "\n",
      "   1.64347\n",
      "  -0.65957\n",
      "  -0.22587\n",
      "  -0.71426\n",
      "   1.30116\n",
      "\n"
     ]
    }
   ],
   "source": [
    "b = randn(5,1) % column vector with normally distributed random entries"
   ]
  },
  {
   "cell_type": "code",
   "execution_count": 108,
   "metadata": {
    "collapsed": false
   },
   "outputs": [
    {
     "name": "stdout",
     "output_type": "stream",
     "text": [
      "ans =\n",
      "\n",
      "   1.64347  -0.65957  -0.22587  -0.71426   1.30116\n",
      "\n"
     ]
    }
   ],
   "source": [
    "b'"
   ]
  },
  {
   "cell_type": "markdown",
   "metadata": {},
   "source": [
    "Remember that $(\\mathbf{A}^T)^T = \\mathbf{A}$"
   ]
  },
  {
   "cell_type": "code",
   "execution_count": 109,
   "metadata": {
    "collapsed": false
   },
   "outputs": [
    {
     "name": "stdout",
     "output_type": "stream",
     "text": [
      "ans =\n",
      "\n",
      "   1.64347\n",
      "  -0.65957\n",
      "  -0.22587\n",
      "  -0.71426\n",
      "   1.30116\n",
      "\n"
     ]
    }
   ],
   "source": [
    "(b')'"
   ]
  },
  {
   "cell_type": "markdown",
   "metadata": {},
   "source": [
    "## Matrix addition\n",
    "\n",
    "Matrix sum is only defined if matrices have the same dimension\n",
    "\n",
    "$$ \\mathbf{A} = \\begin{bmatrix}\n",
    "a_{11}  & a_{12} & \\ldots & a_{1m} \\\\\n",
    "a_{21}  & a_{22} & \\ldots & a_{2m} \\\\        \n",
    "\\vdots  &  \\vdots  & \\ddots &  \\vdots\\\\\n",
    "a_{n1}  & a_{n2} &  \\ldots & a_{nm}     \n",
    "\\end{bmatrix} \\in \\mathbb{R}^{n\\times m},\n",
    " \\mathbf{B} = \\begin{bmatrix}\n",
    "b_{11}  & b_{12} & \\ldots & b_{1m} \\\\\n",
    "b_{21}  & b_{22} & \\ldots & b_{2m} \\\\        \n",
    "\\vdots  &  \\vdots  & \\ddots &  \\vdots\\\\\n",
    "b_{n1}  & b_{n2} &  \\ldots & b_{nm}     \n",
    "\\end{bmatrix} \\in \\mathbb{R}^{n\\times m}$$\n",
    "\n",
    "$$ \\mathbf{A}+\\mathbf{B} = \\begin{bmatrix}\n",
    "a_{11}+b_{11}  & a_{12}+b_{12} & \\ldots & a_{1m}+b_{1m} \\\\\n",
    "a_{21}+b_{21}  & a_{22}+b_{22} & \\ldots & a_{2m}+b_{2m} \\\\        \n",
    "\\vdots  &  \\vdots  & \\ddots &  \\vdots\\\\\n",
    "a_{n1}+b_{n1}  & a_{n2}+b_{n2} &  \\ldots & a_{nm}+b_{nm}     \n",
    "\\end{bmatrix} \\in \\mathbb{R}^{n\\times m}$$\n",
    "\n",
    "\n"
   ]
  },
  {
   "cell_type": "code",
   "execution_count": 110,
   "metadata": {
    "collapsed": false
   },
   "outputs": [
    {
     "name": "stdout",
     "output_type": "stream",
     "text": [
      "A =\n",
      "\n",
      "   10    7\n",
      "    0    7\n",
      "    5    7\n",
      "\n"
     ]
    }
   ],
   "source": [
    "A = randi([0 10],3, 2) % creates random matrix with integer entries (from 0-9) and size (3,2)"
   ]
  },
  {
   "cell_type": "code",
   "execution_count": 111,
   "metadata": {
    "collapsed": false
   },
   "outputs": [
    {
     "name": "stdout",
     "output_type": "stream",
     "text": [
      "B =\n",
      "\n",
      "    4    4\n",
      "   10    2\n",
      "    2    8\n",
      "\n"
     ]
    }
   ],
   "source": [
    "B = randi([0 10],3, 2) % creates random matrix with integer entries (from 0-9) and size (3,2)"
   ]
  },
  {
   "cell_type": "code",
   "execution_count": 112,
   "metadata": {
    "collapsed": false
   },
   "outputs": [
    {
     "name": "stdout",
     "output_type": "stream",
     "text": [
      "ans =\n",
      "\n",
      "   14   11\n",
      "   10    9\n",
      "    7   15\n",
      "\n"
     ]
    }
   ],
   "source": [
    "A+B % matrix addition"
   ]
  },
  {
   "cell_type": "code",
   "execution_count": 113,
   "metadata": {
    "collapsed": false
   },
   "outputs": [
    {
     "name": "stdout",
     "output_type": "stream",
     "text": [
      "C =\n",
      "\n",
      "   1\n",
      "   2\n",
      "   3\n",
      "\n"
     ]
    }
   ],
   "source": [
    "C = [1; 2;3] % column vector dimension 3x1"
   ]
  },
  {
   "cell_type": "code",
   "execution_count": 114,
   "metadata": {
    "collapsed": false
   },
   "outputs": [
    {
     "name": "stdout",
     "output_type": "stream",
     "text": [
      "A =\n",
      "\n",
      "   10    7\n",
      "    0    7\n",
      "    5    7\n",
      "\n"
     ]
    }
   ],
   "source": [
    "A"
   ]
  },
  {
   "cell_type": "code",
   "execution_count": 115,
   "metadata": {
    "collapsed": false
   },
   "outputs": [
    {
     "name": "stdout",
     "output_type": "stream",
     "text": [
      "ans =\n",
      "\n",
      "   11    8\n",
      "    2    9\n",
      "    8   10\n",
      "\n"
     ]
    }
   ],
   "source": [
    "A+C % in this case the vector C is copied to match the dimension of A. Is the same as A + [C C]"
   ]
  },
  {
   "cell_type": "markdown",
   "metadata": {},
   "source": [
    "## Matrix multiplication\n",
    "\n",
    "Matrix multiplication is only defined when the number of columns of the first matrix and the rows of the second are equal. \n",
    "\n",
    "$\\mathbf{A} \\in \\mathbb{R}^{n\\times m}, \\mathbf{B} \\in \\mathbb{R}^{m\\times p}\n",
    "\\Longrightarrow \\mathbf{A}\\mathbf{B}\\in \\mathbb{R}^{n\\times p}\n",
    "$\n",
    "\n",
    "It is sometimes useful to write down the dimensions of the matrices being multiplied to verify that they are compatible and to easily determine the result matrix dimensions. For instance:\n",
    "\n",
    "$(n\\times m) \\cdot (m\\times p)\\Longrightarrow (n\\times p)$\n",
    "\n",
    "$\\mathbf{A} \\in \\mathbb{R}^{n\\times m}, \\mathbf{B} \\in \\mathbb{R}^{m\\times p},\n",
    "\\mathbf{C} \\in \\mathbb{R}^{p\\times q}\n",
    "\\Longrightarrow \\mathbf{A}\\mathbf{B}\\mathbf{C}= (\\mathbf{A}\\mathbf{B})\\mathbf{C} \n",
    "= \\mathbf{A}(\\mathbf{B}\\mathbf{C})\\in \\mathbb{R}^{n\\times q}\n",
    "$\n",
    "\n",
    "$(n\\times m) \\cdot (m\\times p)\\cdot (p\\times q)\\Longrightarrow (n\\times q)$"
   ]
  },
  {
   "cell_type": "markdown",
   "metadata": {},
   "source": [
    "One simple manner of visualizing matrix multiplication is to consider the rows of the first matrix against the columns of the second matrix. \n",
    "\n",
    "$\n",
    "\\mathbf{A} = \n",
    "\\begin{bmatrix}\n",
    "\\mathbf{a}_{1}  \\\\\n",
    "\\mathbf{a}_{2}  \\\\\n",
    "\\vdots \\\\\n",
    "\\mathbf{a}_{n}\n",
    "\\end{bmatrix}\n",
    "\\in \\mathbb{R}^{n\\times m},\n",
    "\\mathbf{a}_i = \n",
    "\\begin{bmatrix}\n",
    "a_{i1}  & a_{i2} & \\ldots & a_{im}\n",
    "\\end{bmatrix}\\in \\mathbb{R}^{1\\times m},\n",
    "$\n",
    "\n",
    "$\\mathbf{B} = \n",
    "\\begin{bmatrix}\n",
    "\\mathbf{b}_{1}  & \\mathbf{b}_{2} & \\ldots & \\mathbf{b}_{p}\n",
    "\\end{bmatrix}\\in \\mathbb{R}^{m\\times p},\n",
    "\\mathbf{b}_j = \n",
    "\\begin{bmatrix}\n",
    "b_{1j}  \\\\\n",
    "b_{2j}  \\\\\n",
    "\\vdots \\\\\n",
    "b_{mj}\n",
    "\\end{bmatrix}\n",
    "\\in \\mathbb{R}^{m\\times 1}\n",
    "$\n"
   ]
  },
  {
   "cell_type": "markdown",
   "metadata": {},
   "source": [
    "$\\mathbf{A}\\mathbf{B} = \\begin{bmatrix}\n",
    "\\mathbf{a}_{1}  \\\\\n",
    "\\mathbf{a}_{2}  \\\\\n",
    "\\vdots \\\\\n",
    "\\mathbf{a}_{n}\n",
    "\\end{bmatrix}\n",
    "\\begin{bmatrix}\n",
    "\\mathbf{b}_{1}  & \\mathbf{b}_{2} & \\ldots & \\mathbf{b}_{p}\n",
    "\\end{bmatrix}=\n",
    "\\begin{bmatrix}\n",
    "\\mathbf{a}_{1}\\mathbf{b}_{1}  & \\mathbf{a}_{1}\\mathbf{b}_{2} & \\ldots & \\mathbf{a}_{1}\\mathbf{b}_{p} \\\\\n",
    "\\mathbf{a}_{2}\\mathbf{b}_{1}  & \\mathbf{a}_{2}\\mathbf{b}_{2} & \\ldots & \\mathbf{a}_{2}\\mathbf{b}_{p} \\\\\n",
    "\\vdots  &  \\vdots  & \\ddots &  \\vdots\\\\\n",
    "\\mathbf{a}_{n}\\mathbf{b}_{1}  & \\mathbf{a}_{n}\\mathbf{b}_{2} & \\ldots & \\mathbf{a}_{n}\\mathbf{b}_{p} \\\\\n",
    "\\end{bmatrix} \\in \\mathbb{R}^{n\\times p}\n",
    "$"
   ]
  },
  {
   "cell_type": "markdown",
   "metadata": {},
   "source": [
    "where each of the entries is the cross product of a row of the first matrix and a column of the second: \n",
    "\n",
    "$\\mathbf{a}_i \\mathbf{b}_j = \n",
    "\\begin{bmatrix}\n",
    "a_{i1} & a_{i2} & \\ldots & a_{im}\n",
    "\\end{bmatrix}\n",
    "\\begin{bmatrix}\n",
    "b_{1j}  \\\\\n",
    "b_{2j}  \\\\\n",
    "\\vdots  \\\\\n",
    "b_{mj}\n",
    "\\end{bmatrix} = a_{i1}b_{1j}+a_{i2}b_{2j}+\\ldots +a_{im}b_{mj} \\in \\mathbb{R}$\n",
    "\n",
    "From Python 3.5, the \"@\" symbol is defined as a matrix multiplication operator.\n",
    "(On older Python versions matrix multiplication is done using the np.dot() function.)"
   ]
  },
  {
   "cell_type": "code",
   "execution_count": 147,
   "metadata": {
    "collapsed": false
   },
   "outputs": [
    {
     "name": "stdout",
     "output_type": "stream",
     "text": [
      "A =\n",
      "\n",
      "   5   1\n",
      "   3   2\n",
      "   3   0\n",
      "\n"
     ]
    }
   ],
   "source": [
    "A = randi([0 5],3, 2) % creates random matrix with integer entries (from 0-5) and size (3,2)"
   ]
  },
  {
   "cell_type": "code",
   "execution_count": 148,
   "metadata": {
    "collapsed": false
   },
   "outputs": [
    {
     "name": "stdout",
     "output_type": "stream",
     "text": [
      "B =\n",
      "\n",
      "   3   4   4   4\n",
      "   5   2   4   5\n",
      "\n"
     ]
    }
   ],
   "source": [
    "B = randi([0 5],2, 4) % creates random matrix with integer entries (from 0-5) and size (2,4)"
   ]
  },
  {
   "cell_type": "code",
   "execution_count": 149,
   "metadata": {
    "collapsed": false
   },
   "outputs": [
    {
     "name": "stdout",
     "output_type": "stream",
     "text": [
      "ans =\n",
      "\n",
      "   20   22   24   25\n",
      "   19   16   20   22\n",
      "    9   12   12   12\n",
      "\n"
     ]
    }
   ],
   "source": [
    "A*B % matrix multiplication of a (3,2) and (2,4) matrix, the result is a (3,4) matrix"
   ]
  },
  {
   "cell_type": "code",
   "execution_count": 150,
   "metadata": {
    "collapsed": false
   },
   "outputs": [
    {
     "name": "stdout",
     "output_type": "stream",
     "text": [
      "error: operator *: nonconformant arguments (op1 is 2x4, op2 is 3x2)\r\n"
     ]
    }
   ],
   "source": [
    "B*A % matrix multiplication of a (2,4) and (3,2) matrix. \n",
    "% this produces an error as dimensions do not match, multiplication is not defined"
   ]
  },
  {
   "cell_type": "code",
   "execution_count": 120,
   "metadata": {
    "collapsed": false
   },
   "outputs": [
    {
     "name": "stdout",
     "output_type": "stream",
     "text": [
      "ans =\n",
      "\n",
      "   10   11    0\n",
      "   11   29    0\n",
      "    0    0    0\n",
      "\n"
     ]
    }
   ],
   "source": [
    "A*A' % matrix multiplication of a (3,2) and (2,3) matrix, the result is a (3,3) matrix"
   ]
  },
  {
   "cell_type": "code",
   "execution_count": 151,
   "metadata": {
    "collapsed": false
   },
   "outputs": [
    {
     "name": "stdout",
     "output_type": "stream",
     "text": [
      "ans =\n",
      "\n",
      "   43   11\n",
      "   11    5\n",
      "\n"
     ]
    }
   ],
   "source": [
    "A'*A % matrix multiplication of a (2,3) and (3,2) matrix, the result is a (2,2) matrix"
   ]
  },
  {
   "cell_type": "markdown",
   "metadata": {},
   "source": [
    "$\\mathbf{A} \\in \\mathbb{R}^{n\\times m}, \\mathbf{B} \\in \\mathbb{R}^{m\\times p}\n",
    "\\Longrightarrow (\\mathbf{A}\\mathbf{B})^T = \\mathbf{B}^T\\mathbf{A}^T\\in \\mathbb{R}^{p\\times n}\n",
    "$\n",
    "\n",
    "$\\mathbf{A} \\in \\mathbb{R}^{n\\times m}, \\mathbf{B} \\in \\mathbb{R}^{m\\times p},\n",
    "\\mathbf{C} \\in \\mathbb{R}^{p\\times q}\n",
    "\\Longrightarrow (\\mathbf{A}\\mathbf{B}\\mathbf{C})^T= \\mathbf{C}^T\\mathbf{B}^T\\mathbf{A}^T \n",
    "\\in \\mathbb{R}^{q\\times n}\n",
    "$"
   ]
  },
  {
   "cell_type": "code",
   "execution_count": 121,
   "metadata": {
    "collapsed": false
   },
   "outputs": [
    {
     "name": "stdout",
     "output_type": "stream",
     "text": [
      "ans =\n",
      "\n",
      "   12   21    0\n",
      "   11   16    0\n",
      "    7   22    0\n",
      "    6    4    0\n",
      "\n"
     ]
    }
   ],
   "source": [
    "(A*B)'"
   ]
  },
  {
   "cell_type": "code",
   "execution_count": 122,
   "metadata": {
    "collapsed": false
   },
   "outputs": [
    {
     "name": "stdout",
     "output_type": "stream",
     "text": [
      "ans =\n",
      "\n",
      "   12   21    0\n",
      "   11   16    0\n",
      "    7   22    0\n",
      "    6    4    0\n",
      "\n"
     ]
    }
   ],
   "source": [
    "B'*A'"
   ]
  },
  {
   "cell_type": "code",
   "execution_count": 123,
   "metadata": {
    "collapsed": false
   },
   "outputs": [
    {
     "name": "stdout",
     "output_type": "stream",
     "text": [
      "C =\n",
      "\n",
      "   5   1   1   1   4\n",
      "   2   2   1   1   5\n",
      "   4   1   1   3   0\n",
      "   3   2   4   5   0\n",
      "\n"
     ]
    }
   ],
   "source": [
    "C = randi([0 5],4, 5)"
   ]
  },
  {
   "cell_type": "code",
   "execution_count": 124,
   "metadata": {
    "collapsed": false
   },
   "outputs": [
    {
     "name": "stdout",
     "output_type": "stream",
     "text": [
      "ans =\n",
      "\n",
      "   128   237     0\n",
      "    53    83     0\n",
      "    54    75     0\n",
      "    74   123     0\n",
      "   103   164     0\n",
      "\n"
     ]
    }
   ],
   "source": [
    "(A*B*C)'"
   ]
  },
  {
   "cell_type": "code",
   "execution_count": 125,
   "metadata": {
    "collapsed": false
   },
   "outputs": [
    {
     "name": "stdout",
     "output_type": "stream",
     "text": [
      "ans =\n",
      "\n",
      "   128   237     0\n",
      "    53    83     0\n",
      "    54    75     0\n",
      "    74   123     0\n",
      "   103   164     0\n",
      "\n"
     ]
    }
   ],
   "source": [
    "C'*B'*A'"
   ]
  },
  {
   "cell_type": "markdown",
   "metadata": {},
   "source": [
    "## Matrix identity\n",
    "\n",
    "Diagonal square matrix with all elements equal to $1$. \n",
    "\n",
    "$\\mathbf{I}_2 = \n",
    "\\begin{bmatrix}\n",
    "1 &   0 \\\\\n",
    "0 & 1\n",
    "\\end{bmatrix} \\in \\mathbb{R}^{2\\times 2}\n",
    "$ \n",
    "\n",
    "$\\mathbf{I}_3 = \n",
    "\\begin{bmatrix}\n",
    "1 &   0  & 0 \\\\\n",
    "0  &   1&  0 \\\\\n",
    "0 & 0 & 1\n",
    "\\end{bmatrix} \\in \\mathbb{R}^{3\\times 3}\n",
    "$ \n",
    "\n",
    "$\\mathbf{I}_n = \n",
    "\\begin{bmatrix}\n",
    "1 &   \\ldots & 0 \\\\\n",
    "\\vdots  &   \\ddots &  \\vdots \\\\\n",
    "0 & \\ldots & 1\n",
    "\\end{bmatrix} \\in \\mathbb{R}^{n\\times n}\n",
    "$ \n",
    "\n",
    "$\\mathbf{A} \\in \\mathbb{R}^{n\\times n}\n",
    "\\Longrightarrow \\mathbf{A}\\mathbf{I}_n = \\mathbf{I}_n\\mathbf{A} = \\mathbf{A}\n",
    "$\n",
    "\n",
    "$\\mathbf{A} \\in \\mathbb{R}^{n\\times m}\n",
    "\\Longrightarrow \\mathbf{A}\\mathbf{I}_m = \\mathbf{I}_n\\mathbf{A} = \\mathbf{A}\n",
    "$\n",
    "\n",
    "Note: sometimes identity matrix simply denoted by $\\mathbf{I}$"
   ]
  },
  {
   "cell_type": "code",
   "execution_count": 126,
   "metadata": {
    "collapsed": false
   },
   "outputs": [
    {
     "name": "stdout",
     "output_type": "stream",
     "text": [
      "I =\n",
      "\n",
      "Diagonal Matrix\n",
      "\n",
      "   1   0   0   0\n",
      "   0   1   0   0\n",
      "   0   0   1   0\n",
      "   0   0   0   1\n",
      "\n"
     ]
    }
   ],
   "source": [
    "I = eye(4) % identity matrix of dimension 4"
   ]
  },
  {
   "cell_type": "code",
   "execution_count": 127,
   "metadata": {
    "collapsed": false
   },
   "outputs": [
    {
     "name": "stdout",
     "output_type": "stream",
     "text": [
      "A =\n",
      "\n",
      "   2   1   3   3\n",
      "   5   1   1   3\n",
      "   5   1   5   1\n",
      "   3   3   0   1\n",
      "\n"
     ]
    }
   ],
   "source": [
    "A = randi([0 5],4,4) % random matrix size (4x4)"
   ]
  },
  {
   "cell_type": "code",
   "execution_count": 128,
   "metadata": {
    "collapsed": false
   },
   "outputs": [
    {
     "name": "stdout",
     "output_type": "stream",
     "text": [
      "ans =\n",
      "\n",
      "   2   1   3   3\n",
      "   5   1   1   3\n",
      "   5   1   5   1\n",
      "   3   3   0   1\n",
      "\n"
     ]
    }
   ],
   "source": [
    "A*I"
   ]
  },
  {
   "cell_type": "code",
   "execution_count": 129,
   "metadata": {
    "collapsed": false
   },
   "outputs": [
    {
     "name": "stdout",
     "output_type": "stream",
     "text": [
      "ans =\n",
      "\n",
      "   2   1   3   3\n",
      "   5   1   1   3\n",
      "   5   1   5   1\n",
      "   3   3   0   1\n",
      "\n"
     ]
    }
   ],
   "source": [
    "I*A"
   ]
  },
  {
   "cell_type": "markdown",
   "metadata": {},
   "source": [
    "## Matrix inversion\n",
    "\n",
    "Matrix inverse is only defined for non-singular square matrices (with non zero determinant).\n",
    "\n",
    "$\\mathbf{A}\\in \\mathbb{R}^{n\\times n}$\n",
    "\n",
    "$\\mathbf{A}^{-1}\\in \\mathbb{R}^{n\\times n}$, defined only if $\\det(\\mathbf{A})\\neq 0$\n",
    "\n",
    "$\\mathbf{A}\\mathbf{A}^{-1} = \\mathbf{A}^{-1}\\mathbf{A} = \\mathbf{I}_n$\n",
    "\n"
   ]
  },
  {
   "cell_type": "code",
   "execution_count": 152,
   "metadata": {
    "collapsed": false
   },
   "outputs": [
    {
     "name": "stdout",
     "output_type": "stream",
     "text": [
      "A =\n",
      "\n",
      "   0.672029   0.091521   0.599271   0.905553\n",
      "   0.486896  -0.114473  -1.203302  -0.357947\n",
      "  -0.165109  -1.676208   1.852309   0.376673\n",
      "   1.050258   2.051913   0.754916   1.591952\n",
      "\n"
     ]
    }
   ],
   "source": [
    "A = randn(4,4)"
   ]
  },
  {
   "cell_type": "code",
   "execution_count": 153,
   "metadata": {
    "collapsed": false
   },
   "outputs": [
    {
     "name": "stdout",
     "output_type": "stream",
     "text": [
      "Ainv =\n",
      "\n",
      "  -3.46393   3.00206   2.20540   2.12357\n",
      "  -1.63943   0.40873   0.41878   0.92537\n",
      "  -2.97349   1.26979   1.68338   1.57862\n",
      "   5.80842  -3.10951  -2.79302  -2.71416\n",
      "\n"
     ]
    }
   ],
   "source": [
    "Ainv = inv(A) % matrix inverse"
   ]
  },
  {
   "cell_type": "code",
   "execution_count": 154,
   "metadata": {
    "collapsed": false
   },
   "outputs": [
    {
     "name": "stdout",
     "output_type": "stream",
     "text": [
      "ans =\n",
      "\n",
      "   1.0000e+00   3.9909e-16  -4.7531e-16  -6.0870e-16\n",
      "  -5.7502e-16   1.0000e+00   4.7622e-16   4.8470e-16\n",
      "   5.5442e-16  -5.3778e-16   1.0000e+00  -2.9541e-16\n",
      "   3.1072e-16  -7.0876e-17   2.5766e-18   1.0000e+00\n",
      "\n"
     ]
    }
   ],
   "source": [
    "A*Ainv % the result is the identity matrix except for numerical accuracy in the order 10e-16"
   ]
  },
  {
   "cell_type": "code",
   "execution_count": 155,
   "metadata": {
    "collapsed": false
   },
   "outputs": [
    {
     "name": "stdout",
     "output_type": "stream",
     "text": [
      "ans =\n",
      "\n",
      "   1.0000e+00  -2.9173e-16  -7.8523e-16  -1.0012e-15\n",
      "  -1.8280e-16   1.0000e+00  -2.1880e-16  -5.2876e-16\n",
      "   9.7982e-17  -5.9061e-17   1.0000e+00  -4.5449e-16\n",
      "  -4.2116e-16  -2.0729e-17  -7.6504e-16   1.0000e+00\n",
      "\n"
     ]
    }
   ],
   "source": [
    "Ainv*A % the result is the identity matrix except for numerical accuracy in the order 10e-16 "
   ]
  },
  {
   "cell_type": "code",
   "execution_count": 159,
   "metadata": {
    "collapsed": false
   },
   "outputs": [],
   "source": [
    "A = randn(20,20); % 100x100 random matrix entries uniformly distributed between [0,1]"
   ]
  },
  {
   "cell_type": "code",
   "execution_count": 160,
   "metadata": {
    "collapsed": false
   },
   "outputs": [],
   "source": [
    "Ainv = inv(A); % inverse of a 100x100 matrix, don't try to do this by hand..."
   ]
  },
  {
   "cell_type": "code",
   "execution_count": 161,
   "metadata": {
    "collapsed": false
   },
   "outputs": [
    {
     "name": "stdout",
     "output_type": "stream",
     "text": [
      "ans =\n",
      "\n",
      " Columns 1 through 6:\n",
      "\n",
      "   1.0000e+00  -1.0946e-15  -5.2206e-16  -4.4461e-16   7.2373e-16  -2.7917e-16\n",
      "  -1.3371e-15   1.0000e+00  -1.0646e-16  -8.2407e-17  -3.4597e-16  -3.5297e-17\n",
      "   1.3875e-15   1.1434e-17   1.0000e+00  -3.2008e-16   7.1481e-16  -2.9879e-16\n",
      "   9.3634e-16  -9.2360e-16   1.2442e-16   1.0000e+00   6.8553e-16  -5.7140e-16\n",
      "   4.0832e-17   9.2104e-16   5.3221e-16  -4.0761e-16   1.0000e+00   2.0486e-16\n",
      "   6.7932e-16  -1.0576e-15  -2.6496e-17  -5.7844e-16   6.3912e-16   1.0000e+00\n",
      "   2.6634e-15  -1.0138e-15  -3.9437e-16  -6.1690e-16   9.2871e-16   1.1213e-16\n",
      "  -5.3872e-16   2.4123e-16  -1.3459e-17   5.1492e-16   2.7629e-16  -4.5159e-17\n",
      "  -2.0006e-15   9.4678e-16   2.5433e-17   8.6855e-16  -9.9112e-16   1.0535e-16\n",
      "  -1.3767e-15   1.0751e-15   2.4935e-16   5.3911e-16  -3.7827e-16   2.6551e-16\n",
      "   1.7422e-15  -1.0442e-15  -3.8894e-16  -5.1830e-16   7.4855e-16  -2.5421e-16\n",
      "   2.6628e-17   4.5870e-16   7.0048e-16  -2.6733e-16  -3.1295e-16   1.4332e-16\n",
      "   4.9203e-16  -9.3813e-17   2.6234e-16  -8.7362e-16   3.5409e-16   2.3035e-16\n",
      "   9.8452e-16  -2.2154e-16  -1.7406e-16   6.5003e-17  -1.4882e-16  -8.9639e-17\n",
      "  -1.5533e-15   1.8794e-15   8.3326e-17   1.0719e-15  -5.1399e-16   3.8811e-16\n",
      "   4.2010e-16  -1.5037e-15  -7.2714e-16  -5.7751e-16   9.0614e-16  -4.4451e-16\n",
      "  -5.1580e-16  -8.4631e-16  -7.4506e-16   7.5167e-17   1.1272e-15  -2.5439e-17\n",
      "  -1.4441e-15   1.6263e-15   6.5419e-16   7.7088e-16  -8.6490e-16   2.4095e-16\n",
      "   2.8256e-16  -1.6720e-16   4.0668e-16  -3.3018e-16  -6.1346e-17  -2.2089e-16\n",
      "   2.5103e-15  -1.7494e-15  -4.7993e-16  -1.1401e-15   1.4271e-15  -2.9196e-16\n",
      "\n",
      " Columns 7 through 12:\n",
      "\n",
      "   4.7230e-16   8.3426e-16   1.6189e-16   1.1761e-15  -3.0072e-18   1.9604e-16\n",
      "   5.1847e-18  -2.4837e-16  -1.0795e-16  -1.1790e-15   1.8090e-16  -2.3130e-16\n",
      "   5.7435e-16   2.4815e-16  -1.1608e-16   6.7850e-16  -3.8728e-16   1.1141e-16\n",
      "   7.3125e-16   2.8468e-16   1.2866e-17   1.4301e-15  -4.7884e-16   2.7915e-16\n",
      "  -3.0346e-16  -7.7258e-16  -5.8982e-16  -4.3842e-16  -7.3552e-17  -3.8140e-16\n",
      "   1.6357e-16   5.3933e-16   2.6423e-16   1.9246e-15  -2.0843e-16   6.8832e-16\n",
      "   1.0000e+00   7.9855e-16   6.1509e-16   8.3907e-16   3.9754e-17   3.5953e-16\n",
      "   1.4901e-17   1.0000e+00   1.4373e-17   1.1714e-16  -2.7707e-16  -6.6425e-17\n",
      "  -2.4428e-16  -2.9382e-16   1.0000e+00  -8.8376e-16   1.8069e-16  -6.5772e-16\n",
      "  -2.6203e-16  -3.5800e-16   1.3351e-17   1.0000e+00   2.2378e-16  -6.3638e-17\n",
      "   2.6493e-16   5.9595e-16  -7.5652e-17   5.1847e-16   1.0000e+00   3.4003e-16\n",
      "   1.5766e-16  -4.0111e-16  -1.5962e-16   9.8988e-17  -3.0767e-16   1.0000e+00\n",
      "   1.0443e-16  -1.5489e-18  -6.1934e-16   3.4694e-16  -1.0333e-16   1.6257e-16\n",
      "   5.6534e-17   7.2121e-17   4.1758e-17  -2.4656e-16  -3.3094e-16   1.1675e-16\n",
      "  -4.6211e-16  -4.4838e-16  -1.4811e-16  -8.6204e-16   1.6023e-16  -5.5930e-16\n",
      "   7.1128e-16   6.4588e-16  -3.3972e-16   5.3428e-16  -4.8851e-17   7.3696e-16\n",
      "   1.8681e-16   9.8005e-16   3.7028e-16   6.3763e-16   2.2698e-16   3.1330e-16\n",
      "  -1.2313e-16  -7.9211e-16  -1.8007e-16  -6.1527e-16  -1.2227e-16  -4.4211e-16\n",
      "   1.1872e-16   1.1439e-16  -1.5218e-16   2.2392e-16  -1.4330e-16   6.0741e-16\n",
      "   1.6638e-16   9.1121e-16   2.2920e-16   1.9446e-15   2.1854e-16   1.0390e-15\n",
      "\n",
      " Columns 13 through 18:\n",
      "\n",
      "  -4.8015e-16  -5.0208e-16  -2.0578e-16   5.7661e-16  -7.3348e-16  -6.2949e-16\n",
      "   4.6090e-16   1.0053e-16   2.7174e-16  -7.7189e-16   3.9535e-16   2.6760e-16\n",
      "  -6.6900e-16  -1.0245e-16   3.6790e-17   6.3447e-16  -2.4454e-16  -4.0227e-16\n",
      "  -3.2430e-16  -3.4887e-16  -6.3984e-16   3.2598e-16  -4.3443e-16  -1.2499e-15\n",
      "   1.9729e-16   5.3980e-16  -1.5452e-16  -5.1601e-16   4.3191e-16  -1.2376e-16\n",
      "  -2.8240e-16  -2.2920e-16  -2.0988e-16   3.1121e-16  -3.1654e-16  -2.3709e-16\n",
      "  -3.9989e-16  -5.3722e-16  -3.5843e-16   1.1194e-15  -6.0903e-16   5.0786e-16\n",
      "   3.3860e-16  -4.9521e-18  -7.9512e-17   2.1997e-16  -5.7015e-17  -4.8091e-16\n",
      "   8.1231e-16   2.5508e-16   2.6334e-16  -7.3958e-16   3.1147e-16   1.2035e-15\n",
      "   6.3656e-17   6.2419e-16   4.1977e-17  -4.5972e-16   2.1032e-16   5.5971e-16\n",
      "  -6.2557e-16  -4.5449e-16  -9.1296e-18   5.9042e-16  -4.1613e-16  -4.7026e-16\n",
      "  -6.5507e-17   1.6925e-16  -4.7980e-16  -5.9474e-16  -1.6632e-16  -4.2460e-16\n",
      "   1.0000e+00   3.4044e-16  -1.0627e-16  -3.1962e-16  -1.0422e-16  -9.2685e-16\n",
      "   7.4458e-17   1.0000e+00  -3.9711e-17  -1.9182e-16  -4.6651e-17  -3.2872e-17\n",
      "   7.8921e-16   4.1768e-16   1.0000e+00  -2.3053e-16   3.3674e-16   2.5876e-16\n",
      "  -3.5357e-16  -9.8873e-16  -2.1480e-16   1.0000e+00  -3.1166e-16  -1.1799e-15\n",
      "  -5.2336e-16  -8.6984e-16  -3.2352e-16   1.4561e-15   1.0000e+00   5.5300e-16\n",
      "   2.4682e-16   7.9129e-16   5.4362e-16  -1.0795e-15   5.6041e-16   1.0000e+00\n",
      "  -2.7731e-16   6.7838e-17  -3.3461e-16  -1.3786e-16   3.4880e-17  -7.7986e-16\n",
      "  -1.0919e-15  -7.4906e-16  -6.4207e-16   1.5493e-15  -7.8303e-16  -2.5581e-16\n",
      "\n",
      " Columns 19 and 20:\n",
      "\n",
      "  -5.6165e-16   2.0956e-16\n",
      "   2.2590e-16   1.4836e-17\n",
      "  -4.6934e-16   2.2750e-17\n",
      "  -4.6395e-16   1.0441e-16\n",
      "   3.0868e-16  -3.0853e-16\n",
      "  -1.5531e-16   2.0093e-16\n",
      "  -4.4234e-16   3.8786e-16\n",
      "  -9.5706e-17   6.9190e-17\n",
      "   3.3451e-16   1.2817e-16\n",
      "   4.0036e-16   9.6995e-17\n",
      "  -4.5067e-16   1.2625e-16\n",
      "   1.1942e-16  -2.3445e-16\n",
      "  -5.5120e-17   2.0724e-16\n",
      "  -5.0620e-17   7.5749e-17\n",
      "   3.2950e-16   9.4927e-17\n",
      "  -5.5204e-16   1.1257e-16\n",
      "  -3.2009e-16   4.6026e-16\n",
      "   4.4594e-16  -1.1495e-16\n",
      "   1.0000e+00  -1.7247e-16\n",
      "  -4.0703e-16   1.0000e+00\n",
      "\n"
     ]
    }
   ],
   "source": [
    "A*Ainv"
   ]
  },
  {
   "cell_type": "code",
   "execution_count": 170,
   "metadata": {
    "collapsed": false
   },
   "outputs": [
    {
     "data": {
      "image/png": "[encoded data removed]",
      "text/plain": [
       "<IPython.core.display.Image object>"
      ]
     },
     "metadata": {},
     "output_type": "display_data"
    }
   ],
   "source": [
    "figure()\n",
    "subplot(1,3,1)\n",
    "imshow(A)\n",
    "subplot(1,3,2)\n",
    "imshow(Ainv)\n",
    "subplot(1,3,3)\n",
    "imshow(A*Ainv)"
   ]
  },
  {
   "cell_type": "markdown",
   "metadata": {},
   "source": [
    "## Eigenvalues and eigenvectors\n",
    "\n"
   ]
  },
  {
   "cell_type": "code",
   "execution_count": 137,
   "metadata": {
    "collapsed": false
   },
   "outputs": [
    {
     "name": "stdout",
     "output_type": "stream",
     "text": [
      "parse error:\n",
      "\n",
      "  syntax error\n",
      "\n",
      ">>> A = np.diag((1, 4, -2))\n",
      "                  ^\n",
      "\n",
      "error: strtrim: S argument must be a string or cellstring\n",
      "error: called from\n",
      "    strtrim at line 74 column 5\n",
      "    __print_parse_opts__ at line 81 column 9\n",
      "    print at line 291 column 8\n"
     ]
    }
   ],
   "source": [
    "A = np.diag((1, 4, -2))\n",
    "print(A)"
   ]
  },
  {
   "cell_type": "code",
   "execution_count": 138,
   "metadata": {
    "collapsed": false
   },
   "outputs": [
    {
     "name": "stdout",
     "output_type": "stream",
     "text": [
      "error: 'd' undefined near line 1 column 1\r\n"
     ]
    }
   ],
   "source": [
    "d, V = np.linalg.eig(A)"
   ]
  },
  {
   "cell_type": "code",
   "execution_count": 139,
   "metadata": {
    "collapsed": false
   },
   "outputs": [
    {
     "name": "stdout",
     "output_type": "stream",
     "text": [
      "error: 'd' undefined near line 1 column 7\n",
      "error: evaluating argument list element number 1\n"
     ]
    }
   ],
   "source": [
    "print(d) # eigenvalues"
   ]
  },
  {
   "cell_type": "code",
   "execution_count": 140,
   "metadata": {
    "collapsed": false
   },
   "outputs": [
    {
     "name": "stdout",
     "output_type": "stream",
     "text": [
      "error: 'V' undefined near line 1 column 7\n",
      "error: evaluating argument list element number 1\n"
     ]
    }
   ],
   "source": [
    "print(V) # eigenvectors, the matrix was already diagonal"
   ]
  },
  {
   "cell_type": "code",
   "execution_count": 141,
   "metadata": {
    "collapsed": false
   },
   "outputs": [
    {
     "name": "stdout",
     "output_type": "stream",
     "text": [
      "error: 'np' undefined near line 1 column 5\n",
      "error: strtrim: S argument must be a string or cellstring\n",
      "error: called from\n",
      "    strtrim at line 74 column 5\n",
      "    __print_parse_opts__ at line 81 column 9\n",
      "    print at line 291 column 8\n"
     ]
    }
   ],
   "source": [
    "A = np.random.rand(3,3)\n",
    "print(A)"
   ]
  },
  {
   "cell_type": "code",
   "execution_count": 142,
   "metadata": {
    "collapsed": false
   },
   "outputs": [
    {
     "name": "stdout",
     "output_type": "stream",
     "text": [
      "error: 'd' undefined near line 1 column 1\n",
      "error: 'd' undefined near line 1 column 7\n",
      "error: evaluating argument list element number 1\n"
     ]
    }
   ],
   "source": [
    "d, V = np.linalg.eig(A)\n",
    "print(d)"
   ]
  },
  {
   "cell_type": "code",
   "execution_count": 143,
   "metadata": {
    "collapsed": false
   },
   "outputs": [
    {
     "name": "stdout",
     "output_type": "stream",
     "text": [
      "error: 'V' undefined near line 1 column 7\n",
      "error: evaluating argument list element number 1\n"
     ]
    }
   ],
   "source": [
    "print(V)"
   ]
  },
  {
   "cell_type": "code",
   "execution_count": 144,
   "metadata": {
    "collapsed": false
   },
   "outputs": [
    {
     "name": "stdout",
     "output_type": "stream",
     "text": [
      "error: 'np' undefined near line 1 column 5\n",
      "error: 'D' undefined near line 1 column 7\n",
      "error: evaluating argument list element number 1\n"
     ]
    }
   ],
   "source": [
    "D = np.diag(d)\n",
    "print(D)"
   ]
  },
  {
   "cell_type": "code",
   "execution_count": 145,
   "metadata": {
    "collapsed": false
   },
   "outputs": [
    {
     "name": "stdout",
     "output_type": "stream",
     "text": [
      "parse error:\n",
      "\n",
      "  syntax error\n",
      "\n",
      ">>> V @ D @ np.linalg.inv(V) # A = V*D*V^{-1}\n",
      "      ^\n",
      "\n"
     ]
    }
   ],
   "source": [
    "V @ D @ np.linalg.inv(V) # A = V*D*V^{-1}"
   ]
  },
  {
   "cell_type": "code",
   "execution_count": null,
   "metadata": {
    "collapsed": true
   },
   "outputs": [],
   "source": []
  }
 ],
 "metadata": {
  "kernelspec": {
   "display_name": "Octave",
   "language": "octave",
   "name": "octave"
  },
  "language_info": {
   "file_extension": ".m",
   "help_links": [
    {
     "text": "MetaKernel Magics",
     "url": "https://github.com/calysto/metakernel/blob/master/metakernel/magics/README.md"
    }
   ],
   "mimetype": "text/x-octave",
   "name": "octave",
   "version": "0.15.7"
  }
 },
 "nbformat": 4,
 "nbformat_minor": 0
}
