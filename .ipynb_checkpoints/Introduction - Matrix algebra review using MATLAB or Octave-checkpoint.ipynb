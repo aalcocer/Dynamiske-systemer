{
 "cells": [
  {
   "cell_type": "markdown",
   "metadata": {},
   "source": [
    "# Introduction - Matrix algebra review using MATLAB/Octave"
   ]
  },
  {
   "cell_type": "markdown",
   "metadata": {
    "collapsed": true
   },
   "source": [
    "This page contains some basic reminder of matrix algebra using MATLAB/Octave.\n",
    "\n",
    "Matrix with real elements:\n",
    "$ \\mathbf{A} = \\begin{bmatrix}\n",
    "a_{11}  & a_{12} & \\ldots & a_{1m} \\\\\n",
    "a_{21}  & a_{22} & \\ldots & a_{2m} \\\\        \n",
    "\\vdots  &  \\vdots  & \\ddots &  \\vdots\\\\\n",
    "a_{n1}  & a_{n2} &  \\ldots & a_{nm}     \n",
    "\\end{bmatrix} \\in \\mathbb{R}^{n\\times m}$\n",
    "\n",
    "The first index $n$ is the number of rows.  \n",
    "The second index $m$ is the number of columns\n",
    "\n",
    "Column vector of dimension $n$:\n",
    "$\\mathbf{a} = \n",
    "\\begin{bmatrix}\n",
    "a_{1}  \\\\\n",
    "a_{2}  \\\\\n",
    "\\vdots \\\\\n",
    "a_{n}  \\\\\n",
    "\\end{bmatrix} \\in \\mathbb{R}^{n\\times 1}\n",
    "$\n",
    "\n",
    "Row vector of dimension $m$:\n",
    "\n",
    "$\\mathbf{b} = \n",
    "\\begin{bmatrix}\n",
    "b_1  & b_2 & \\ldots b_{m} \n",
    "\\end{bmatrix} \\in \\mathbb{R}^{1\\times m}\n",
    "$\n"
   ]
  },
  {
   "cell_type": "code",
   "execution_count": 55,
   "metadata": {
    "collapsed": false
   },
   "outputs": [
    {
     "name": "stdout",
     "output_type": "stream",
     "text": [
      "A =\n",
      "\n",
      "   0.65271   0.27405\n",
      "  -0.86378   1.81393\n",
      "   0.76264  -0.40179\n",
      "\n"
     ]
    }
   ],
   "source": [
    "A = randn(3, 2) % creates random matrix with integer entries (from 0-9) and size (3,2)"
   ]
  },
  {
   "cell_type": "code",
   "execution_count": 57,
   "metadata": {
    "collapsed": false
   },
   "outputs": [
    {
     "name": "stdout",
     "output_type": "stream",
     "text": [
      "a =\n",
      "\n",
      "   1\n",
      "   2\n",
      "   4\n",
      "   6\n",
      "   5\n",
      "\n"
     ]
    }
   ],
   "source": [
    "a = [1; 2; 4; 6; 5] % column vector of dimension (5,1)"
   ]
  },
  {
   "cell_type": "code",
   "execution_count": 64,
   "metadata": {
    "collapsed": false
   },
   "outputs": [
    {
     "name": "stdout",
     "output_type": "stream",
     "text": [
      "ans =\n",
      "\n",
      "   5   1\n",
      "\n"
     ]
    }
   ],
   "source": [
    "size(a)"
   ]
  },
  {
   "cell_type": "code",
   "execution_count": 58,
   "metadata": {
    "collapsed": false
   },
   "outputs": [
    {
     "name": "stdout",
     "output_type": "stream",
     "text": [
      "b =\n",
      "\n",
      "   1   2   4   6   5\n",
      "\n"
     ]
    }
   ],
   "source": [
    "b = [1 2 4 6 5] % row vector of dimension (1,5)"
   ]
  },
  {
   "cell_type": "code",
   "execution_count": null,
   "metadata": {
    "collapsed": true
   },
   "outputs": [],
   "source": []
  },
  {
   "cell_type": "code",
   "execution_count": 59,
   "metadata": {
    "collapsed": false
   },
   "outputs": [
    {
     "name": "stdout",
     "output_type": "stream",
     "text": [
      "ans =\n",
      "\n",
      "   0\n",
      "   0\n",
      "   0\n",
      "   0\n",
      "   0\n",
      "\n"
     ]
    }
   ],
   "source": [
    "zeros(5,1) % column vector of zeros and dimension 5x1"
   ]
  },
  {
   "cell_type": "code",
   "execution_count": 61,
   "metadata": {
    "collapsed": false
   },
   "outputs": [
    {
     "name": "stdout",
     "output_type": "stream",
     "text": [
      "ans =\n",
      "\n",
      "   1   1   1   1\n",
      "\n"
     ]
    }
   ],
   "source": [
    "ones(1,4) % row vector of ones and dimension 5x1"
   ]
  },
  {
   "cell_type": "markdown",
   "metadata": {},
   "source": [
    "## Transpose\n",
    "\n",
    "\n",
    "\n",
    "$ \\mathbf{A} = \\begin{bmatrix}\n",
    "a_{11}  & a_{12} & \\ldots & a_{1m} \\\\\n",
    "a_{21}  & a_{22} & \\ldots & a_{2m} \\\\        \n",
    "\\vdots  &  \\vdots  & \\ddots &  \\vdots\\\\\n",
    "a_{n1}  & a_{n2} &  \\ldots & a_{nm}     \n",
    "\\end{bmatrix} \\in \\mathbb{R}^{n\\times m} \\Longrightarrow\n",
    "\\mathbf{A}^T = \\begin{bmatrix}\n",
    "a_{11}  & a_{21} & \\ldots & a_{n1} \\\\\n",
    "a_{12}  & a_{22} & \\ldots & a_{n2} \\\\        \n",
    "\\vdots  &  \\vdots  & \\ddots &  \\vdots\\\\\n",
    "a_{1m}  & a_{2m} &  \\ldots & a_{nm}     \n",
    "\\end{bmatrix} \\in \\mathbb{R}^{m\\times n}$\n",
    "\n",
    "$  \\mathbf{A} = \\begin{bmatrix}\n",
    "\\mathbf{c}_{1}  & \\mathbf{c}_{1} & \\ldots & \\mathbf{c}_{m}\n",
    "\\end{bmatrix} \\in \\mathbb{R}^{n\\times m}, \n",
    "\\mathbf{c}_i = \n",
    "\\begin{bmatrix}\n",
    "a_{1i}  \\\\\n",
    "a_{2i}  \\\\\n",
    "\\vdots \\\\\n",
    "a_{ni}  \\\\\n",
    "\\end{bmatrix} \\in \\mathbb{R}^{n\\times 1}\n",
    " \\Longrightarrow\n",
    "\\mathbf{A}^T = \\begin{bmatrix}\n",
    "\\mathbf{c}^T_{1}  \\\\\n",
    "\\mathbf{c}^T_{2}  \\\\\n",
    "\\vdots \\\\\n",
    "\\mathbf{c}^T_{m}\n",
    "\\end{bmatrix} \\in \\mathbb{R}^{m\\times n},\n",
    "\\mathbf{c}^T_i = \n",
    "\\begin{bmatrix}\n",
    "a_{1i}  & a_{2i} & \\ldots &a_{ni}  \n",
    "\\end{bmatrix} \\in \\mathbb{R}^{1\\times n}\n",
    "$\n",
    "\n",
    "$  \n",
    "\\mathbf{A} = \\begin{bmatrix}\n",
    "\\mathbf{r}_{1}  \\\\\n",
    "\\mathbf{r}_{2}  \\\\\n",
    "\\vdots \\\\\n",
    "\\mathbf{r}_{n}\n",
    "\\end{bmatrix}\\in \\mathbb{R}^{n\\times m},\n",
    "\\mathbf{r}_i = \n",
    "\\begin{bmatrix}\n",
    "a_{i1}  & a_{i2} & \\ldots &a_{im}  \n",
    "\\end{bmatrix} \\in \\mathbb{R}^{1\\times m}\n",
    " \\Longrightarrow\n",
    "\\mathbf{A}^T = \\begin{bmatrix}\n",
    "\\mathbf{r}^T_{1}  & \\mathbf{r}^T_{1} & \\ldots & \\mathbf{r}^T_{n}\n",
    "\\end{bmatrix} \\in \\mathbb{R}^{m\\times n},\n",
    "\\mathbf{r}^T_i = \n",
    "\\begin{bmatrix}\n",
    "a_{i1}  \\\\\n",
    "a_{i2}  \\\\\n",
    "\\vdots \\\\\n",
    "a_{im}  \\\\\n",
    "\\end{bmatrix} \\in \\mathbb{R}^{m\\times 1}\n",
    "$\n",
    "\n",
    "In numpy, a matrix transpose is indicated by \".T\" operator."
   ]
  },
  {
   "cell_type": "code",
   "execution_count": 62,
   "metadata": {
    "collapsed": false
   },
   "outputs": [
    {
     "name": "stdout",
     "output_type": "stream",
     "text": [
      "A =\n",
      "\n",
      "  -0.97062   0.38445   1.51558\n",
      "  -1.91868   0.95875  -0.79566\n",
      "  -0.21612  -0.69384  -1.71641\n",
      "  -1.59733  -0.45713   1.09963\n",
      "   0.91494   1.58325  -0.64701\n",
      "\n"
     ]
    }
   ],
   "source": [
    "A = randn(5, 3) % creates random matrix with size (5,3)"
   ]
  },
  {
   "cell_type": "code",
   "execution_count": 63,
   "metadata": {
    "collapsed": false
   },
   "outputs": [
    {
     "name": "stdout",
     "output_type": "stream",
     "text": [
      "ans =\n",
      "\n",
      "   5   3\n",
      "\n"
     ]
    }
   ],
   "source": [
    "size(A)"
   ]
  },
  {
   "cell_type": "code",
   "execution_count": 11,
   "metadata": {
    "collapsed": false
   },
   "outputs": [
    {
     "name": "stdout",
     "output_type": "stream",
     "text": [
      "error: 'A' undefined near line 1 column 1\r\n"
     ]
    }
   ],
   "source": [
    "A.T # returns matrix transpose"
   ]
  },
  {
   "cell_type": "code",
   "execution_count": 12,
   "metadata": {
    "collapsed": false
   },
   "outputs": [
    {
     "name": "stdout",
     "output_type": "stream",
     "text": [
      "error: 'A' undefined near line 1 column 1\r\n"
     ]
    }
   ],
   "source": [
    "A.T.shape"
   ]
  },
  {
   "cell_type": "code",
   "execution_count": 13,
   "metadata": {
    "collapsed": false
   },
   "outputs": [
    {
     "name": "stdout",
     "output_type": "stream",
     "text": [
      "error: 'np' undefined near line 1 column 5\n",
      "error: 'b' undefined near line 1 column 1\n"
     ]
    }
   ],
   "source": [
    "b = np.random.randn(5,1) # column vector with normally distributed random entries\n",
    "b"
   ]
  },
  {
   "cell_type": "code",
   "execution_count": 14,
   "metadata": {
    "collapsed": false
   },
   "outputs": [
    {
     "name": "stdout",
     "output_type": "stream",
     "text": [
      "error: 'b' undefined near line 1 column 1\r\n"
     ]
    }
   ],
   "source": [
    "b.T"
   ]
  },
  {
   "cell_type": "markdown",
   "metadata": {},
   "source": [
    "Remember that $(\\mathbf{A}^T)^T = \\mathbf{A}$"
   ]
  },
  {
   "cell_type": "code",
   "execution_count": 15,
   "metadata": {
    "collapsed": false
   },
   "outputs": [
    {
     "name": "stdout",
     "output_type": "stream",
     "text": [
      "error: 'b' undefined near line 1 column 1\r\n"
     ]
    }
   ],
   "source": [
    "b.T.T # b.T.T = b"
   ]
  },
  {
   "cell_type": "markdown",
   "metadata": {},
   "source": [
    "## Matrix addition\n",
    "\n",
    "Matrix sum is only defined if matrices have the same dimension\n",
    "\n",
    "$$ \\mathbf{A} = \\begin{bmatrix}\n",
    "a_{11}  & a_{12} & \\ldots & a_{1m} \\\\\n",
    "a_{21}  & a_{22} & \\ldots & a_{2m} \\\\        \n",
    "\\vdots  &  \\vdots  & \\ddots &  \\vdots\\\\\n",
    "a_{n1}  & a_{n2} &  \\ldots & a_{nm}     \n",
    "\\end{bmatrix} \\in \\mathbb{R}^{n\\times m},\n",
    " \\mathbf{B} = \\begin{bmatrix}\n",
    "b_{11}  & b_{12} & \\ldots & b_{1m} \\\\\n",
    "b_{21}  & b_{22} & \\ldots & b_{2m} \\\\        \n",
    "\\vdots  &  \\vdots  & \\ddots &  \\vdots\\\\\n",
    "b_{n1}  & b_{n2} &  \\ldots & b_{nm}     \n",
    "\\end{bmatrix} \\in \\mathbb{R}^{n\\times m}$$\n",
    "\n",
    "$$ \\mathbf{A}+\\mathbf{B} = \\begin{bmatrix}\n",
    "a_{11}+b_{11}  & a_{12}+b_{12} & \\ldots & a_{1m}+b_{1m} \\\\\n",
    "a_{21}+b_{21}  & a_{22}+b_{22} & \\ldots & a_{2m}+b_{2m} \\\\        \n",
    "\\vdots  &  \\vdots  & \\ddots &  \\vdots\\\\\n",
    "a_{n1}+b_{n1}  & a_{n2}+b_{n2} &  \\ldots & a_{nm}+b_{nm}     \n",
    "\\end{bmatrix} \\in \\mathbb{R}^{n\\times m}$$\n",
    "\n",
    "\n"
   ]
  },
  {
   "cell_type": "code",
   "execution_count": 16,
   "metadata": {
    "collapsed": false
   },
   "outputs": [
    {
     "name": "stdout",
     "output_type": "stream",
     "text": [
      "parse error:\n",
      "\n",
      "  syntax error\n",
      "\n",
      ">>> A = np.random.randint(9,size=(3, 2)) # creates random matrix with integer entries (from 0-9) and size (5,3)\n",
      "                                   ^\n",
      "\n",
      "error: 'A' undefined near line 1 column 1\n"
     ]
    }
   ],
   "source": [
    "A = np.random.randint(9,size=(3, 2)) # creates random matrix with integer entries (from 0-9) and size (5,3)\n",
    "A"
   ]
  },
  {
   "cell_type": "code",
   "execution_count": 17,
   "metadata": {
    "collapsed": false
   },
   "outputs": [
    {
     "name": "stdout",
     "output_type": "stream",
     "text": [
      "parse error:\n",
      "\n",
      "  syntax error\n",
      "\n",
      ">>> B = np.random.randint(9,size=(3, 2)) # creates random matrix with integer entries (from 0-9) and size (5,3)\n",
      "                                   ^\n",
      "\n",
      "error: 'B' undefined near line 1 column 1\n"
     ]
    }
   ],
   "source": [
    "B = np.random.randint(9,size=(3, 2)) # creates random matrix with integer entries (from 0-9) and size (5,3)\n",
    "B"
   ]
  },
  {
   "cell_type": "code",
   "execution_count": 18,
   "metadata": {
    "collapsed": false
   },
   "outputs": [
    {
     "name": "stdout",
     "output_type": "stream",
     "text": [
      "error: 'A' undefined near line 1 column 1\r\n"
     ]
    }
   ],
   "source": [
    "A+B # matrix addition"
   ]
  },
  {
   "cell_type": "markdown",
   "metadata": {},
   "source": [
    "Adding matrices of different dimension is strictly not defined. \n",
    "In numpy, it is possible to do so as far as one of the arrays has dimension 1.  \n",
    "For details see http://docs.scipy.org/doc/numpy-1.10.1/user/basics.broadcasting.html"
   ]
  },
  {
   "cell_type": "code",
   "execution_count": 19,
   "metadata": {
    "collapsed": false
   },
   "outputs": [
    {
     "name": "stdout",
     "output_type": "stream",
     "text": [
      "error: 'A' undefined near line 1 column 1\r\n"
     ]
    }
   ],
   "source": [
    "A"
   ]
  },
  {
   "cell_type": "code",
   "execution_count": 20,
   "metadata": {
    "collapsed": false
   },
   "outputs": [
    {
     "name": "stdout",
     "output_type": "stream",
     "text": [
      "error: 'A' undefined near line 1 column 1\r\n"
     ]
    }
   ],
   "source": [
    "A+1 # here there is an addition of a 3x2 matrix plus a number. The number is added to all elements"
   ]
  },
  {
   "cell_type": "code",
   "execution_count": 21,
   "metadata": {
    "collapsed": false
   },
   "outputs": [
    {
     "name": "stdout",
     "output_type": "stream",
     "text": [
      "error: 'np' undefined near line 1 column 5\n",
      "error: 'C' undefined near line 1 column 1\n"
     ]
    }
   ],
   "source": [
    "C = np.array([[1],[2],[3]]) # column vector dimension 3x1\n",
    "C"
   ]
  },
  {
   "cell_type": "code",
   "execution_count": 22,
   "metadata": {
    "collapsed": false
   },
   "outputs": [
    {
     "name": "stdout",
     "output_type": "stream",
     "text": [
      "error: 'A' undefined near line 1 column 1\r\n"
     ]
    }
   ],
   "source": [
    "A"
   ]
  },
  {
   "cell_type": "code",
   "execution_count": 23,
   "metadata": {
    "collapsed": false
   },
   "outputs": [
    {
     "name": "stdout",
     "output_type": "stream",
     "text": [
      "error: 'A' undefined near line 1 column 1\r\n"
     ]
    }
   ],
   "source": [
    "A+C # in this case the vector C is copied to match the dimension of A. Is the same as A + [C C]"
   ]
  },
  {
   "cell_type": "markdown",
   "metadata": {},
   "source": [
    "## Matrix multiplication\n",
    "\n",
    "Matrix multiplication is only defined when the number of columns of the first matrix and the rows of the second are equal. \n",
    "\n",
    "$\\mathbf{A} \\in \\mathbb{R}^{n\\times m}, \\mathbf{B} \\in \\mathbb{R}^{m\\times p}\n",
    "\\Longrightarrow \\mathbf{A}\\mathbf{B}\\in \\mathbb{R}^{n\\times p}\n",
    "$\n",
    "\n",
    "It is sometimes useful to write down the dimensions of the matrices being multiplied to verify that they are compatible and to easily determine the result matrix dimensions. For instance:\n",
    "\n",
    "$(n\\times m) \\cdot (m\\times p)\\Longrightarrow (n\\times p)$\n",
    "\n",
    "$\\mathbf{A} \\in \\mathbb{R}^{n\\times m}, \\mathbf{B} \\in \\mathbb{R}^{m\\times p},\n",
    "\\mathbf{C} \\in \\mathbb{R}^{p\\times q}\n",
    "\\Longrightarrow \\mathbf{A}\\mathbf{B}\\mathbf{C}= (\\mathbf{A}\\mathbf{B})\\mathbf{C} \n",
    "= \\mathbf{A}(\\mathbf{B}\\mathbf{C})\\in \\mathbb{R}^{n\\times q}\n",
    "$\n",
    "\n",
    "$(n\\times m) \\cdot (m\\times p)\\cdot (p\\times q)\\Longrightarrow (n\\times q)$"
   ]
  },
  {
   "cell_type": "markdown",
   "metadata": {},
   "source": [
    "One simple manner of visualizing matrix multiplication is to consider the rows of the first matrix against the columns of the second matrix. \n",
    "\n",
    "$\n",
    "\\mathbf{A} = \n",
    "\\begin{bmatrix}\n",
    "\\mathbf{a}_{1}  \\\\\n",
    "\\mathbf{a}_{2}  \\\\\n",
    "\\vdots \\\\\n",
    "\\mathbf{a}_{n}\n",
    "\\end{bmatrix}\n",
    "\\in \\mathbb{R}^{n\\times m},\n",
    "\\mathbf{a}_i = \n",
    "\\begin{bmatrix}\n",
    "a_{i1}  & a_{i2} & \\ldots & a_{im}\n",
    "\\end{bmatrix}\\in \\mathbb{R}^{1\\times m},\n",
    "$\n",
    "\n",
    "$\\mathbf{B} = \n",
    "\\begin{bmatrix}\n",
    "\\mathbf{b}_{1}  & \\mathbf{b}_{2} & \\ldots & \\mathbf{b}_{p}\n",
    "\\end{bmatrix}\\in \\mathbb{R}^{m\\times p},\n",
    "\\mathbf{b}_j = \n",
    "\\begin{bmatrix}\n",
    "b_{1j}  \\\\\n",
    "b_{2j}  \\\\\n",
    "\\vdots \\\\\n",
    "b_{mj}\n",
    "\\end{bmatrix}\n",
    "\\in \\mathbb{R}^{m\\times 1}\n",
    "$\n"
   ]
  },
  {
   "cell_type": "markdown",
   "metadata": {},
   "source": [
    "$\\mathbf{A}\\mathbf{B} = \\begin{bmatrix}\n",
    "\\mathbf{a}_{1}  \\\\\n",
    "\\mathbf{a}_{2}  \\\\\n",
    "\\vdots \\\\\n",
    "\\mathbf{a}_{n}\n",
    "\\end{bmatrix}\n",
    "\\begin{bmatrix}\n",
    "\\mathbf{b}_{1}  & \\mathbf{b}_{2} & \\ldots & \\mathbf{b}_{p}\n",
    "\\end{bmatrix}=\n",
    "\\begin{bmatrix}\n",
    "\\mathbf{a}_{1}\\mathbf{b}_{1}  & \\mathbf{a}_{1}\\mathbf{b}_{2} & \\ldots & \\mathbf{a}_{1}\\mathbf{b}_{p} \\\\\n",
    "\\mathbf{a}_{2}\\mathbf{b}_{1}  & \\mathbf{a}_{2}\\mathbf{b}_{2} & \\ldots & \\mathbf{a}_{2}\\mathbf{b}_{p} \\\\\n",
    "\\vdots  &  \\vdots  & \\ddots &  \\vdots\\\\\n",
    "\\mathbf{a}_{n}\\mathbf{b}_{1}  & \\mathbf{a}_{n}\\mathbf{b}_{2} & \\ldots & \\mathbf{a}_{n}\\mathbf{b}_{p} \\\\\n",
    "\\end{bmatrix} \\in \\mathbb{R}^{n\\times p}\n",
    "$"
   ]
  },
  {
   "cell_type": "markdown",
   "metadata": {},
   "source": [
    "where each of the entries is the cross product of a row of the first matrix and a column of the second: \n",
    "\n",
    "$\\mathbf{a}_i \\mathbf{b}_j = \n",
    "\\begin{bmatrix}\n",
    "a_{i1} & a_{i2} & \\ldots & a_{im}\n",
    "\\end{bmatrix}\n",
    "\\begin{bmatrix}\n",
    "b_{1j}  \\\\\n",
    "b_{2j}  \\\\\n",
    "\\vdots  \\\\\n",
    "b_{mj}\n",
    "\\end{bmatrix} = a_{i1}b_{1j}+a_{i2}b_{2j}+\\ldots +a_{im}b_{mj} \\in \\mathbb{R}$\n",
    "\n",
    "From Python 3.5, the \"@\" symbol is defined as a matrix multiplication operator.\n",
    "(On older Python versions matrix multiplication is done using the np.dot() function.)"
   ]
  },
  {
   "cell_type": "code",
   "execution_count": 24,
   "metadata": {
    "collapsed": false
   },
   "outputs": [
    {
     "name": "stdout",
     "output_type": "stream",
     "text": [
      "parse error:\n",
      "\n",
      "  syntax error\n",
      "\n",
      ">>> A = np.random.randint(5,size=(3, 2)) # creates random matrix with integer entries (from 0-5) and size (3,2)\n",
      "                                   ^\n",
      "\n",
      "error: 'A' undefined near line 1 column 1\n"
     ]
    }
   ],
   "source": [
    "A = np.random.randint(5,size=(3, 2)) # creates random matrix with integer entries (from 0-5) and size (3,2)\n",
    "A"
   ]
  },
  {
   "cell_type": "code",
   "execution_count": 25,
   "metadata": {
    "collapsed": false
   },
   "outputs": [
    {
     "name": "stdout",
     "output_type": "stream",
     "text": [
      "parse error:\n",
      "\n",
      "  syntax error\n",
      "\n",
      ">>> B = np.random.randint(5,size=(2, 4))# creates random matrix with integer entries (from 0-5) and size (2,4)\n",
      "                                   ^\n",
      "\n",
      "error: 'B' undefined near line 1 column 1\n"
     ]
    }
   ],
   "source": [
    "B = np.random.randint(5,size=(2, 4))# creates random matrix with integer entries (from 0-5) and size (2,4)\n",
    "B"
   ]
  },
  {
   "cell_type": "code",
   "execution_count": 26,
   "metadata": {
    "collapsed": false
   },
   "outputs": [
    {
     "name": "stdout",
     "output_type": "stream",
     "text": [
      "parse error:\n",
      "\n",
      "  syntax error\n",
      "\n",
      ">>> A @ B # matrix multiplication operator on python 3.5\n",
      "      ^\n",
      "\n"
     ]
    }
   ],
   "source": [
    "A @ B # matrix multiplication operator on python 3.5"
   ]
  },
  {
   "cell_type": "code",
   "execution_count": 27,
   "metadata": {
    "collapsed": false
   },
   "outputs": [
    {
     "name": "stdout",
     "output_type": "stream",
     "text": [
      "error: 'A' undefined near line 1 column 1\r\n"
     ]
    }
   ],
   "source": [
    "A.dot(B) # older format for matrix multiplication."
   ]
  },
  {
   "cell_type": "code",
   "execution_count": 28,
   "metadata": {
    "collapsed": false
   },
   "outputs": [
    {
     "name": "stdout",
     "output_type": "stream",
     "text": [
      "parse error:\n",
      "\n",
      "  syntax error\n",
      "\n",
      ">>> A @ A.T\n",
      "      ^\n",
      "\n"
     ]
    }
   ],
   "source": [
    "A @ A.T"
   ]
  },
  {
   "cell_type": "markdown",
   "metadata": {},
   "source": [
    "$\\mathbf{A} \\in \\mathbb{R}^{n\\times m}, \\mathbf{B} \\in \\mathbb{R}^{m\\times p}\n",
    "\\Longrightarrow (\\mathbf{A}\\mathbf{B})^T = \\mathbf{B}^T\\mathbf{A}^T\\in \\mathbb{R}^{p\\times n}\n",
    "$\n",
    "\n",
    "$\\mathbf{A} \\in \\mathbb{R}^{n\\times m}, \\mathbf{B} \\in \\mathbb{R}^{m\\times p},\n",
    "\\mathbf{C} \\in \\mathbb{R}^{p\\times q}\n",
    "\\Longrightarrow (\\mathbf{A}\\mathbf{B}\\mathbf{C})^T= \\mathbf{C}^T\\mathbf{B}^T\\mathbf{A}^T \n",
    "\\in \\mathbb{R}^{q\\times n}\n",
    "$"
   ]
  },
  {
   "cell_type": "code",
   "execution_count": 29,
   "metadata": {
    "collapsed": false
   },
   "outputs": [
    {
     "name": "stdout",
     "output_type": "stream",
     "text": [
      "parse error:\n",
      "\n",
      "  syntax error\n",
      "\n",
      ">>> (A @ B).T\n",
      "       ^\n",
      "\n"
     ]
    }
   ],
   "source": [
    "(A @ B).T"
   ]
  },
  {
   "cell_type": "code",
   "execution_count": 30,
   "metadata": {
    "collapsed": false
   },
   "outputs": [
    {
     "name": "stdout",
     "output_type": "stream",
     "text": [
      "parse error:\n",
      "\n",
      "  syntax error\n",
      "\n",
      ">>> B.T @ A.T\n",
      "        ^\n",
      "\n"
     ]
    }
   ],
   "source": [
    "B.T @ A.T"
   ]
  },
  {
   "cell_type": "code",
   "execution_count": 31,
   "metadata": {
    "collapsed": false
   },
   "outputs": [
    {
     "name": "stdout",
     "output_type": "stream",
     "text": [
      "parse error:\n",
      "\n",
      "  syntax error\n",
      "\n",
      ">>> C = np.random.randint(5,size=(4, 5))\n",
      "                                   ^\n",
      "\n",
      "error: 'C' undefined near line 1 column 1\n"
     ]
    }
   ],
   "source": [
    "C = np.random.randint(5,size=(4, 5))\n",
    "C"
   ]
  },
  {
   "cell_type": "code",
   "execution_count": 32,
   "metadata": {
    "collapsed": false
   },
   "outputs": [
    {
     "name": "stdout",
     "output_type": "stream",
     "text": [
      "parse error:\n",
      "\n",
      "  syntax error\n",
      "\n",
      ">>> (A @ B @ C).T\n",
      "       ^\n",
      "\n"
     ]
    }
   ],
   "source": [
    "(A @ B @ C).T"
   ]
  },
  {
   "cell_type": "code",
   "execution_count": 33,
   "metadata": {
    "collapsed": false
   },
   "outputs": [
    {
     "name": "stdout",
     "output_type": "stream",
     "text": [
      "parse error:\n",
      "\n",
      "  syntax error\n",
      "\n",
      ">>> C.T @ B.T @ A.T\n",
      "        ^\n",
      "\n"
     ]
    }
   ],
   "source": [
    "C.T @ B.T @ A.T"
   ]
  },
  {
   "cell_type": "markdown",
   "metadata": {},
   "source": [
    "## Matrix identity\n",
    "\n",
    "Diagonal square matrix with all elements equal to $1$. \n",
    "\n",
    "$\\mathbf{I}_2 = \n",
    "\\begin{bmatrix}\n",
    "1 &   0 \\\\\n",
    "0 & 1\n",
    "\\end{bmatrix} \\in \\mathbb{R}^{2\\times 2}\n",
    "$ \n",
    "\n",
    "$\\mathbf{I}_3 = \n",
    "\\begin{bmatrix}\n",
    "1 &   0  & 0 \\\\\n",
    "0  &   1&  0 \\\\\n",
    "0 & 0 & 1\n",
    "\\end{bmatrix} \\in \\mathbb{R}^{3\\times 3}\n",
    "$ \n",
    "\n",
    "$\\mathbf{I}_n = \n",
    "\\begin{bmatrix}\n",
    "1 &   \\ldots & 0 \\\\\n",
    "\\vdots  &   \\ddots &  \\vdots \\\\\n",
    "0 & \\ldots & 1\n",
    "\\end{bmatrix} \\in \\mathbb{R}^{n\\times n}\n",
    "$ \n",
    "\n",
    "$\\mathbf{A} \\in \\mathbb{R}^{n\\times n}\n",
    "\\Longrightarrow \\mathbf{A}\\mathbf{I}_n = \\mathbf{I}_n\\mathbf{A} = \\mathbf{A}\n",
    "$\n",
    "\n",
    "$\\mathbf{A} \\in \\mathbb{R}^{n\\times m}\n",
    "\\Longrightarrow \\mathbf{A}\\mathbf{I}_m = \\mathbf{I}_n\\mathbf{A} = \\mathbf{A}\n",
    "$\n",
    "\n",
    "Note: sometimes identity matrix simply denoted by $\\mathbf{I}$"
   ]
  },
  {
   "cell_type": "code",
   "execution_count": 34,
   "metadata": {
    "collapsed": false
   },
   "outputs": [
    {
     "name": "stdout",
     "output_type": "stream",
     "text": [
      "error: 'np' undefined near line 1 column 5\n",
      "ans =  0 + 1i\n"
     ]
    }
   ],
   "source": [
    "I = np.eye(4) # identity matrix of dimension 4\n",
    "I"
   ]
  },
  {
   "cell_type": "code",
   "execution_count": 35,
   "metadata": {
    "collapsed": false
   },
   "outputs": [
    {
     "name": "stdout",
     "output_type": "stream",
     "text": [
      "error: 'np' undefined near line 1 column 5\n",
      "error: 'A' undefined near line 1 column 1\n"
     ]
    }
   ],
   "source": [
    "A = np.random.rand(4,4) # random matrix size (4x4)\n",
    "A"
   ]
  },
  {
   "cell_type": "code",
   "execution_count": 36,
   "metadata": {
    "collapsed": false
   },
   "outputs": [
    {
     "name": "stdout",
     "output_type": "stream",
     "text": [
      "parse error:\n",
      "\n",
      "  syntax error\n",
      "\n",
      ">>> A @ I\n",
      "      ^\n",
      "\n"
     ]
    }
   ],
   "source": [
    "A @ I"
   ]
  },
  {
   "cell_type": "code",
   "execution_count": 37,
   "metadata": {
    "collapsed": false
   },
   "outputs": [
    {
     "name": "stdout",
     "output_type": "stream",
     "text": [
      "parse error:\n",
      "\n",
      "  syntax error\n",
      "\n",
      ">>> (A @ I) - (I @ A)\n",
      "       ^\n",
      "\n"
     ]
    }
   ],
   "source": [
    "(A @ I) - (I @ A)"
   ]
  },
  {
   "cell_type": "markdown",
   "metadata": {},
   "source": [
    "## Matrix inversion\n",
    "\n",
    "Matrix inverse is only defined for non-singular square matrices (with non zero determinant).\n",
    "\n",
    "$\\mathbf{A}\\in \\mathbb{R}^{n\\times n}$\n",
    "\n",
    "$\\mathbf{A}^{-1}\\in \\mathbb{R}^{n\\times n}$, defined only if $\\det(\\mathbf{A})\\neq 0$\n",
    "\n",
    "$\\mathbf{A}\\mathbf{A}^{-1} = \\mathbf{A}^{-1}\\mathbf{A} = \\mathbf{I}_n$\n",
    "\n"
   ]
  },
  {
   "cell_type": "code",
   "execution_count": 38,
   "metadata": {
    "collapsed": false
   },
   "outputs": [
    {
     "name": "stdout",
     "output_type": "stream",
     "text": [
      "error: 'np' undefined near line 1 column 5\n",
      "error: 'A' undefined near line 1 column 1\n"
     ]
    }
   ],
   "source": [
    "A = np.random.rand(4,4)\n",
    "A"
   ]
  },
  {
   "cell_type": "code",
   "execution_count": 39,
   "metadata": {
    "collapsed": false
   },
   "outputs": [
    {
     "name": "stdout",
     "output_type": "stream",
     "text": [
      "error: 'np' undefined near line 1 column 8\n",
      "error: 'Ainv' undefined near line 1 column 1\n"
     ]
    }
   ],
   "source": [
    "Ainv = np.linalg.inv(A) # matrix inverse\n",
    "Ainv"
   ]
  },
  {
   "cell_type": "code",
   "execution_count": 40,
   "metadata": {
    "collapsed": false
   },
   "outputs": [
    {
     "name": "stdout",
     "output_type": "stream",
     "text": [
      "parse error:\n",
      "\n",
      "  syntax error\n",
      "\n",
      ">>> A @ Ainv # the result is the identity matrix except for numerical accuracy in the order 10e-15\n",
      "      ^\n",
      "\n"
     ]
    }
   ],
   "source": [
    "A @ Ainv # the result is the identity matrix except for numerical accuracy in the order 10e-15"
   ]
  },
  {
   "cell_type": "code",
   "execution_count": 41,
   "metadata": {
    "collapsed": false
   },
   "outputs": [
    {
     "name": "stdout",
     "output_type": "stream",
     "text": [
      "error: 'np' undefined near line 1 column 5\n",
      "error: 'A' undefined near line 1 column 1\n"
     ]
    }
   ],
   "source": [
    "A = np.random.rand(100,100) # 100x100 random matrix entries uniformly distributed between [0,1]\n",
    "A"
   ]
  },
  {
   "cell_type": "code",
   "execution_count": 42,
   "metadata": {
    "collapsed": false
   },
   "outputs": [
    {
     "name": "stdout",
     "output_type": "stream",
     "text": [
      "error: 'np' undefined near line 1 column 8\n",
      "error: 'Ainv' undefined near line 1 column 1\n"
     ]
    }
   ],
   "source": [
    "Ainv = np.linalg.inv(A) # inverse of a 100x100 matrix, don't try to do this by hand...\n",
    "Ainv"
   ]
  },
  {
   "cell_type": "code",
   "execution_count": 43,
   "metadata": {
    "collapsed": false
   },
   "outputs": [
    {
     "name": "stdout",
     "output_type": "stream",
     "text": [
      "parse error:\n",
      "\n",
      "  syntax error\n",
      "\n",
      ">>> A @ Ainv\n",
      "      ^\n",
      "\n"
     ]
    }
   ],
   "source": [
    "A @ Ainv"
   ]
  },
  {
   "cell_type": "code",
   "execution_count": 44,
   "metadata": {
    "collapsed": false,
    "scrolled": true
   },
   "outputs": [
    {
     "name": "stdout",
     "output_type": "stream",
     "text": [
      "parse error:\n",
      "\n",
      "  syntax error\n",
      "\n",
      ">>> plt.figure(figsize=(12, 5))\n",
      "                          ^\n",
      "\n",
      "error: 'plt' undefined near line 1 column 1\n",
      "error: 'plt' undefined near line 1 column 1\n",
      "error: 'plt' undefined near line 1 column 1\n",
      "error: 'plt' undefined near line 1 column 1\n",
      "error: 'plt' undefined near line 1 column 1\n",
      "error: 'plt' undefined near line 1 column 1\n",
      "error: 'plt' undefined near line 1 column 1\n",
      "parse error:\n",
      "\n",
      "  syntax error\n",
      "\n",
      ">>> plt.imshow(A @ Ainv, interpolation='nearest',cmap=plt.cm.Blues)\n",
      "                 ^\n",
      "\n",
      "error: 'plt' undefined near line 1 column 1\n",
      "error: 'plt' undefined near line 2 column 1\n"
     ]
    }
   ],
   "source": [
    "plt.figure(figsize=(12, 5))\n",
    "plt.subplot(131)\n",
    "plt.imshow(A, interpolation='nearest',cmap=plt.cm.Blues)\n",
    "plt.title('$\\mathbf{A}$')\n",
    "plt.subplot(132)\n",
    "plt.imshow(Ainv, interpolation='nearest',cmap=plt.cm.Blues)\n",
    "plt.title('$\\mathbf{A}^{-1}$')\n",
    "plt.subplot(133)\n",
    "plt.imshow(A @ Ainv, interpolation='nearest',cmap=plt.cm.Blues)\n",
    "plt.title('$\\mathbf{A}\\mathbf{A}^{-1}$')\n",
    "#plt.colorbar()\n",
    "plt.colorbar(fraction=0.046)"
   ]
  },
  {
   "cell_type": "markdown",
   "metadata": {},
   "source": [
    "## Eigenvalues and eigenvectors\n",
    "\n"
   ]
  },
  {
   "cell_type": "code",
   "execution_count": 45,
   "metadata": {
    "collapsed": false
   },
   "outputs": [
    {
     "name": "stdout",
     "output_type": "stream",
     "text": [
      "parse error:\n",
      "\n",
      "  syntax error\n",
      "\n",
      ">>> A = np.diag((1, 4, -2))\n",
      "                  ^\n",
      "\n",
      "error: 'A' undefined near line 1 column 7\n",
      "error: evaluating argument list element number 1\n"
     ]
    }
   ],
   "source": [
    "A = np.diag((1, 4, -2))\n",
    "print(A)"
   ]
  },
  {
   "cell_type": "code",
   "execution_count": 46,
   "metadata": {
    "collapsed": false
   },
   "outputs": [
    {
     "name": "stdout",
     "output_type": "stream",
     "text": [
      "error: 'd' undefined near line 1 column 1\r\n"
     ]
    }
   ],
   "source": [
    "d, V = np.linalg.eig(A)"
   ]
  },
  {
   "cell_type": "code",
   "execution_count": 47,
   "metadata": {
    "collapsed": false
   },
   "outputs": [
    {
     "name": "stdout",
     "output_type": "stream",
     "text": [
      "error: 'd' undefined near line 1 column 7\n",
      "error: evaluating argument list element number 1\n"
     ]
    }
   ],
   "source": [
    "print(d) # eigenvalues"
   ]
  },
  {
   "cell_type": "code",
   "execution_count": 48,
   "metadata": {
    "collapsed": false
   },
   "outputs": [
    {
     "name": "stdout",
     "output_type": "stream",
     "text": [
      "error: 'V' undefined near line 1 column 7\n",
      "error: evaluating argument list element number 1\n"
     ]
    }
   ],
   "source": [
    "print(V) # eigenvectors, the matrix was already diagonal"
   ]
  },
  {
   "cell_type": "code",
   "execution_count": 49,
   "metadata": {
    "collapsed": false
   },
   "outputs": [
    {
     "name": "stdout",
     "output_type": "stream",
     "text": [
      "error: 'np' undefined near line 1 column 5\n",
      "error: 'A' undefined near line 1 column 7\n",
      "error: evaluating argument list element number 1\n"
     ]
    }
   ],
   "source": [
    "A = np.random.rand(3,3)\n",
    "print(A)"
   ]
  },
  {
   "cell_type": "code",
   "execution_count": 50,
   "metadata": {
    "collapsed": false
   },
   "outputs": [
    {
     "name": "stdout",
     "output_type": "stream",
     "text": [
      "error: 'd' undefined near line 1 column 1\n",
      "error: 'd' undefined near line 1 column 7\n",
      "error: evaluating argument list element number 1\n"
     ]
    }
   ],
   "source": [
    "d, V = np.linalg.eig(A)\n",
    "print(d)"
   ]
  },
  {
   "cell_type": "code",
   "execution_count": 51,
   "metadata": {
    "collapsed": false
   },
   "outputs": [
    {
     "name": "stdout",
     "output_type": "stream",
     "text": [
      "error: 'V' undefined near line 1 column 7\n",
      "error: evaluating argument list element number 1\n"
     ]
    }
   ],
   "source": [
    "print(V)"
   ]
  },
  {
   "cell_type": "code",
   "execution_count": 52,
   "metadata": {
    "collapsed": false
   },
   "outputs": [
    {
     "name": "stdout",
     "output_type": "stream",
     "text": [
      "error: 'np' undefined near line 1 column 5\n",
      "error: 'D' undefined near line 1 column 7\n",
      "error: evaluating argument list element number 1\n"
     ]
    }
   ],
   "source": [
    "D = np.diag(d)\n",
    "print(D)"
   ]
  },
  {
   "cell_type": "code",
   "execution_count": 53,
   "metadata": {
    "collapsed": false
   },
   "outputs": [
    {
     "name": "stdout",
     "output_type": "stream",
     "text": [
      "parse error:\n",
      "\n",
      "  syntax error\n",
      "\n",
      ">>> V @ D @ np.linalg.inv(V) # A = V*D*V^{-1}\n",
      "      ^\n",
      "\n"
     ]
    }
   ],
   "source": [
    "V @ D @ np.linalg.inv(V) # A = V*D*V^{-1}"
   ]
  },
  {
   "cell_type": "code",
   "execution_count": null,
   "metadata": {
    "collapsed": true
   },
   "outputs": [],
   "source": []
  }
 ],
 "metadata": {
  "kernelspec": {
   "display_name": "Octave",
   "language": "octave",
   "name": "octave"
  },
  "language_info": {
   "file_extension": ".m",
   "help_links": [
    {
     "text": "MetaKernel Magics",
     "url": "https://github.com/calysto/metakernel/blob/master/metakernel/magics/README.md"
    }
   ],
   "mimetype": "text/x-octave",
   "name": "octave",
   "version": "0.15.7"
  }
 },
 "nbformat": 4,
 "nbformat_minor": 0
}
