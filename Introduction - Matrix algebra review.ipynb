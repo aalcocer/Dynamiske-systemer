{
 "cells": [
  {
   "cell_type": "markdown",
   "metadata": {},
   "source": [
    "# Introduction - Matrix algebra review"
   ]
  },
  {
   "cell_type": "markdown",
   "metadata": {
    "collapsed": true
   },
   "source": [
    "This page contains some basic reminder of matrix algebra using python numpy.\n",
    "\n",
    "The following links has useful information whan converting from Matlab to numpy arrays:  \n",
    "http://sebastianraschka.com/Articles/2014_matlab_vs_numpy.html  \n",
    "https://docs.scipy.org/doc/numpy-dev/user/numpy-for-matlab-users.html#\n",
    "\n",
    "\n",
    "\n",
    "\n",
    "Matrix with real elements:\n",
    "$ \\mathbf{A} = \\begin{bmatrix}\n",
    "a_{11}  & a_{12} & \\ldots & a_{1m} \\\\\n",
    "a_{21}  & a_{22} & \\ldots & a_{2m} \\\\        \n",
    "\\vdots  &  \\vdots  & \\ddots &  \\vdots\\\\\n",
    "a_{n1}  & a_{n2} &  \\ldots & a_{nm}     \n",
    "\\end{bmatrix} \\in \\mathbb{R}^{n\\times m}$\n",
    "\n",
    "The first index $n$ is the number of rows.  \n",
    "The second index $m$ is the number of columns\n",
    "\n",
    "Column vector of dimension $n$:\n",
    "$\\mathbf{a} = \n",
    "\\begin{bmatrix}\n",
    "a_{1}  \\\\\n",
    "a_{2}  \\\\\n",
    "\\vdots \\\\\n",
    "a_{n}  \\\\\n",
    "\\end{bmatrix} \\in \\mathbb{R}^{n\\times 1}\n",
    "$\n",
    "\n",
    "Row vector of dimension $m$:\n",
    "\n",
    "$\\mathbf{b} = \n",
    "\\begin{bmatrix}\n",
    "b_1  & b_2 & \\ldots b_{m} \n",
    "\\end{bmatrix} \\in \\mathbb{R}^{1\\times m}\n",
    "$\n"
   ]
  },
  {
   "cell_type": "code",
   "execution_count": 180,
   "metadata": {
    "collapsed": false
   },
   "outputs": [],
   "source": [
    "%matplotlib notebook \n",
    "\n",
    "import numpy as np\n",
    "np.set_printoptions(precision=2)\n",
    "import matplotlib.pyplot as plt\n"
   ]
  },
  {
   "cell_type": "code",
   "execution_count": 181,
   "metadata": {
    "collapsed": false
   },
   "outputs": [
    {
     "data": {
      "text/plain": [
       "array([[8, 2, 7, 1, 5],\n",
       "       [6, 1, 3, 2, 8],\n",
       "       [7, 4, 3, 7, 1],\n",
       "       [8, 4, 5, 7, 0]])"
      ]
     },
     "execution_count": 181,
     "metadata": {},
     "output_type": "execute_result"
    }
   ],
   "source": [
    "A = np.random.randint(9, size=(4, 5)) # creates random matrix with integer entries (from 0-9) and size (4,5)\n",
    "A"
   ]
  },
  {
   "cell_type": "code",
   "execution_count": 182,
   "metadata": {
    "collapsed": false
   },
   "outputs": [
    {
     "data": {
      "text/plain": [
       "array([[0],\n",
       "       [2],\n",
       "       [1],\n",
       "       [6],\n",
       "       [7]])"
      ]
     },
     "execution_count": 182,
     "metadata": {},
     "output_type": "execute_result"
    }
   ],
   "source": [
    "a = np.array([[0],[2],[1],[6],[7]]) # numpy array representation of column vector as a 2d array of dimension (5,1)\n",
    "a"
   ]
  },
  {
   "cell_type": "code",
   "execution_count": 183,
   "metadata": {
    "collapsed": false
   },
   "outputs": [
    {
     "data": {
      "text/plain": [
       "(5, 1)"
      ]
     },
     "execution_count": 183,
     "metadata": {},
     "output_type": "execute_result"
    }
   ],
   "source": [
    "a.shape"
   ]
  },
  {
   "cell_type": "code",
   "execution_count": 184,
   "metadata": {
    "collapsed": false
   },
   "outputs": [
    {
     "data": {
      "text/plain": [
       "array([[1, 2, 3, 6, 7]])"
      ]
     },
     "execution_count": 184,
     "metadata": {},
     "output_type": "execute_result"
    }
   ],
   "source": [
    "b = np.array([[1,2,3,6,7]]) # row vector of dimension (1,5)\n",
    "b"
   ]
  },
  {
   "cell_type": "code",
   "execution_count": 185,
   "metadata": {
    "collapsed": false
   },
   "outputs": [
    {
     "data": {
      "text/plain": [
       "(1, 5)"
      ]
     },
     "execution_count": 185,
     "metadata": {},
     "output_type": "execute_result"
    }
   ],
   "source": [
    "b.shape"
   ]
  },
  {
   "cell_type": "code",
   "execution_count": 186,
   "metadata": {
    "collapsed": false
   },
   "outputs": [
    {
     "data": {
      "text/plain": [
       "array([[ 0.],\n",
       "       [ 0.],\n",
       "       [ 0.],\n",
       "       [ 0.],\n",
       "       [ 0.]])"
      ]
     },
     "execution_count": 186,
     "metadata": {},
     "output_type": "execute_result"
    }
   ],
   "source": [
    "np.zeros((5,1)) # column vector of zeros and dimension 5x1"
   ]
  },
  {
   "cell_type": "code",
   "execution_count": 187,
   "metadata": {
    "collapsed": false
   },
   "outputs": [
    {
     "data": {
      "text/plain": [
       "array([[ 1.,  1.,  1.,  1.]])"
      ]
     },
     "execution_count": 187,
     "metadata": {},
     "output_type": "execute_result"
    }
   ],
   "source": [
    "np.ones((1,4)) # row vector of ones and dimension 5x1"
   ]
  },
  {
   "cell_type": "markdown",
   "metadata": {},
   "source": [
    "## Transpose\n",
    "\n",
    "\n",
    "\n",
    "$ \\mathbf{A} = \\begin{bmatrix}\n",
    "a_{11}  & a_{12} & \\ldots & a_{1m} \\\\\n",
    "a_{21}  & a_{22} & \\ldots & a_{2m} \\\\        \n",
    "\\vdots  &  \\vdots  & \\ddots &  \\vdots\\\\\n",
    "a_{n1}  & a_{n2} &  \\ldots & a_{nm}     \n",
    "\\end{bmatrix} \\in \\mathbb{R}^{n\\times m} \\Longrightarrow\n",
    "\\mathbf{A}^T = \\begin{bmatrix}\n",
    "a_{11}  & a_{21} & \\ldots & a_{n1} \\\\\n",
    "a_{12}  & a_{22} & \\ldots & a_{n2} \\\\        \n",
    "\\vdots  &  \\vdots  & \\ddots &  \\vdots\\\\\n",
    "a_{1m}  & a_{2m} &  \\ldots & a_{nm}     \n",
    "\\end{bmatrix} \\in \\mathbb{R}^{m\\times n}$\n",
    "\n",
    "$  \\mathbf{A} = \\begin{bmatrix}\n",
    "\\mathbf{c}_{1}  & \\mathbf{c}_{1} & \\ldots & \\mathbf{c}_{m}\n",
    "\\end{bmatrix} \\in \\mathbb{R}^{n\\times m}, \n",
    "\\mathbf{c}_i = \n",
    "\\begin{bmatrix}\n",
    "a_{1i}  \\\\\n",
    "a_{2i}  \\\\\n",
    "\\vdots \\\\\n",
    "a_{ni}  \\\\\n",
    "\\end{bmatrix} \\in \\mathbb{R}^{n\\times 1}\n",
    " \\Longrightarrow\n",
    "\\mathbf{A}^T = \\begin{bmatrix}\n",
    "\\mathbf{c}^T_{1}  \\\\\n",
    "\\mathbf{c}^T_{2}  \\\\\n",
    "\\vdots \\\\\n",
    "\\mathbf{c}^T_{m}\n",
    "\\end{bmatrix} \\in \\mathbb{R}^{m\\times n},\n",
    "\\mathbf{c}^T_i = \n",
    "\\begin{bmatrix}\n",
    "a_{1i}  & a_{2i} & \\ldots &a_{ni}  \n",
    "\\end{bmatrix} \\in \\mathbb{R}^{1\\times n}\n",
    "$\n",
    "\n",
    "$  \n",
    "\\mathbf{A} = \\begin{bmatrix}\n",
    "\\mathbf{r}_{1}  \\\\\n",
    "\\mathbf{r}_{2}  \\\\\n",
    "\\vdots \\\\\n",
    "\\mathbf{r}_{n}\n",
    "\\end{bmatrix}\\in \\mathbb{R}^{n\\times m},\n",
    "\\mathbf{r}_i = \n",
    "\\begin{bmatrix}\n",
    "a_{i1}  & a_{i2} & \\ldots &a_{im}  \n",
    "\\end{bmatrix} \\in \\mathbb{R}^{1\\times m}\n",
    " \\Longrightarrow\n",
    "\\mathbf{A}^T = \\begin{bmatrix}\n",
    "\\mathbf{r}^T_{1}  & \\mathbf{r}^T_{1} & \\ldots & \\mathbf{r}^T_{n}\n",
    "\\end{bmatrix} \\in \\mathbb{R}^{m\\times n},\n",
    "\\mathbf{r}^T_i = \n",
    "\\begin{bmatrix}\n",
    "a_{i1}  \\\\\n",
    "a_{i2}  \\\\\n",
    "\\vdots \\\\\n",
    "a_{im}  \\\\\n",
    "\\end{bmatrix} \\in \\mathbb{R}^{m\\times 1}\n",
    "$"
   ]
  },
  {
   "cell_type": "code",
   "execution_count": 188,
   "metadata": {
    "collapsed": false
   },
   "outputs": [
    {
     "data": {
      "text/plain": [
       "array([[1, 6, 4],\n",
       "       [3, 2, 0],\n",
       "       [6, 0, 1],\n",
       "       [4, 7, 5],\n",
       "       [0, 3, 4]])"
      ]
     },
     "execution_count": 188,
     "metadata": {},
     "output_type": "execute_result"
    }
   ],
   "source": [
    "A = np.random.randint(9,size=(5, 3)) # creates random matrix with integer entries (from 0-9) and size (5,3)\n",
    "A"
   ]
  },
  {
   "cell_type": "code",
   "execution_count": 189,
   "metadata": {
    "collapsed": false
   },
   "outputs": [
    {
     "data": {
      "text/plain": [
       "(5, 3)"
      ]
     },
     "execution_count": 189,
     "metadata": {},
     "output_type": "execute_result"
    }
   ],
   "source": [
    "A.shape"
   ]
  },
  {
   "cell_type": "code",
   "execution_count": 190,
   "metadata": {
    "collapsed": false
   },
   "outputs": [
    {
     "data": {
      "text/plain": [
       "array([[1, 3, 6, 4, 0],\n",
       "       [6, 2, 0, 7, 3],\n",
       "       [4, 0, 1, 5, 4]])"
      ]
     },
     "execution_count": 190,
     "metadata": {},
     "output_type": "execute_result"
    }
   ],
   "source": [
    "A.T # returns matrix transpose"
   ]
  },
  {
   "cell_type": "code",
   "execution_count": 191,
   "metadata": {
    "collapsed": false
   },
   "outputs": [
    {
     "data": {
      "text/plain": [
       "(3, 5)"
      ]
     },
     "execution_count": 191,
     "metadata": {},
     "output_type": "execute_result"
    }
   ],
   "source": [
    "A.T.shape"
   ]
  },
  {
   "cell_type": "code",
   "execution_count": 192,
   "metadata": {
    "collapsed": false
   },
   "outputs": [
    {
     "data": {
      "text/plain": [
       "array([[-0.11],\n",
       "       [-0.25],\n",
       "       [-0.96],\n",
       "       [-0.13],\n",
       "       [-0.21]])"
      ]
     },
     "execution_count": 192,
     "metadata": {},
     "output_type": "execute_result"
    }
   ],
   "source": [
    "b = np.random.randn(5,1) # column vector with normally distributed random entries\n",
    "b"
   ]
  },
  {
   "cell_type": "code",
   "execution_count": 193,
   "metadata": {
    "collapsed": false
   },
   "outputs": [
    {
     "data": {
      "text/plain": [
       "array([[-0.11, -0.25, -0.96, -0.13, -0.21]])"
      ]
     },
     "execution_count": 193,
     "metadata": {},
     "output_type": "execute_result"
    }
   ],
   "source": [
    "b.T"
   ]
  },
  {
   "cell_type": "markdown",
   "metadata": {},
   "source": [
    "Remember that $(\\mathbf{A}^T)^T = \\mathbf{A}$"
   ]
  },
  {
   "cell_type": "code",
   "execution_count": 194,
   "metadata": {
    "collapsed": false
   },
   "outputs": [
    {
     "data": {
      "text/plain": [
       "array([[-0.11],\n",
       "       [-0.25],\n",
       "       [-0.96],\n",
       "       [-0.13],\n",
       "       [-0.21]])"
      ]
     },
     "execution_count": 194,
     "metadata": {},
     "output_type": "execute_result"
    }
   ],
   "source": [
    "b.T.T # b.T.T = b"
   ]
  },
  {
   "cell_type": "markdown",
   "metadata": {},
   "source": [
    "## Matrix addition\n",
    "\n",
    "Matrix sum is only defined if matrices have the same dimension\n",
    "\n",
    "$$ \\mathbf{A} = \\begin{bmatrix}\n",
    "a_{11}  & a_{12} & \\ldots & a_{1m} \\\\\n",
    "a_{21}  & a_{22} & \\ldots & a_{2m} \\\\        \n",
    "\\vdots  &  \\vdots  & \\ddots &  \\vdots\\\\\n",
    "a_{n1}  & a_{n2} &  \\ldots & a_{nm}     \n",
    "\\end{bmatrix} \\in \\mathbb{R}^{n\\times m},\n",
    " \\mathbf{B} = \\begin{bmatrix}\n",
    "b_{11}  & b_{12} & \\ldots & b_{1m} \\\\\n",
    "b_{21}  & b_{22} & \\ldots & b_{2m} \\\\        \n",
    "\\vdots  &  \\vdots  & \\ddots &  \\vdots\\\\\n",
    "b_{n1}  & b_{n2} &  \\ldots & b_{nm}     \n",
    "\\end{bmatrix} \\in \\mathbb{R}^{n\\times m}$$\n",
    "\n",
    "$$ \\mathbf{A}+\\mathbf{B} = \\begin{bmatrix}\n",
    "a_{11}+b_{11}  & a_{12}+b_{12} & \\ldots & a_{1m}+b_{1m} \\\\\n",
    "a_{21}+b_{21}  & a_{22}+b_{22} & \\ldots & a_{2m}+b_{2m} \\\\        \n",
    "\\vdots  &  \\vdots  & \\ddots &  \\vdots\\\\\n",
    "a_{n1}+b_{n1}  & a_{n2}+b_{n2} &  \\ldots & a_{nm}+b_{nm}     \n",
    "\\end{bmatrix} \\in \\mathbb{R}^{n\\times m}$$\n",
    "\n",
    "\n"
   ]
  },
  {
   "cell_type": "code",
   "execution_count": 195,
   "metadata": {
    "collapsed": false
   },
   "outputs": [
    {
     "data": {
      "text/plain": [
       "array([[2, 6],\n",
       "       [8, 4],\n",
       "       [7, 7]])"
      ]
     },
     "execution_count": 195,
     "metadata": {},
     "output_type": "execute_result"
    }
   ],
   "source": [
    "A = np.random.randint(9,size=(3, 2)) # creates random matrix with integer entries (from 0-9) and size (5,3)\n",
    "A"
   ]
  },
  {
   "cell_type": "code",
   "execution_count": 196,
   "metadata": {
    "collapsed": false
   },
   "outputs": [
    {
     "data": {
      "text/plain": [
       "array([[3, 0],\n",
       "       [0, 2],\n",
       "       [7, 5]])"
      ]
     },
     "execution_count": 196,
     "metadata": {},
     "output_type": "execute_result"
    }
   ],
   "source": [
    "B = np.random.randint(9,size=(3, 2)) # creates random matrix with integer entries (from 0-9) and size (5,3)\n",
    "B"
   ]
  },
  {
   "cell_type": "code",
   "execution_count": 197,
   "metadata": {
    "collapsed": false
   },
   "outputs": [
    {
     "data": {
      "text/plain": [
       "array([[ 5,  6],\n",
       "       [ 8,  6],\n",
       "       [14, 12]])"
      ]
     },
     "execution_count": 197,
     "metadata": {},
     "output_type": "execute_result"
    }
   ],
   "source": [
    "A+B # matrix addition"
   ]
  },
  {
   "cell_type": "markdown",
   "metadata": {},
   "source": [
    "Adding matrices of different dimension is strictly not defined. \n",
    "In numpy, it is possible to do so as far as one of the arrays has dimension 1.  \n",
    "For details see http://docs.scipy.org/doc/numpy-1.10.1/user/basics.broadcasting.html"
   ]
  },
  {
   "cell_type": "code",
   "execution_count": 198,
   "metadata": {
    "collapsed": false
   },
   "outputs": [
    {
     "data": {
      "text/plain": [
       "array([[2, 6],\n",
       "       [8, 4],\n",
       "       [7, 7]])"
      ]
     },
     "execution_count": 198,
     "metadata": {},
     "output_type": "execute_result"
    }
   ],
   "source": [
    "A"
   ]
  },
  {
   "cell_type": "code",
   "execution_count": 199,
   "metadata": {
    "collapsed": false
   },
   "outputs": [
    {
     "data": {
      "text/plain": [
       "array([[3, 7],\n",
       "       [9, 5],\n",
       "       [8, 8]])"
      ]
     },
     "execution_count": 199,
     "metadata": {},
     "output_type": "execute_result"
    }
   ],
   "source": [
    "A+1 # here there is an addition of a 3x2 matrix plus a number. The number is added to all elements"
   ]
  },
  {
   "cell_type": "code",
   "execution_count": 200,
   "metadata": {
    "collapsed": false
   },
   "outputs": [
    {
     "data": {
      "text/plain": [
       "array([[1],\n",
       "       [2],\n",
       "       [3]])"
      ]
     },
     "execution_count": 200,
     "metadata": {},
     "output_type": "execute_result"
    }
   ],
   "source": [
    "C = np.array([[1],[2],[3]]) # column vector dimension 3x1\n",
    "C"
   ]
  },
  {
   "cell_type": "code",
   "execution_count": 201,
   "metadata": {
    "collapsed": false
   },
   "outputs": [
    {
     "data": {
      "text/plain": [
       "array([[2, 6],\n",
       "       [8, 4],\n",
       "       [7, 7]])"
      ]
     },
     "execution_count": 201,
     "metadata": {},
     "output_type": "execute_result"
    }
   ],
   "source": [
    "A"
   ]
  },
  {
   "cell_type": "code",
   "execution_count": 202,
   "metadata": {
    "collapsed": false
   },
   "outputs": [
    {
     "data": {
      "text/plain": [
       "array([[ 3,  7],\n",
       "       [10,  6],\n",
       "       [10, 10]])"
      ]
     },
     "execution_count": 202,
     "metadata": {},
     "output_type": "execute_result"
    }
   ],
   "source": [
    "A+C # in this case the vector C is copied to match the dimension of A. Is the same as A + [C C]"
   ]
  },
  {
   "cell_type": "markdown",
   "metadata": {},
   "source": [
    "## Matrix multiplication\n",
    "\n",
    "Matrix multiplication is only defined when the number of columns of the first matrix and the rows of the second are equal. \n",
    "\n",
    "$\\mathbf{A} \\in \\mathbb{R}^{n\\times m}, \\mathbf{B} \\in \\mathbb{R}^{m\\times p}\n",
    "\\Longrightarrow \\mathbf{A}\\mathbf{B}\\in \\mathbb{R}^{n\\times p}\n",
    "$\n",
    "\n",
    "It is sometimes useful to write down the dimensions of the matrices being multiplied to verify that they are compatible and to easily determine the result matrix dimensions. For instance:\n",
    "\n",
    "$(n\\times m) \\cdot (m\\times p)\\Longrightarrow (n\\times p)$\n",
    "\n",
    "$\\mathbf{A} \\in \\mathbb{R}^{n\\times m}, \\mathbf{B} \\in \\mathbb{R}^{m\\times p},\n",
    "\\mathbf{C} \\in \\mathbb{R}^{p\\times q}\n",
    "\\Longrightarrow \\mathbf{A}\\mathbf{B}\\mathbf{C}= (\\mathbf{A}\\mathbf{B})\\mathbf{C} \n",
    "= \\mathbf{A}(\\mathbf{B}\\mathbf{C})\\in \\mathbb{R}^{n\\times q}\n",
    "$\n",
    "\n",
    "$(n\\times m) \\cdot (m\\times p)\\cdot (p\\times q)\\Longrightarrow (n\\times q)$"
   ]
  },
  {
   "cell_type": "markdown",
   "metadata": {},
   "source": [
    "One simple manner of visualizing matrix multiplication is to consider the rows of the first matrix against the columns of the second matrix. \n",
    "\n",
    "$\n",
    "\\mathbf{A} = \n",
    "\\begin{bmatrix}\n",
    "\\mathbf{a}_{1}  \\\\\n",
    "\\mathbf{a}_{2}  \\\\\n",
    "\\vdots \\\\\n",
    "\\mathbf{a}_{n}\n",
    "\\end{bmatrix}\n",
    "\\in \\mathbb{R}^{n\\times m},\n",
    "\\mathbf{a}_i = \n",
    "\\begin{bmatrix}\n",
    "a_{i1}  & a_{i2} & \\ldots & a_{im}\n",
    "\\end{bmatrix}\\in \\mathbb{R}^{1\\times m},\n",
    "$\n",
    "\n",
    "$\\mathbf{B} = \n",
    "\\begin{bmatrix}\n",
    "\\mathbf{b}_{1}  & \\mathbf{b}_{2} & \\ldots & \\mathbf{b}_{p}\n",
    "\\end{bmatrix}\\in \\mathbb{R}^{m\\times p},\n",
    "\\mathbf{b}_j = \n",
    "\\begin{bmatrix}\n",
    "b_{1j}  \\\\\n",
    "b_{2j}  \\\\\n",
    "\\vdots \\\\\n",
    "b_{mj}\n",
    "\\end{bmatrix}\n",
    "\\in \\mathbb{R}^{m\\times 1}\n",
    "$\n"
   ]
  },
  {
   "cell_type": "markdown",
   "metadata": {},
   "source": [
    "$\\mathbf{A}\\mathbf{B} = \\begin{bmatrix}\n",
    "\\mathbf{a}_{1}  \\\\\n",
    "\\mathbf{a}_{2}  \\\\\n",
    "\\vdots \\\\\n",
    "\\mathbf{a}_{n}\n",
    "\\end{bmatrix}\n",
    "\\begin{bmatrix}\n",
    "\\mathbf{b}_{1}  & \\mathbf{b}_{2} & \\ldots & \\mathbf{b}_{p}\n",
    "\\end{bmatrix}=\n",
    "\\begin{bmatrix}\n",
    "\\mathbf{a}_{1}\\mathbf{b}_{1}  & \\mathbf{a}_{1}\\mathbf{b}_{2} & \\ldots & \\mathbf{a}_{1}\\mathbf{b}_{p} \\\\\n",
    "\\mathbf{a}_{2}\\mathbf{b}_{1}  & \\mathbf{a}_{2}\\mathbf{b}_{2} & \\ldots & \\mathbf{a}_{2}\\mathbf{b}_{p} \\\\\n",
    "\\vdots  &  \\vdots  & \\ddots &  \\vdots\\\\\n",
    "\\mathbf{a}_{n}\\mathbf{b}_{1}  & \\mathbf{a}_{n}\\mathbf{b}_{2} & \\ldots & \\mathbf{a}_{n}\\mathbf{b}_{p} \\\\\n",
    "\\end{bmatrix} \\in \\mathbb{R}^{n\\times p}\n",
    "$"
   ]
  },
  {
   "cell_type": "markdown",
   "metadata": {},
   "source": [
    "where each of the entries is the cross product of a row of the first matrix and a column of the second: \n",
    "\n",
    "$\\mathbf{a}_i \\mathbf{b}_j = \n",
    "\\begin{bmatrix}\n",
    "a_{i1} & a_{i2} & \\ldots & a_{im}\n",
    "\\end{bmatrix}\n",
    "\\begin{bmatrix}\n",
    "b_{1j}  \\\\\n",
    "b_{2j}  \\\\\n",
    "\\vdots  \\\\\n",
    "b_{mj}\n",
    "\\end{bmatrix} = a_{i1}b_{1j}+a_{i2}b_{2j}+\\ldots +a_{im}b_{mj} \\in \\mathbb{R}$\n",
    "\n",
    "From Python 3.5, the \"@\" symbol is defined as a matrix multiplication operator.\n",
    "(On older Python versions matrix multiplication is done using the np.dot() function.)"
   ]
  },
  {
   "cell_type": "code",
   "execution_count": 203,
   "metadata": {
    "collapsed": false
   },
   "outputs": [
    {
     "data": {
      "text/plain": [
       "array([[1, 4],\n",
       "       [0, 2],\n",
       "       [3, 0]])"
      ]
     },
     "execution_count": 203,
     "metadata": {},
     "output_type": "execute_result"
    }
   ],
   "source": [
    "A = np.random.randint(5,size=(3, 2)) # creates random matrix with integer entries (from 0-5) and size (3,2)\n",
    "A"
   ]
  },
  {
   "cell_type": "code",
   "execution_count": 204,
   "metadata": {
    "collapsed": false
   },
   "outputs": [
    {
     "data": {
      "text/plain": [
       "array([[1, 0, 0, 3],\n",
       "       [2, 0, 2, 3]])"
      ]
     },
     "execution_count": 204,
     "metadata": {},
     "output_type": "execute_result"
    }
   ],
   "source": [
    "B = np.random.randint(5,size=(2, 4))# creates random matrix with integer entries (from 0-5) and size (2,4)\n",
    "B"
   ]
  },
  {
   "cell_type": "code",
   "execution_count": 205,
   "metadata": {
    "collapsed": false
   },
   "outputs": [
    {
     "data": {
      "text/plain": [
       "array([[ 9,  0,  8, 15],\n",
       "       [ 4,  0,  4,  6],\n",
       "       [ 3,  0,  0,  9]])"
      ]
     },
     "execution_count": 205,
     "metadata": {},
     "output_type": "execute_result"
    }
   ],
   "source": [
    "A @ B # matrix multiplication operator on python 3.5"
   ]
  },
  {
   "cell_type": "code",
   "execution_count": 206,
   "metadata": {
    "collapsed": false
   },
   "outputs": [
    {
     "data": {
      "text/plain": [
       "array([[ 9,  0,  8, 15],\n",
       "       [ 4,  0,  4,  6],\n",
       "       [ 3,  0,  0,  9]])"
      ]
     },
     "execution_count": 206,
     "metadata": {},
     "output_type": "execute_result"
    }
   ],
   "source": [
    "A.dot(B) # older format for matrix multiplication."
   ]
  },
  {
   "cell_type": "code",
   "execution_count": 207,
   "metadata": {
    "collapsed": false
   },
   "outputs": [
    {
     "data": {
      "text/plain": [
       "array([[17,  8,  3],\n",
       "       [ 8,  4,  0],\n",
       "       [ 3,  0,  9]])"
      ]
     },
     "execution_count": 207,
     "metadata": {},
     "output_type": "execute_result"
    }
   ],
   "source": [
    "A @ A.T"
   ]
  },
  {
   "cell_type": "markdown",
   "metadata": {},
   "source": [
    "$\\mathbf{A} \\in \\mathbb{R}^{n\\times m}, \\mathbf{B} \\in \\mathbb{R}^{m\\times p}\n",
    "\\Longrightarrow (\\mathbf{A}\\mathbf{B})^T = \\mathbf{B}^T\\mathbf{A}^T\\in \\mathbb{R}^{p\\times n}\n",
    "$\n",
    "\n",
    "$\\mathbf{A} \\in \\mathbb{R}^{n\\times m}, \\mathbf{B} \\in \\mathbb{R}^{m\\times p},\n",
    "\\mathbf{C} \\in \\mathbb{R}^{p\\times q}\n",
    "\\Longrightarrow (\\mathbf{A}\\mathbf{B}\\mathbf{C})^T= \\mathbf{C}^T\\mathbf{B}^T\\mathbf{A}^T \n",
    "\\in \\mathbb{R}^{q\\times n}\n",
    "$"
   ]
  },
  {
   "cell_type": "code",
   "execution_count": 208,
   "metadata": {
    "collapsed": false
   },
   "outputs": [
    {
     "data": {
      "text/plain": [
       "array([[ 9,  4,  3],\n",
       "       [ 0,  0,  0],\n",
       "       [ 8,  4,  0],\n",
       "       [15,  6,  9]])"
      ]
     },
     "execution_count": 208,
     "metadata": {},
     "output_type": "execute_result"
    }
   ],
   "source": [
    "(A @ B).T"
   ]
  },
  {
   "cell_type": "code",
   "execution_count": 209,
   "metadata": {
    "collapsed": false
   },
   "outputs": [
    {
     "data": {
      "text/plain": [
       "array([[ 9,  4,  3],\n",
       "       [ 0,  0,  0],\n",
       "       [ 8,  4,  0],\n",
       "       [15,  6,  9]])"
      ]
     },
     "execution_count": 209,
     "metadata": {},
     "output_type": "execute_result"
    }
   ],
   "source": [
    "B.T @ A.T"
   ]
  },
  {
   "cell_type": "code",
   "execution_count": 210,
   "metadata": {
    "collapsed": false
   },
   "outputs": [
    {
     "data": {
      "text/plain": [
       "array([[1, 0, 0, 0, 4],\n",
       "       [1, 0, 3, 0, 4],\n",
       "       [0, 2, 0, 2, 0],\n",
       "       [3, 2, 0, 4, 2]])"
      ]
     },
     "execution_count": 210,
     "metadata": {},
     "output_type": "execute_result"
    }
   ],
   "source": [
    "C = np.random.randint(5,size=(4, 5))\n",
    "C"
   ]
  },
  {
   "cell_type": "code",
   "execution_count": 211,
   "metadata": {
    "collapsed": false
   },
   "outputs": [
    {
     "data": {
      "text/plain": [
       "array([[54, 22, 30],\n",
       "       [46, 20, 18],\n",
       "       [ 0,  0,  0],\n",
       "       [76, 32, 36],\n",
       "       [66, 28, 30]])"
      ]
     },
     "execution_count": 211,
     "metadata": {},
     "output_type": "execute_result"
    }
   ],
   "source": [
    "(A @ B @ C).T"
   ]
  },
  {
   "cell_type": "code",
   "execution_count": 212,
   "metadata": {
    "collapsed": false
   },
   "outputs": [
    {
     "data": {
      "text/plain": [
       "array([[54, 22, 30],\n",
       "       [46, 20, 18],\n",
       "       [ 0,  0,  0],\n",
       "       [76, 32, 36],\n",
       "       [66, 28, 30]])"
      ]
     },
     "execution_count": 212,
     "metadata": {},
     "output_type": "execute_result"
    }
   ],
   "source": [
    "C.T @ B.T @ A.T"
   ]
  },
  {
   "cell_type": "markdown",
   "metadata": {},
   "source": [
    "## Matrix identity\n",
    "\n",
    "Diagonal square matrix with all elements equal to $1$. \n",
    "\n",
    "$\\mathbf{I}_2 = \n",
    "\\begin{bmatrix}\n",
    "1 &   0 \\\\\n",
    "0 & 1\n",
    "\\end{bmatrix} \\in \\mathbb{R}^{2\\times 2}\n",
    "$ \n",
    "\n",
    "$\\mathbf{I}_3 = \n",
    "\\begin{bmatrix}\n",
    "1 &   0  & 0 \\\\\n",
    "0  &   1&  0 \\\\\n",
    "0 & 0 & 1\n",
    "\\end{bmatrix} \\in \\mathbb{R}^{3\\times 3}\n",
    "$ \n",
    "\n",
    "$\\mathbf{I}_n = \n",
    "\\begin{bmatrix}\n",
    "1 &   \\ldots & 0 \\\\\n",
    "\\vdots  &   \\ddots &  \\vdots \\\\\n",
    "0 & \\ldots & 1\n",
    "\\end{bmatrix} \\in \\mathbb{R}^{n\\times n}\n",
    "$ \n",
    "\n",
    "$\\mathbf{A} \\in \\mathbb{R}^{n\\times n}\n",
    "\\Longrightarrow \\mathbf{A}\\mathbf{I}_n = \\mathbf{I}_n\\mathbf{A} = \\mathbf{A}\n",
    "$\n",
    "\n",
    "$\\mathbf{A} \\in \\mathbb{R}^{n\\times m}\n",
    "\\Longrightarrow \\mathbf{A}\\mathbf{I}_m = \\mathbf{I}_n\\mathbf{A} = \\mathbf{A}\n",
    "$\n",
    "\n",
    "Note: sometimes identity matrix simply denoted by $\\mathbf{I}$"
   ]
  },
  {
   "cell_type": "code",
   "execution_count": 213,
   "metadata": {
    "collapsed": false
   },
   "outputs": [
    {
     "data": {
      "text/plain": [
       "array([[ 1.,  0.,  0.,  0.],\n",
       "       [ 0.,  1.,  0.,  0.],\n",
       "       [ 0.,  0.,  1.,  0.],\n",
       "       [ 0.,  0.,  0.,  1.]])"
      ]
     },
     "execution_count": 213,
     "metadata": {},
     "output_type": "execute_result"
    }
   ],
   "source": [
    "I = np.eye(4) # identity matrix of dimension 4\n",
    "I"
   ]
  },
  {
   "cell_type": "code",
   "execution_count": 214,
   "metadata": {
    "collapsed": false
   },
   "outputs": [
    {
     "data": {
      "text/plain": [
       "array([[ 0.77,  0.33,  0.45,  0.46],\n",
       "       [ 0.38,  0.8 ,  0.13,  0.49],\n",
       "       [ 0.22,  0.82,  0.87,  0.7 ],\n",
       "       [ 0.42,  0.01,  0.09,  0.1 ]])"
      ]
     },
     "execution_count": 214,
     "metadata": {},
     "output_type": "execute_result"
    }
   ],
   "source": [
    "A = np.random.rand(4,4) # random matrix size (4x4)\n",
    "A"
   ]
  },
  {
   "cell_type": "code",
   "execution_count": 215,
   "metadata": {
    "collapsed": false
   },
   "outputs": [
    {
     "data": {
      "text/plain": [
       "array([[ 0.77,  0.33,  0.45,  0.46],\n",
       "       [ 0.38,  0.8 ,  0.13,  0.49],\n",
       "       [ 0.22,  0.82,  0.87,  0.7 ],\n",
       "       [ 0.42,  0.01,  0.09,  0.1 ]])"
      ]
     },
     "execution_count": 215,
     "metadata": {},
     "output_type": "execute_result"
    }
   ],
   "source": [
    "A @ I"
   ]
  },
  {
   "cell_type": "code",
   "execution_count": 216,
   "metadata": {
    "collapsed": false
   },
   "outputs": [
    {
     "data": {
      "text/plain": [
       "array([[ 0.,  0.,  0.,  0.],\n",
       "       [ 0.,  0.,  0.,  0.],\n",
       "       [ 0.,  0.,  0.,  0.],\n",
       "       [ 0.,  0.,  0.,  0.]])"
      ]
     },
     "execution_count": 216,
     "metadata": {},
     "output_type": "execute_result"
    }
   ],
   "source": [
    "(A @ I) - (I @ A)"
   ]
  },
  {
   "cell_type": "markdown",
   "metadata": {},
   "source": [
    "## Matrix inversion\n",
    "\n",
    "Matrix inverse is only defined for non-singular square matrices (with non zero determinant).\n",
    "\n",
    "$\\mathbf{A}\\in \\mathbb{R}^{n\\times n}$\n",
    "\n",
    "$\\mathbf{A}^{-1}\\in \\mathbb{R}^{n\\times n}$, defined only if $\\det(\\mathbf{A})\\neq 0$\n",
    "\n",
    "$\\mathbf{A}\\mathbf{A}^{-1} = \\mathbf{A}^{-1}\\mathbf{A} = \\mathbf{I}_n$\n",
    "\n"
   ]
  },
  {
   "cell_type": "code",
   "execution_count": 217,
   "metadata": {
    "collapsed": false
   },
   "outputs": [
    {
     "data": {
      "text/plain": [
       "array([[ 0.35, -0.98,  1.15, -0.32],\n",
       "       [ 0.19,  0.21, -0.23,  0.23],\n",
       "       [ 0.06,  0.69, -1.74,  0.87],\n",
       "       [ 1.18,  0.27,  1.92, -1.45]])"
      ]
     },
     "execution_count": 217,
     "metadata": {},
     "output_type": "execute_result"
    }
   ],
   "source": [
    "A = np.random.randn(4,4)\n",
    "A"
   ]
  },
  {
   "cell_type": "code",
   "execution_count": 218,
   "metadata": {
    "collapsed": false
   },
   "outputs": [
    {
     "data": {
      "text/plain": [
       "array([[ 0.97, -0.02,  1.19,  0.5 ],\n",
       "       [-1.28,  2.8 , -1.22, -0.01],\n",
       "       [-0.56,  4.01, -1.89, -0.38],\n",
       "       [-0.19,  5.79, -1.74, -0.79]])"
      ]
     },
     "execution_count": 218,
     "metadata": {},
     "output_type": "execute_result"
    }
   ],
   "source": [
    "np.linalg.inv(A) # matrix inverse"
   ]
  },
  {
   "cell_type": "code",
   "execution_count": 219,
   "metadata": {
    "collapsed": false
   },
   "outputs": [
    {
     "data": {
      "text/plain": [
       "array([[  1.00e+00,  -4.44e-16,  -3.33e-16,   5.55e-17],\n",
       "       [  3.47e-17,   1.00e+00,   1.67e-16,   5.55e-17],\n",
       "       [ -1.11e-16,   0.00e+00,   1.00e+00,  -1.11e-16],\n",
       "       [  1.11e-16,   0.00e+00,   0.00e+00,   1.00e+00]])"
      ]
     },
     "execution_count": 219,
     "metadata": {},
     "output_type": "execute_result"
    }
   ],
   "source": [
    "A @ np.linalg.inv(A) # the result is the identity matrix except for numerical accuracy in the order 10e-15"
   ]
  },
  {
   "cell_type": "code",
   "execution_count": 239,
   "metadata": {
    "collapsed": false
   },
   "outputs": [
    {
     "data": {
      "text/plain": [
       "array([[ 0.98,  0.53,  0.03, ...,  0.88,  0.86,  0.26],\n",
       "       [ 0.16,  0.84,  0.34, ...,  0.29,  0.16,  0.34],\n",
       "       [ 0.19,  0.5 ,  0.06, ...,  0.87,  0.77,  0.73],\n",
       "       ..., \n",
       "       [ 0.94,  0.46,  0.76, ...,  0.97,  0.14,  0.13],\n",
       "       [ 0.42,  0.37,  0.1 , ...,  0.8 ,  0.59,  0.09],\n",
       "       [ 0.53,  0.7 ,  0.93, ...,  0.01,  0.5 ,  0.23]])"
      ]
     },
     "execution_count": 239,
     "metadata": {},
     "output_type": "execute_result"
    }
   ],
   "source": [
    "n = 100 # dimension\n",
    "A = np.random.rand(n,n) # \n",
    "A"
   ]
  },
  {
   "cell_type": "code",
   "execution_count": 240,
   "metadata": {
    "collapsed": false
   },
   "outputs": [
    {
     "data": {
      "text/plain": [
       "array([[ 0.06, -0.02, -0.1 , ...,  0.04, -0.22,  0.15],\n",
       "       [ 0.12,  0.06,  0.04, ...,  0.1 ,  0.05, -0.09],\n",
       "       [-0.1 ,  0.13,  0.07, ..., -0.21,  0.04,  0.48],\n",
       "       ..., \n",
       "       [ 0.32, -0.43,  0.15, ..., -0.1 ,  0.  , -0.5 ],\n",
       "       [ 0.04, -0.05,  0.12, ...,  0.12, -0.04, -0.14],\n",
       "       [-0.1 ,  0.22, -0.19, ...,  0.22, -0.1 , -0.01]])"
      ]
     },
     "execution_count": 240,
     "metadata": {},
     "output_type": "execute_result"
    }
   ],
   "source": [
    "Ainv = np.linalg.inv(A) # inverse of a 100x100 matrix, don't try to do this by hand...\n",
    "Ainv"
   ]
  },
  {
   "cell_type": "code",
   "execution_count": 247,
   "metadata": {
    "collapsed": false
   },
   "outputs": [
    {
     "data": {
      "application/javascript": [
       "/* Put everything inside the global mpl namespace */\n",
       "window.mpl = {};\n",
       "\n",
       "mpl.get_websocket_type = function() {\n",
       "    if (typeof(WebSocket) !== 'undefined') {\n",
       "        return WebSocket;\n",
       "    } else if (typeof(MozWebSocket) !== 'undefined') {\n",
       "        return MozWebSocket;\n",
       "    } else {\n",
       "        alert('Your browser does not have WebSocket support.' +\n",
       "              'Please try Chrome, Safari or Firefox ≥ 6. ' +\n",
       "              'Firefox 4 and 5 are also supported but you ' +\n",
       "              'have to enable WebSockets in about:config.');\n",
       "    };\n",
       "}\n",
       "\n",
       "mpl.figure = function(figure_id, websocket, ondownload, parent_element) {\n",
       "    this.id = figure_id;\n",
       "\n",
       "    this.ws = websocket;\n",
       "\n",
       "    this.supports_binary = (this.ws.binaryType != undefined);\n",
       "\n",
       "    if (!this.supports_binary) {\n",
       "        var warnings = document.getElementById(\"mpl-warnings\");\n",
       "        if (warnings) {\n",
       "            warnings.style.display = 'block';\n",
       "            warnings.textContent = (\n",
       "                \"This browser does not support binary websocket messages. \" +\n",
       "                    \"Performance may be slow.\");\n",
       "        }\n",
       "    }\n",
       "\n",
       "    this.imageObj = new Image();\n",
       "\n",
       "    this.context = undefined;\n",
       "    this.message = undefined;\n",
       "    this.canvas = undefined;\n",
       "    this.rubberband_canvas = undefined;\n",
       "    this.rubberband_context = undefined;\n",
       "    this.format_dropdown = undefined;\n",
       "\n",
       "    this.image_mode = 'full';\n",
       "\n",
       "    this.root = $('<div/>');\n",
       "    this._root_extra_style(this.root)\n",
       "    this.root.attr('style', 'display: inline-block');\n",
       "\n",
       "    $(parent_element).append(this.root);\n",
       "\n",
       "    this._init_header(this);\n",
       "    this._init_canvas(this);\n",
       "    this._init_toolbar(this);\n",
       "\n",
       "    var fig = this;\n",
       "\n",
       "    this.waiting = false;\n",
       "\n",
       "    this.ws.onopen =  function () {\n",
       "            fig.send_message(\"supports_binary\", {value: fig.supports_binary});\n",
       "            fig.send_message(\"send_image_mode\", {});\n",
       "            fig.send_message(\"refresh\", {});\n",
       "        }\n",
       "\n",
       "    this.imageObj.onload = function() {\n",
       "            if (fig.image_mode == 'full') {\n",
       "                // Full images could contain transparency (where diff images\n",
       "                // almost always do), so we need to clear the canvas so that\n",
       "                // there is no ghosting.\n",
       "                fig.context.clearRect(0, 0, fig.canvas.width, fig.canvas.height);\n",
       "            }\n",
       "            fig.context.drawImage(fig.imageObj, 0, 0);\n",
       "        };\n",
       "\n",
       "    this.imageObj.onunload = function() {\n",
       "        this.ws.close();\n",
       "    }\n",
       "\n",
       "    this.ws.onmessage = this._make_on_message_function(this);\n",
       "\n",
       "    this.ondownload = ondownload;\n",
       "}\n",
       "\n",
       "mpl.figure.prototype._init_header = function() {\n",
       "    var titlebar = $(\n",
       "        '<div class=\"ui-dialog-titlebar ui-widget-header ui-corner-all ' +\n",
       "        'ui-helper-clearfix\"/>');\n",
       "    var titletext = $(\n",
       "        '<div class=\"ui-dialog-title\" style=\"width: 100%; ' +\n",
       "        'text-align: center; padding: 3px;\"/>');\n",
       "    titlebar.append(titletext)\n",
       "    this.root.append(titlebar);\n",
       "    this.header = titletext[0];\n",
       "}\n",
       "\n",
       "\n",
       "\n",
       "mpl.figure.prototype._canvas_extra_style = function(canvas_div) {\n",
       "\n",
       "}\n",
       "\n",
       "\n",
       "mpl.figure.prototype._root_extra_style = function(canvas_div) {\n",
       "\n",
       "}\n",
       "\n",
       "mpl.figure.prototype._init_canvas = function() {\n",
       "    var fig = this;\n",
       "\n",
       "    var canvas_div = $('<div/>');\n",
       "\n",
       "    canvas_div.attr('style', 'position: relative; clear: both; outline: 0');\n",
       "\n",
       "    function canvas_keyboard_event(event) {\n",
       "        return fig.key_event(event, event['data']);\n",
       "    }\n",
       "\n",
       "    canvas_div.keydown('key_press', canvas_keyboard_event);\n",
       "    canvas_div.keyup('key_release', canvas_keyboard_event);\n",
       "    this.canvas_div = canvas_div\n",
       "    this._canvas_extra_style(canvas_div)\n",
       "    this.root.append(canvas_div);\n",
       "\n",
       "    var canvas = $('<canvas/>');\n",
       "    canvas.addClass('mpl-canvas');\n",
       "    canvas.attr('style', \"left: 0; top: 0; z-index: 0; outline: 0\")\n",
       "\n",
       "    this.canvas = canvas[0];\n",
       "    this.context = canvas[0].getContext(\"2d\");\n",
       "\n",
       "    var rubberband = $('<canvas/>');\n",
       "    rubberband.attr('style', \"position: absolute; left: 0; top: 0; z-index: 1;\")\n",
       "\n",
       "    var pass_mouse_events = true;\n",
       "\n",
       "    canvas_div.resizable({\n",
       "        start: function(event, ui) {\n",
       "            pass_mouse_events = false;\n",
       "        },\n",
       "        resize: function(event, ui) {\n",
       "            fig.request_resize(ui.size.width, ui.size.height);\n",
       "        },\n",
       "        stop: function(event, ui) {\n",
       "            pass_mouse_events = true;\n",
       "            fig.request_resize(ui.size.width, ui.size.height);\n",
       "        },\n",
       "    });\n",
       "\n",
       "    function mouse_event_fn(event) {\n",
       "        if (pass_mouse_events)\n",
       "            return fig.mouse_event(event, event['data']);\n",
       "    }\n",
       "\n",
       "    rubberband.mousedown('button_press', mouse_event_fn);\n",
       "    rubberband.mouseup('button_release', mouse_event_fn);\n",
       "    // Throttle sequential mouse events to 1 every 20ms.\n",
       "    rubberband.mousemove('motion_notify', mouse_event_fn);\n",
       "\n",
       "    rubberband.mouseenter('figure_enter', mouse_event_fn);\n",
       "    rubberband.mouseleave('figure_leave', mouse_event_fn);\n",
       "\n",
       "    canvas_div.on(\"wheel\", function (event) {\n",
       "        event = event.originalEvent;\n",
       "        event['data'] = 'scroll'\n",
       "        if (event.deltaY < 0) {\n",
       "            event.step = 1;\n",
       "        } else {\n",
       "            event.step = -1;\n",
       "        }\n",
       "        mouse_event_fn(event);\n",
       "    });\n",
       "\n",
       "    canvas_div.append(canvas);\n",
       "    canvas_div.append(rubberband);\n",
       "\n",
       "    this.rubberband = rubberband;\n",
       "    this.rubberband_canvas = rubberband[0];\n",
       "    this.rubberband_context = rubberband[0].getContext(\"2d\");\n",
       "    this.rubberband_context.strokeStyle = \"#000000\";\n",
       "\n",
       "    this._resize_canvas = function(width, height) {\n",
       "        // Keep the size of the canvas, canvas container, and rubber band\n",
       "        // canvas in synch.\n",
       "        canvas_div.css('width', width)\n",
       "        canvas_div.css('height', height)\n",
       "\n",
       "        canvas.attr('width', width);\n",
       "        canvas.attr('height', height);\n",
       "\n",
       "        rubberband.attr('width', width);\n",
       "        rubberband.attr('height', height);\n",
       "    }\n",
       "\n",
       "    // Set the figure to an initial 600x600px, this will subsequently be updated\n",
       "    // upon first draw.\n",
       "    this._resize_canvas(600, 600);\n",
       "\n",
       "    // Disable right mouse context menu.\n",
       "    $(this.rubberband_canvas).bind(\"contextmenu\",function(e){\n",
       "        return false;\n",
       "    });\n",
       "\n",
       "    function set_focus () {\n",
       "        canvas.focus();\n",
       "        canvas_div.focus();\n",
       "    }\n",
       "\n",
       "    window.setTimeout(set_focus, 100);\n",
       "}\n",
       "\n",
       "mpl.figure.prototype._init_toolbar = function() {\n",
       "    var fig = this;\n",
       "\n",
       "    var nav_element = $('<div/>')\n",
       "    nav_element.attr('style', 'width: 100%');\n",
       "    this.root.append(nav_element);\n",
       "\n",
       "    // Define a callback function for later on.\n",
       "    function toolbar_event(event) {\n",
       "        return fig.toolbar_button_onclick(event['data']);\n",
       "    }\n",
       "    function toolbar_mouse_event(event) {\n",
       "        return fig.toolbar_button_onmouseover(event['data']);\n",
       "    }\n",
       "\n",
       "    for(var toolbar_ind in mpl.toolbar_items) {\n",
       "        var name = mpl.toolbar_items[toolbar_ind][0];\n",
       "        var tooltip = mpl.toolbar_items[toolbar_ind][1];\n",
       "        var image = mpl.toolbar_items[toolbar_ind][2];\n",
       "        var method_name = mpl.toolbar_items[toolbar_ind][3];\n",
       "\n",
       "        if (!name) {\n",
       "            // put a spacer in here.\n",
       "            continue;\n",
       "        }\n",
       "        var button = $('<button/>');\n",
       "        button.addClass('ui-button ui-widget ui-state-default ui-corner-all ' +\n",
       "                        'ui-button-icon-only');\n",
       "        button.attr('role', 'button');\n",
       "        button.attr('aria-disabled', 'false');\n",
       "        button.click(method_name, toolbar_event);\n",
       "        button.mouseover(tooltip, toolbar_mouse_event);\n",
       "\n",
       "        var icon_img = $('<span/>');\n",
       "        icon_img.addClass('ui-button-icon-primary ui-icon');\n",
       "        icon_img.addClass(image);\n",
       "        icon_img.addClass('ui-corner-all');\n",
       "\n",
       "        var tooltip_span = $('<span/>');\n",
       "        tooltip_span.addClass('ui-button-text');\n",
       "        tooltip_span.html(tooltip);\n",
       "\n",
       "        button.append(icon_img);\n",
       "        button.append(tooltip_span);\n",
       "\n",
       "        nav_element.append(button);\n",
       "    }\n",
       "\n",
       "    var fmt_picker_span = $('<span/>');\n",
       "\n",
       "    var fmt_picker = $('<select/>');\n",
       "    fmt_picker.addClass('mpl-toolbar-option ui-widget ui-widget-content');\n",
       "    fmt_picker_span.append(fmt_picker);\n",
       "    nav_element.append(fmt_picker_span);\n",
       "    this.format_dropdown = fmt_picker[0];\n",
       "\n",
       "    for (var ind in mpl.extensions) {\n",
       "        var fmt = mpl.extensions[ind];\n",
       "        var option = $(\n",
       "            '<option/>', {selected: fmt === mpl.default_extension}).html(fmt);\n",
       "        fmt_picker.append(option)\n",
       "    }\n",
       "\n",
       "    // Add hover states to the ui-buttons\n",
       "    $( \".ui-button\" ).hover(\n",
       "        function() { $(this).addClass(\"ui-state-hover\");},\n",
       "        function() { $(this).removeClass(\"ui-state-hover\");}\n",
       "    );\n",
       "\n",
       "    var status_bar = $('<span class=\"mpl-message\"/>');\n",
       "    nav_element.append(status_bar);\n",
       "    this.message = status_bar[0];\n",
       "}\n",
       "\n",
       "mpl.figure.prototype.request_resize = function(x_pixels, y_pixels) {\n",
       "    // Request matplotlib to resize the figure. Matplotlib will then trigger a resize in the client,\n",
       "    // which will in turn request a refresh of the image.\n",
       "    this.send_message('resize', {'width': x_pixels, 'height': y_pixels});\n",
       "}\n",
       "\n",
       "mpl.figure.prototype.send_message = function(type, properties) {\n",
       "    properties['type'] = type;\n",
       "    properties['figure_id'] = this.id;\n",
       "    this.ws.send(JSON.stringify(properties));\n",
       "}\n",
       "\n",
       "mpl.figure.prototype.send_draw_message = function() {\n",
       "    if (!this.waiting) {\n",
       "        this.waiting = true;\n",
       "        this.ws.send(JSON.stringify({type: \"draw\", figure_id: this.id}));\n",
       "    }\n",
       "}\n",
       "\n",
       "\n",
       "mpl.figure.prototype.handle_save = function(fig, msg) {\n",
       "    var format_dropdown = fig.format_dropdown;\n",
       "    var format = format_dropdown.options[format_dropdown.selectedIndex].value;\n",
       "    fig.ondownload(fig, format);\n",
       "}\n",
       "\n",
       "\n",
       "mpl.figure.prototype.handle_resize = function(fig, msg) {\n",
       "    var size = msg['size'];\n",
       "    if (size[0] != fig.canvas.width || size[1] != fig.canvas.height) {\n",
       "        fig._resize_canvas(size[0], size[1]);\n",
       "        fig.send_message(\"refresh\", {});\n",
       "    };\n",
       "}\n",
       "\n",
       "mpl.figure.prototype.handle_rubberband = function(fig, msg) {\n",
       "    var x0 = msg['x0'];\n",
       "    var y0 = fig.canvas.height - msg['y0'];\n",
       "    var x1 = msg['x1'];\n",
       "    var y1 = fig.canvas.height - msg['y1'];\n",
       "    x0 = Math.floor(x0) + 0.5;\n",
       "    y0 = Math.floor(y0) + 0.5;\n",
       "    x1 = Math.floor(x1) + 0.5;\n",
       "    y1 = Math.floor(y1) + 0.5;\n",
       "    var min_x = Math.min(x0, x1);\n",
       "    var min_y = Math.min(y0, y1);\n",
       "    var width = Math.abs(x1 - x0);\n",
       "    var height = Math.abs(y1 - y0);\n",
       "\n",
       "    fig.rubberband_context.clearRect(\n",
       "        0, 0, fig.canvas.width, fig.canvas.height);\n",
       "\n",
       "    fig.rubberband_context.strokeRect(min_x, min_y, width, height);\n",
       "}\n",
       "\n",
       "mpl.figure.prototype.handle_figure_label = function(fig, msg) {\n",
       "    // Updates the figure title.\n",
       "    fig.header.textContent = msg['label'];\n",
       "}\n",
       "\n",
       "mpl.figure.prototype.handle_cursor = function(fig, msg) {\n",
       "    var cursor = msg['cursor'];\n",
       "    switch(cursor)\n",
       "    {\n",
       "    case 0:\n",
       "        cursor = 'pointer';\n",
       "        break;\n",
       "    case 1:\n",
       "        cursor = 'default';\n",
       "        break;\n",
       "    case 2:\n",
       "        cursor = 'crosshair';\n",
       "        break;\n",
       "    case 3:\n",
       "        cursor = 'move';\n",
       "        break;\n",
       "    }\n",
       "    fig.rubberband_canvas.style.cursor = cursor;\n",
       "}\n",
       "\n",
       "mpl.figure.prototype.handle_message = function(fig, msg) {\n",
       "    fig.message.textContent = msg['message'];\n",
       "}\n",
       "\n",
       "mpl.figure.prototype.handle_draw = function(fig, msg) {\n",
       "    // Request the server to send over a new figure.\n",
       "    fig.send_draw_message();\n",
       "}\n",
       "\n",
       "mpl.figure.prototype.handle_image_mode = function(fig, msg) {\n",
       "    fig.image_mode = msg['mode'];\n",
       "}\n",
       "\n",
       "mpl.figure.prototype.updated_canvas_event = function() {\n",
       "    // Called whenever the canvas gets updated.\n",
       "    this.send_message(\"ack\", {});\n",
       "}\n",
       "\n",
       "// A function to construct a web socket function for onmessage handling.\n",
       "// Called in the figure constructor.\n",
       "mpl.figure.prototype._make_on_message_function = function(fig) {\n",
       "    return function socket_on_message(evt) {\n",
       "        if (evt.data instanceof Blob) {\n",
       "            /* FIXME: We get \"Resource interpreted as Image but\n",
       "             * transferred with MIME type text/plain:\" errors on\n",
       "             * Chrome.  But how to set the MIME type?  It doesn't seem\n",
       "             * to be part of the websocket stream */\n",
       "            evt.data.type = \"image/png\";\n",
       "\n",
       "            /* Free the memory for the previous frames */\n",
       "            if (fig.imageObj.src) {\n",
       "                (window.URL || window.webkitURL).revokeObjectURL(\n",
       "                    fig.imageObj.src);\n",
       "            }\n",
       "\n",
       "            fig.imageObj.src = (window.URL || window.webkitURL).createObjectURL(\n",
       "                evt.data);\n",
       "            fig.updated_canvas_event();\n",
       "            fig.waiting = false;\n",
       "            return;\n",
       "        }\n",
       "        else if (typeof evt.data === 'string' && evt.data.slice(0, 21) == \"data:image/png;base64\") {\n",
       "            fig.imageObj.src = evt.data;\n",
       "            fig.updated_canvas_event();\n",
       "            fig.waiting = false;\n",
       "            return;\n",
       "        }\n",
       "\n",
       "        var msg = JSON.parse(evt.data);\n",
       "        var msg_type = msg['type'];\n",
       "\n",
       "        // Call the  \"handle_{type}\" callback, which takes\n",
       "        // the figure and JSON message as its only arguments.\n",
       "        try {\n",
       "            var callback = fig[\"handle_\" + msg_type];\n",
       "        } catch (e) {\n",
       "            console.log(\"No handler for the '\" + msg_type + \"' message type: \", msg);\n",
       "            return;\n",
       "        }\n",
       "\n",
       "        if (callback) {\n",
       "            try {\n",
       "                // console.log(\"Handling '\" + msg_type + \"' message: \", msg);\n",
       "                callback(fig, msg);\n",
       "            } catch (e) {\n",
       "                console.log(\"Exception inside the 'handler_\" + msg_type + \"' callback:\", e, e.stack, msg);\n",
       "            }\n",
       "        }\n",
       "    };\n",
       "}\n",
       "\n",
       "// from http://stackoverflow.com/questions/1114465/getting-mouse-location-in-canvas\n",
       "mpl.findpos = function(e) {\n",
       "    //this section is from http://www.quirksmode.org/js/events_properties.html\n",
       "    var targ;\n",
       "    if (!e)\n",
       "        e = window.event;\n",
       "    if (e.target)\n",
       "        targ = e.target;\n",
       "    else if (e.srcElement)\n",
       "        targ = e.srcElement;\n",
       "    if (targ.nodeType == 3) // defeat Safari bug\n",
       "        targ = targ.parentNode;\n",
       "\n",
       "    // jQuery normalizes the pageX and pageY\n",
       "    // pageX,Y are the mouse positions relative to the document\n",
       "    // offset() returns the position of the element relative to the document\n",
       "    var x = e.pageX - $(targ).offset().left;\n",
       "    var y = e.pageY - $(targ).offset().top;\n",
       "\n",
       "    return {\"x\": x, \"y\": y};\n",
       "};\n",
       "\n",
       "/*\n",
       " * return a copy of an object with only non-object keys\n",
       " * we need this to avoid circular references\n",
       " * http://stackoverflow.com/a/24161582/3208463\n",
       " */\n",
       "function simpleKeys (original) {\n",
       "  return Object.keys(original).reduce(function (obj, key) {\n",
       "    if (typeof original[key] !== 'object')\n",
       "        obj[key] = original[key]\n",
       "    return obj;\n",
       "  }, {});\n",
       "}\n",
       "\n",
       "mpl.figure.prototype.mouse_event = function(event, name) {\n",
       "    var canvas_pos = mpl.findpos(event)\n",
       "\n",
       "    if (name === 'button_press')\n",
       "    {\n",
       "        this.canvas.focus();\n",
       "        this.canvas_div.focus();\n",
       "    }\n",
       "\n",
       "    var x = canvas_pos.x;\n",
       "    var y = canvas_pos.y;\n",
       "\n",
       "    this.send_message(name, {x: x, y: y, button: event.button,\n",
       "                             step: event.step,\n",
       "                             guiEvent: simpleKeys(event)});\n",
       "\n",
       "    /* This prevents the web browser from automatically changing to\n",
       "     * the text insertion cursor when the button is pressed.  We want\n",
       "     * to control all of the cursor setting manually through the\n",
       "     * 'cursor' event from matplotlib */\n",
       "    event.preventDefault();\n",
       "    return false;\n",
       "}\n",
       "\n",
       "mpl.figure.prototype._key_event_extra = function(event, name) {\n",
       "    // Handle any extra behaviour associated with a key event\n",
       "}\n",
       "\n",
       "mpl.figure.prototype.key_event = function(event, name) {\n",
       "\n",
       "    // Prevent repeat events\n",
       "    if (name == 'key_press')\n",
       "    {\n",
       "        if (event.which === this._key)\n",
       "            return;\n",
       "        else\n",
       "            this._key = event.which;\n",
       "    }\n",
       "    if (name == 'key_release')\n",
       "        this._key = null;\n",
       "\n",
       "    var value = '';\n",
       "    if (event.ctrlKey && event.which != 17)\n",
       "        value += \"ctrl+\";\n",
       "    if (event.altKey && event.which != 18)\n",
       "        value += \"alt+\";\n",
       "    if (event.shiftKey && event.which != 16)\n",
       "        value += \"shift+\";\n",
       "\n",
       "    value += 'k';\n",
       "    value += event.which.toString();\n",
       "\n",
       "    this._key_event_extra(event, name);\n",
       "\n",
       "    this.send_message(name, {key: value,\n",
       "                             guiEvent: simpleKeys(event)});\n",
       "    return false;\n",
       "}\n",
       "\n",
       "mpl.figure.prototype.toolbar_button_onclick = function(name) {\n",
       "    if (name == 'download') {\n",
       "        this.handle_save(this, null);\n",
       "    } else {\n",
       "        this.send_message(\"toolbar_button\", {name: name});\n",
       "    }\n",
       "};\n",
       "\n",
       "mpl.figure.prototype.toolbar_button_onmouseover = function(tooltip) {\n",
       "    this.message.textContent = tooltip;\n",
       "};\n",
       "mpl.toolbar_items = [[\"Home\", \"Reset original view\", \"fa fa-home icon-home\", \"home\"], [\"Back\", \"Back to  previous view\", \"fa fa-arrow-left icon-arrow-left\", \"back\"], [\"Forward\", \"Forward to next view\", \"fa fa-arrow-right icon-arrow-right\", \"forward\"], [\"\", \"\", \"\", \"\"], [\"Pan\", \"Pan axes with left mouse, zoom with right\", \"fa fa-arrows icon-move\", \"pan\"], [\"Zoom\", \"Zoom to rectangle\", \"fa fa-square-o icon-check-empty\", \"zoom\"], [\"\", \"\", \"\", \"\"], [\"Download\", \"Download plot\", \"fa fa-floppy-o icon-save\", \"download\"]];\n",
       "\n",
       "mpl.extensions = [\"eps\", \"jpeg\", \"pdf\", \"png\", \"ps\", \"raw\", \"svg\", \"tif\"];\n",
       "\n",
       "mpl.default_extension = \"png\";var comm_websocket_adapter = function(comm) {\n",
       "    // Create a \"websocket\"-like object which calls the given IPython comm\n",
       "    // object with the appropriate methods. Currently this is a non binary\n",
       "    // socket, so there is still some room for performance tuning.\n",
       "    var ws = {};\n",
       "\n",
       "    ws.close = function() {\n",
       "        comm.close()\n",
       "    };\n",
       "    ws.send = function(m) {\n",
       "        //console.log('sending', m);\n",
       "        comm.send(m);\n",
       "    };\n",
       "    // Register the callback with on_msg.\n",
       "    comm.on_msg(function(msg) {\n",
       "        //console.log('receiving', msg['content']['data'], msg);\n",
       "        // Pass the mpl event to the overriden (by mpl) onmessage function.\n",
       "        ws.onmessage(msg['content']['data'])\n",
       "    });\n",
       "    return ws;\n",
       "}\n",
       "\n",
       "mpl.mpl_figure_comm = function(comm, msg) {\n",
       "    // This is the function which gets called when the mpl process\n",
       "    // starts-up an IPython Comm through the \"matplotlib\" channel.\n",
       "\n",
       "    var id = msg.content.data.id;\n",
       "    // Get hold of the div created by the display call when the Comm\n",
       "    // socket was opened in Python.\n",
       "    var element = $(\"#\" + id);\n",
       "    var ws_proxy = comm_websocket_adapter(comm)\n",
       "\n",
       "    function ondownload(figure, format) {\n",
       "        window.open(figure.imageObj.src);\n",
       "    }\n",
       "\n",
       "    var fig = new mpl.figure(id, ws_proxy,\n",
       "                           ondownload,\n",
       "                           element.get(0));\n",
       "\n",
       "    // Call onopen now - mpl needs it, as it is assuming we've passed it a real\n",
       "    // web socket which is closed, not our websocket->open comm proxy.\n",
       "    ws_proxy.onopen();\n",
       "\n",
       "    fig.parent_element = element.get(0);\n",
       "    fig.cell_info = mpl.find_output_cell(\"<div id='\" + id + \"'></div>\");\n",
       "    if (!fig.cell_info) {\n",
       "        console.error(\"Failed to find cell for figure\", id, fig);\n",
       "        return;\n",
       "    }\n",
       "\n",
       "    var output_index = fig.cell_info[2]\n",
       "    var cell = fig.cell_info[0];\n",
       "\n",
       "};\n",
       "\n",
       "mpl.figure.prototype.handle_close = function(fig, msg) {\n",
       "    fig.root.unbind('remove')\n",
       "\n",
       "    // Update the output cell to use the data from the current canvas.\n",
       "    fig.push_to_output();\n",
       "    var dataURL = fig.canvas.toDataURL();\n",
       "    // Re-enable the keyboard manager in IPython - without this line, in FF,\n",
       "    // the notebook keyboard shortcuts fail.\n",
       "    IPython.keyboard_manager.enable()\n",
       "    $(fig.parent_element).html('<img src=\"' + dataURL + '\">');\n",
       "    fig.close_ws(fig, msg);\n",
       "}\n",
       "\n",
       "mpl.figure.prototype.close_ws = function(fig, msg){\n",
       "    fig.send_message('closing', msg);\n",
       "    // fig.ws.close()\n",
       "}\n",
       "\n",
       "mpl.figure.prototype.push_to_output = function(remove_interactive) {\n",
       "    // Turn the data on the canvas into data in the output cell.\n",
       "    var dataURL = this.canvas.toDataURL();\n",
       "    this.cell_info[1]['text/html'] = '<img src=\"' + dataURL + '\">';\n",
       "}\n",
       "\n",
       "mpl.figure.prototype.updated_canvas_event = function() {\n",
       "    // Tell IPython that the notebook contents must change.\n",
       "    IPython.notebook.set_dirty(true);\n",
       "    this.send_message(\"ack\", {});\n",
       "    var fig = this;\n",
       "    // Wait a second, then push the new image to the DOM so\n",
       "    // that it is saved nicely (might be nice to debounce this).\n",
       "    setTimeout(function () { fig.push_to_output() }, 1000);\n",
       "}\n",
       "\n",
       "mpl.figure.prototype._init_toolbar = function() {\n",
       "    var fig = this;\n",
       "\n",
       "    var nav_element = $('<div/>')\n",
       "    nav_element.attr('style', 'width: 100%');\n",
       "    this.root.append(nav_element);\n",
       "\n",
       "    // Define a callback function for later on.\n",
       "    function toolbar_event(event) {\n",
       "        return fig.toolbar_button_onclick(event['data']);\n",
       "    }\n",
       "    function toolbar_mouse_event(event) {\n",
       "        return fig.toolbar_button_onmouseover(event['data']);\n",
       "    }\n",
       "\n",
       "    for(var toolbar_ind in mpl.toolbar_items){\n",
       "        var name = mpl.toolbar_items[toolbar_ind][0];\n",
       "        var tooltip = mpl.toolbar_items[toolbar_ind][1];\n",
       "        var image = mpl.toolbar_items[toolbar_ind][2];\n",
       "        var method_name = mpl.toolbar_items[toolbar_ind][3];\n",
       "\n",
       "        if (!name) { continue; };\n",
       "\n",
       "        var button = $('<button class=\"btn btn-default\" href=\"#\" title=\"' + name + '\"><i class=\"fa ' + image + ' fa-lg\"></i></button>');\n",
       "        button.click(method_name, toolbar_event);\n",
       "        button.mouseover(tooltip, toolbar_mouse_event);\n",
       "        nav_element.append(button);\n",
       "    }\n",
       "\n",
       "    // Add the status bar.\n",
       "    var status_bar = $('<span class=\"mpl-message\" style=\"text-align:right; float: right;\"/>');\n",
       "    nav_element.append(status_bar);\n",
       "    this.message = status_bar[0];\n",
       "\n",
       "    // Add the close button to the window.\n",
       "    var buttongrp = $('<div class=\"btn-group inline pull-right\"></div>');\n",
       "    var button = $('<button class=\"btn btn-mini btn-primary\" href=\"#\" title=\"Stop Interaction\"><i class=\"fa fa-power-off icon-remove icon-large\"></i></button>');\n",
       "    button.click(function (evt) { fig.handle_close(fig, {}); } );\n",
       "    button.mouseover('Stop Interaction', toolbar_mouse_event);\n",
       "    buttongrp.append(button);\n",
       "    var titlebar = this.root.find($('.ui-dialog-titlebar'));\n",
       "    titlebar.prepend(buttongrp);\n",
       "}\n",
       "\n",
       "mpl.figure.prototype._root_extra_style = function(el){\n",
       "    var fig = this\n",
       "    el.on(\"remove\", function(){\n",
       "\tfig.close_ws(fig, {});\n",
       "    });\n",
       "}\n",
       "\n",
       "mpl.figure.prototype._canvas_extra_style = function(el){\n",
       "    // this is important to make the div 'focusable\n",
       "    el.attr('tabindex', 0)\n",
       "    // reach out to IPython and tell the keyboard manager to turn it's self\n",
       "    // off when our div gets focus\n",
       "\n",
       "    // location in version 3\n",
       "    if (IPython.notebook.keyboard_manager) {\n",
       "        IPython.notebook.keyboard_manager.register_events(el);\n",
       "    }\n",
       "    else {\n",
       "        // location in version 2\n",
       "        IPython.keyboard_manager.register_events(el);\n",
       "    }\n",
       "\n",
       "}\n",
       "\n",
       "mpl.figure.prototype._key_event_extra = function(event, name) {\n",
       "    var manager = IPython.notebook.keyboard_manager;\n",
       "    if (!manager)\n",
       "        manager = IPython.keyboard_manager;\n",
       "\n",
       "    // Check for shift+enter\n",
       "    if (event.shiftKey && event.which == 13) {\n",
       "        this.canvas_div.blur();\n",
       "        event.shiftKey = false;\n",
       "        // Send a \"J\" for go to next cell\n",
       "        event.which = 74;\n",
       "        event.keyCode = 74;\n",
       "        manager.command_mode();\n",
       "        manager.handle_keydown(event);\n",
       "    }\n",
       "}\n",
       "\n",
       "mpl.figure.prototype.handle_save = function(fig, msg) {\n",
       "    fig.ondownload(fig, null);\n",
       "}\n",
       "\n",
       "\n",
       "mpl.find_output_cell = function(html_output) {\n",
       "    // Return the cell and output element which can be found *uniquely* in the notebook.\n",
       "    // Note - this is a bit hacky, but it is done because the \"notebook_saving.Notebook\"\n",
       "    // IPython event is triggered only after the cells have been serialised, which for\n",
       "    // our purposes (turning an active figure into a static one), is too late.\n",
       "    var cells = IPython.notebook.get_cells();\n",
       "    var ncells = cells.length;\n",
       "    for (var i=0; i<ncells; i++) {\n",
       "        var cell = cells[i];\n",
       "        if (cell.cell_type === 'code'){\n",
       "            for (var j=0; j<cell.output_area.outputs.length; j++) {\n",
       "                var data = cell.output_area.outputs[j];\n",
       "                if (data.data) {\n",
       "                    // IPython >= 3 moved mimebundle to data attribute of output\n",
       "                    data = data.data;\n",
       "                }\n",
       "                if (data['text/html'] == html_output) {\n",
       "                    return [cell, data, j];\n",
       "                }\n",
       "            }\n",
       "        }\n",
       "    }\n",
       "}\n",
       "\n",
       "// Register the function which deals with the matplotlib target/channel.\n",
       "// The kernel may be null if the page has been refreshed.\n",
       "if (IPython.notebook.kernel != null) {\n",
       "    IPython.notebook.kernel.comm_manager.register_target('matplotlib', mpl.mpl_figure_comm);\n",
       "}\n"
      ],
      "text/plain": [
       "<IPython.core.display.Javascript object>"
      ]
     },
     "metadata": {},
     "output_type": "display_data"
    },
    {
     "data": {
      "text/html": [
       "<img src=\"data:image/png;base64,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\">"
      ],
      "text/plain": [
       "<IPython.core.display.HTML object>"
      ]
     },
     "metadata": {},
     "output_type": "display_data"
    }
   ],
   "source": [
    "plt.figure(figsize=(12, 4.5))\n",
    "plt.subplot(131)\n",
    "plt.imshow(A, interpolation='nearest')\n",
    "plt.title('$\\mathbf{A}$')\n",
    "plt.grid()\n",
    "plt.subplot(132)\n",
    "plt.imshow(Ainv, interpolation='nearest')\n",
    "plt.title('$\\mathbf{A}^{-1}$')\n",
    "plt.grid()\n",
    "plt.subplot(133)\n",
    "plt.imshow(A @ Ainv, interpolation='nearest')\n",
    "plt.title('$\\mathbf{A}\\mathbf{A}^{-1}$')\n",
    "#plt.colorbar()\n",
    "plt.grid()"
   ]
  },
  {
   "cell_type": "code",
   "execution_count": null,
   "metadata": {
    "collapsed": false
   },
   "outputs": [],
   "source": [
    "Y = np.linalg.pinv(A)\n",
    "print(Y)"
   ]
  },
  {
   "cell_type": "code",
   "execution_count": null,
   "metadata": {
    "collapsed": false
   },
   "outputs": [],
   "source": [
    "print(Y @ A)"
   ]
  },
  {
   "cell_type": "code",
   "execution_count": null,
   "metadata": {
    "collapsed": false
   },
   "outputs": [],
   "source": [
    "X = A @ A.T\n",
    "Xinv = np.linalg.inv(X)\n",
    "print(X)\n",
    "print(Xinv)\n",
    "print(X @ Xinv)\n"
   ]
  },
  {
   "cell_type": "code",
   "execution_count": null,
   "metadata": {
    "collapsed": false
   },
   "outputs": [],
   "source": [
    "np.linalg.eig(X)"
   ]
  },
  {
   "cell_type": "code",
   "execution_count": null,
   "metadata": {
    "collapsed": true
   },
   "outputs": [],
   "source": []
  }
 ],
 "metadata": {
  "kernelspec": {
   "display_name": "Python 3",
   "language": "python",
   "name": "python3"
  },
  "language_info": {
   "codemirror_mode": {
    "name": "ipython",
    "version": 3
   },
   "file_extension": ".py",
   "mimetype": "text/x-python",
   "name": "python",
   "nbconvert_exporter": "python",
   "pygments_lexer": "ipython3",
   "version": "3.5.1"
  }
 },
 "nbformat": 4,
 "nbformat_minor": 0
}
