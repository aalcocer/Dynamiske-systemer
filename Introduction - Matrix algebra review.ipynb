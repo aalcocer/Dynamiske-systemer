{
 "cells": [
  {
   "cell_type": "markdown",
   "metadata": {},
   "source": [
    "# Introduction - Matrix algebra review"
   ]
  },
  {
   "cell_type": "markdown",
   "metadata": {
    "collapsed": true
   },
   "source": [
    "This page contains some basic reminder of matrix algebra using python numpy.\n",
    "\n",
    "The following links has useful information whan converting from Matlab to numpy arrays:  \n",
    "http://sebastianraschka.com/Articles/2014_matlab_vs_numpy.html  \n",
    "https://docs.scipy.org/doc/numpy-dev/user/numpy-for-matlab-users.html#\n",
    "\n",
    "\n",
    "\n",
    "\n",
    "Matrix with real elements:\n",
    "$ \\mathbf{A} = \\begin{bmatrix}\n",
    "a_{11}  & a_{12} & \\ldots & a_{1m} \\\\\n",
    "a_{21}  & a_{22} & \\ldots & a_{2m} \\\\        \n",
    "\\vdots  &  \\vdots  & \\ddots &  \\vdots\\\\\n",
    "a_{n1}  & a_{n2} &  \\ldots & a_{nm}     \n",
    "\\end{bmatrix} \\in \\mathbb{R}^{n\\times m}$\n",
    "\n",
    "The first index $n$ is the number of rows.  \n",
    "The second index $m$ is the number of columns\n",
    "\n",
    "Column vector of dimension $n$:\n",
    "$\\mathbf{a} = \n",
    "\\begin{bmatrix}\n",
    "a_{1}  \\\\\n",
    "a_{2}  \\\\\n",
    "\\vdots \\\\\n",
    "a_{n}  \\\\\n",
    "\\end{bmatrix} \\in \\mathbb{R}^{n\\times 1}\n",
    "$\n",
    "\n",
    "Row vector of dimension $m$:\n",
    "\n",
    "$\\mathbf{b} = \n",
    "\\begin{bmatrix}\n",
    "b_1  & b_2 & \\ldots b_{m} \n",
    "\\end{bmatrix} \\in \\mathbb{R}^{1\\times m}\n",
    "$\n"
   ]
  },
  {
   "cell_type": "code",
   "execution_count": 365,
   "metadata": {
    "collapsed": false
   },
   "outputs": [],
   "source": [
    "%matplotlib notebook \n",
    "\n",
    "import numpy as np\n",
    "np.set_printoptions(precision=2) # prints only 2 digits to make output more readable\n",
    "import matplotlib.pyplot as plt\n"
   ]
  },
  {
   "cell_type": "code",
   "execution_count": 366,
   "metadata": {
    "collapsed": false
   },
   "outputs": [
    {
     "data": {
      "text/plain": [
       "array([[0, 3, 2, 2, 0],\n",
       "       [6, 0, 2, 5, 5],\n",
       "       [3, 4, 4, 3, 5],\n",
       "       [2, 3, 7, 4, 2]])"
      ]
     },
     "execution_count": 366,
     "metadata": {},
     "output_type": "execute_result"
    }
   ],
   "source": [
    "A = np.random.randint(9, size=(4, 5)) # creates random matrix with integer entries (from 0-9) and size (4,5)\n",
    "A"
   ]
  },
  {
   "cell_type": "code",
   "execution_count": 367,
   "metadata": {
    "collapsed": false
   },
   "outputs": [
    {
     "data": {
      "text/plain": [
       "array([[0],\n",
       "       [2],\n",
       "       [1],\n",
       "       [6],\n",
       "       [7]])"
      ]
     },
     "execution_count": 367,
     "metadata": {},
     "output_type": "execute_result"
    }
   ],
   "source": [
    "a = np.array([[0],[2],[1],[6],[7]]) # numpy array representation of column vector as a 2d array of dimension (5,1)\n",
    "a"
   ]
  },
  {
   "cell_type": "code",
   "execution_count": 368,
   "metadata": {
    "collapsed": false
   },
   "outputs": [
    {
     "data": {
      "text/plain": [
       "(5, 1)"
      ]
     },
     "execution_count": 368,
     "metadata": {},
     "output_type": "execute_result"
    }
   ],
   "source": [
    "a.shape"
   ]
  },
  {
   "cell_type": "code",
   "execution_count": 369,
   "metadata": {
    "collapsed": false
   },
   "outputs": [
    {
     "data": {
      "text/plain": [
       "array([[1, 2, 3, 6, 7]])"
      ]
     },
     "execution_count": 369,
     "metadata": {},
     "output_type": "execute_result"
    }
   ],
   "source": [
    "b = np.array([[1,2,3,6,7]]) # row vector of dimension (1,5)\n",
    "b"
   ]
  },
  {
   "cell_type": "code",
   "execution_count": 370,
   "metadata": {
    "collapsed": false
   },
   "outputs": [
    {
     "data": {
      "text/plain": [
       "(1, 5)"
      ]
     },
     "execution_count": 370,
     "metadata": {},
     "output_type": "execute_result"
    }
   ],
   "source": [
    "b.shape"
   ]
  },
  {
   "cell_type": "code",
   "execution_count": 371,
   "metadata": {
    "collapsed": false
   },
   "outputs": [
    {
     "data": {
      "text/plain": [
       "array([[ 0.],\n",
       "       [ 0.],\n",
       "       [ 0.],\n",
       "       [ 0.],\n",
       "       [ 0.]])"
      ]
     },
     "execution_count": 371,
     "metadata": {},
     "output_type": "execute_result"
    }
   ],
   "source": [
    "np.zeros((5,1)) # column vector of zeros and dimension 5x1"
   ]
  },
  {
   "cell_type": "code",
   "execution_count": 372,
   "metadata": {
    "collapsed": false
   },
   "outputs": [
    {
     "data": {
      "text/plain": [
       "array([[ 1.,  1.,  1.,  1.]])"
      ]
     },
     "execution_count": 372,
     "metadata": {},
     "output_type": "execute_result"
    }
   ],
   "source": [
    "np.ones((1,4)) # row vector of ones and dimension 5x1"
   ]
  },
  {
   "cell_type": "markdown",
   "metadata": {},
   "source": [
    "## Transpose\n",
    "\n",
    "\n",
    "\n",
    "$ \\mathbf{A} = \\begin{bmatrix}\n",
    "a_{11}  & a_{12} & \\ldots & a_{1m} \\\\\n",
    "a_{21}  & a_{22} & \\ldots & a_{2m} \\\\        \n",
    "\\vdots  &  \\vdots  & \\ddots &  \\vdots\\\\\n",
    "a_{n1}  & a_{n2} &  \\ldots & a_{nm}     \n",
    "\\end{bmatrix} \\in \\mathbb{R}^{n\\times m} \\Longrightarrow\n",
    "\\mathbf{A}^T = \\begin{bmatrix}\n",
    "a_{11}  & a_{21} & \\ldots & a_{n1} \\\\\n",
    "a_{12}  & a_{22} & \\ldots & a_{n2} \\\\        \n",
    "\\vdots  &  \\vdots  & \\ddots &  \\vdots\\\\\n",
    "a_{1m}  & a_{2m} &  \\ldots & a_{nm}     \n",
    "\\end{bmatrix} \\in \\mathbb{R}^{m\\times n}$\n",
    "\n",
    "$  \\mathbf{A} = \\begin{bmatrix}\n",
    "\\mathbf{c}_{1}  & \\mathbf{c}_{1} & \\ldots & \\mathbf{c}_{m}\n",
    "\\end{bmatrix} \\in \\mathbb{R}^{n\\times m}, \n",
    "\\mathbf{c}_i = \n",
    "\\begin{bmatrix}\n",
    "a_{1i}  \\\\\n",
    "a_{2i}  \\\\\n",
    "\\vdots \\\\\n",
    "a_{ni}  \\\\\n",
    "\\end{bmatrix} \\in \\mathbb{R}^{n\\times 1}\n",
    " \\Longrightarrow\n",
    "\\mathbf{A}^T = \\begin{bmatrix}\n",
    "\\mathbf{c}^T_{1}  \\\\\n",
    "\\mathbf{c}^T_{2}  \\\\\n",
    "\\vdots \\\\\n",
    "\\mathbf{c}^T_{m}\n",
    "\\end{bmatrix} \\in \\mathbb{R}^{m\\times n},\n",
    "\\mathbf{c}^T_i = \n",
    "\\begin{bmatrix}\n",
    "a_{1i}  & a_{2i} & \\ldots &a_{ni}  \n",
    "\\end{bmatrix} \\in \\mathbb{R}^{1\\times n}\n",
    "$\n",
    "\n",
    "$  \n",
    "\\mathbf{A} = \\begin{bmatrix}\n",
    "\\mathbf{r}_{1}  \\\\\n",
    "\\mathbf{r}_{2}  \\\\\n",
    "\\vdots \\\\\n",
    "\\mathbf{r}_{n}\n",
    "\\end{bmatrix}\\in \\mathbb{R}^{n\\times m},\n",
    "\\mathbf{r}_i = \n",
    "\\begin{bmatrix}\n",
    "a_{i1}  & a_{i2} & \\ldots &a_{im}  \n",
    "\\end{bmatrix} \\in \\mathbb{R}^{1\\times m}\n",
    " \\Longrightarrow\n",
    "\\mathbf{A}^T = \\begin{bmatrix}\n",
    "\\mathbf{r}^T_{1}  & \\mathbf{r}^T_{1} & \\ldots & \\mathbf{r}^T_{n}\n",
    "\\end{bmatrix} \\in \\mathbb{R}^{m\\times n},\n",
    "\\mathbf{r}^T_i = \n",
    "\\begin{bmatrix}\n",
    "a_{i1}  \\\\\n",
    "a_{i2}  \\\\\n",
    "\\vdots \\\\\n",
    "a_{im}  \\\\\n",
    "\\end{bmatrix} \\in \\mathbb{R}^{m\\times 1}\n",
    "$"
   ]
  },
  {
   "cell_type": "code",
   "execution_count": 373,
   "metadata": {
    "collapsed": false
   },
   "outputs": [
    {
     "data": {
      "text/plain": [
       "array([[2, 5, 2],\n",
       "       [8, 0, 6],\n",
       "       [7, 8, 4],\n",
       "       [6, 1, 8],\n",
       "       [6, 0, 3]])"
      ]
     },
     "execution_count": 373,
     "metadata": {},
     "output_type": "execute_result"
    }
   ],
   "source": [
    "A = np.random.randint(9,size=(5, 3)) # creates random matrix with integer entries (from 0-9) and size (5,3)\n",
    "A"
   ]
  },
  {
   "cell_type": "code",
   "execution_count": 374,
   "metadata": {
    "collapsed": false
   },
   "outputs": [
    {
     "data": {
      "text/plain": [
       "(5, 3)"
      ]
     },
     "execution_count": 374,
     "metadata": {},
     "output_type": "execute_result"
    }
   ],
   "source": [
    "A.shape"
   ]
  },
  {
   "cell_type": "code",
   "execution_count": 375,
   "metadata": {
    "collapsed": false
   },
   "outputs": [
    {
     "data": {
      "text/plain": [
       "array([[2, 8, 7, 6, 6],\n",
       "       [5, 0, 8, 1, 0],\n",
       "       [2, 6, 4, 8, 3]])"
      ]
     },
     "execution_count": 375,
     "metadata": {},
     "output_type": "execute_result"
    }
   ],
   "source": [
    "A.T # returns matrix transpose"
   ]
  },
  {
   "cell_type": "code",
   "execution_count": 376,
   "metadata": {
    "collapsed": false
   },
   "outputs": [
    {
     "data": {
      "text/plain": [
       "(3, 5)"
      ]
     },
     "execution_count": 376,
     "metadata": {},
     "output_type": "execute_result"
    }
   ],
   "source": [
    "A.T.shape"
   ]
  },
  {
   "cell_type": "code",
   "execution_count": 377,
   "metadata": {
    "collapsed": false
   },
   "outputs": [
    {
     "data": {
      "text/plain": [
       "array([[ 1.42],\n",
       "       [-0.37],\n",
       "       [-1.05],\n",
       "       [-1.07],\n",
       "       [ 0.51]])"
      ]
     },
     "execution_count": 377,
     "metadata": {},
     "output_type": "execute_result"
    }
   ],
   "source": [
    "b = np.random.randn(5,1) # column vector with normally distributed random entries\n",
    "b"
   ]
  },
  {
   "cell_type": "code",
   "execution_count": 378,
   "metadata": {
    "collapsed": false
   },
   "outputs": [
    {
     "data": {
      "text/plain": [
       "array([[ 1.42, -0.37, -1.05, -1.07,  0.51]])"
      ]
     },
     "execution_count": 378,
     "metadata": {},
     "output_type": "execute_result"
    }
   ],
   "source": [
    "b.T"
   ]
  },
  {
   "cell_type": "markdown",
   "metadata": {},
   "source": [
    "Remember that $(\\mathbf{A}^T)^T = \\mathbf{A}$"
   ]
  },
  {
   "cell_type": "code",
   "execution_count": 379,
   "metadata": {
    "collapsed": false
   },
   "outputs": [
    {
     "data": {
      "text/plain": [
       "array([[ 1.42],\n",
       "       [-0.37],\n",
       "       [-1.05],\n",
       "       [-1.07],\n",
       "       [ 0.51]])"
      ]
     },
     "execution_count": 379,
     "metadata": {},
     "output_type": "execute_result"
    }
   ],
   "source": [
    "b.T.T # b.T.T = b"
   ]
  },
  {
   "cell_type": "markdown",
   "metadata": {},
   "source": [
    "## Matrix addition\n",
    "\n",
    "Matrix sum is only defined if matrices have the same dimension\n",
    "\n",
    "$$ \\mathbf{A} = \\begin{bmatrix}\n",
    "a_{11}  & a_{12} & \\ldots & a_{1m} \\\\\n",
    "a_{21}  & a_{22} & \\ldots & a_{2m} \\\\        \n",
    "\\vdots  &  \\vdots  & \\ddots &  \\vdots\\\\\n",
    "a_{n1}  & a_{n2} &  \\ldots & a_{nm}     \n",
    "\\end{bmatrix} \\in \\mathbb{R}^{n\\times m},\n",
    " \\mathbf{B} = \\begin{bmatrix}\n",
    "b_{11}  & b_{12} & \\ldots & b_{1m} \\\\\n",
    "b_{21}  & b_{22} & \\ldots & b_{2m} \\\\        \n",
    "\\vdots  &  \\vdots  & \\ddots &  \\vdots\\\\\n",
    "b_{n1}  & b_{n2} &  \\ldots & b_{nm}     \n",
    "\\end{bmatrix} \\in \\mathbb{R}^{n\\times m}$$\n",
    "\n",
    "$$ \\mathbf{A}+\\mathbf{B} = \\begin{bmatrix}\n",
    "a_{11}+b_{11}  & a_{12}+b_{12} & \\ldots & a_{1m}+b_{1m} \\\\\n",
    "a_{21}+b_{21}  & a_{22}+b_{22} & \\ldots & a_{2m}+b_{2m} \\\\        \n",
    "\\vdots  &  \\vdots  & \\ddots &  \\vdots\\\\\n",
    "a_{n1}+b_{n1}  & a_{n2}+b_{n2} &  \\ldots & a_{nm}+b_{nm}     \n",
    "\\end{bmatrix} \\in \\mathbb{R}^{n\\times m}$$\n",
    "\n",
    "\n"
   ]
  },
  {
   "cell_type": "code",
   "execution_count": 380,
   "metadata": {
    "collapsed": false
   },
   "outputs": [
    {
     "data": {
      "text/plain": [
       "array([[0, 4],\n",
       "       [8, 8],\n",
       "       [6, 4]])"
      ]
     },
     "execution_count": 380,
     "metadata": {},
     "output_type": "execute_result"
    }
   ],
   "source": [
    "A = np.random.randint(9,size=(3, 2)) # creates random matrix with integer entries (from 0-9) and size (5,3)\n",
    "A"
   ]
  },
  {
   "cell_type": "code",
   "execution_count": 381,
   "metadata": {
    "collapsed": false
   },
   "outputs": [
    {
     "data": {
      "text/plain": [
       "array([[7, 6],\n",
       "       [5, 2],\n",
       "       [4, 6]])"
      ]
     },
     "execution_count": 381,
     "metadata": {},
     "output_type": "execute_result"
    }
   ],
   "source": [
    "B = np.random.randint(9,size=(3, 2)) # creates random matrix with integer entries (from 0-9) and size (5,3)\n",
    "B"
   ]
  },
  {
   "cell_type": "code",
   "execution_count": 382,
   "metadata": {
    "collapsed": false
   },
   "outputs": [
    {
     "data": {
      "text/plain": [
       "array([[ 7, 10],\n",
       "       [13, 10],\n",
       "       [10, 10]])"
      ]
     },
     "execution_count": 382,
     "metadata": {},
     "output_type": "execute_result"
    }
   ],
   "source": [
    "A+B # matrix addition"
   ]
  },
  {
   "cell_type": "markdown",
   "metadata": {},
   "source": [
    "Adding matrices of different dimension is strictly not defined. \n",
    "In numpy, it is possible to do so as far as one of the arrays has dimension 1.  \n",
    "For details see http://docs.scipy.org/doc/numpy-1.10.1/user/basics.broadcasting.html"
   ]
  },
  {
   "cell_type": "code",
   "execution_count": 383,
   "metadata": {
    "collapsed": false
   },
   "outputs": [
    {
     "data": {
      "text/plain": [
       "array([[0, 4],\n",
       "       [8, 8],\n",
       "       [6, 4]])"
      ]
     },
     "execution_count": 383,
     "metadata": {},
     "output_type": "execute_result"
    }
   ],
   "source": [
    "A"
   ]
  },
  {
   "cell_type": "code",
   "execution_count": 384,
   "metadata": {
    "collapsed": false
   },
   "outputs": [
    {
     "data": {
      "text/plain": [
       "array([[1, 5],\n",
       "       [9, 9],\n",
       "       [7, 5]])"
      ]
     },
     "execution_count": 384,
     "metadata": {},
     "output_type": "execute_result"
    }
   ],
   "source": [
    "A+1 # here there is an addition of a 3x2 matrix plus a number. The number is added to all elements"
   ]
  },
  {
   "cell_type": "code",
   "execution_count": 385,
   "metadata": {
    "collapsed": false
   },
   "outputs": [
    {
     "data": {
      "text/plain": [
       "array([[1],\n",
       "       [2],\n",
       "       [3]])"
      ]
     },
     "execution_count": 385,
     "metadata": {},
     "output_type": "execute_result"
    }
   ],
   "source": [
    "C = np.array([[1],[2],[3]]) # column vector dimension 3x1\n",
    "C"
   ]
  },
  {
   "cell_type": "code",
   "execution_count": 386,
   "metadata": {
    "collapsed": false
   },
   "outputs": [
    {
     "data": {
      "text/plain": [
       "array([[0, 4],\n",
       "       [8, 8],\n",
       "       [6, 4]])"
      ]
     },
     "execution_count": 386,
     "metadata": {},
     "output_type": "execute_result"
    }
   ],
   "source": [
    "A"
   ]
  },
  {
   "cell_type": "code",
   "execution_count": 387,
   "metadata": {
    "collapsed": false
   },
   "outputs": [
    {
     "data": {
      "text/plain": [
       "array([[ 1,  5],\n",
       "       [10, 10],\n",
       "       [ 9,  7]])"
      ]
     },
     "execution_count": 387,
     "metadata": {},
     "output_type": "execute_result"
    }
   ],
   "source": [
    "A+C # in this case the vector C is copied to match the dimension of A. Is the same as A + [C C]"
   ]
  },
  {
   "cell_type": "markdown",
   "metadata": {},
   "source": [
    "## Matrix multiplication\n",
    "\n",
    "Matrix multiplication is only defined when the number of columns of the first matrix and the rows of the second are equal. \n",
    "\n",
    "$\\mathbf{A} \\in \\mathbb{R}^{n\\times m}, \\mathbf{B} \\in \\mathbb{R}^{m\\times p}\n",
    "\\Longrightarrow \\mathbf{A}\\mathbf{B}\\in \\mathbb{R}^{n\\times p}\n",
    "$\n",
    "\n",
    "It is sometimes useful to write down the dimensions of the matrices being multiplied to verify that they are compatible and to easily determine the result matrix dimensions. For instance:\n",
    "\n",
    "$(n\\times m) \\cdot (m\\times p)\\Longrightarrow (n\\times p)$\n",
    "\n",
    "$\\mathbf{A} \\in \\mathbb{R}^{n\\times m}, \\mathbf{B} \\in \\mathbb{R}^{m\\times p},\n",
    "\\mathbf{C} \\in \\mathbb{R}^{p\\times q}\n",
    "\\Longrightarrow \\mathbf{A}\\mathbf{B}\\mathbf{C}= (\\mathbf{A}\\mathbf{B})\\mathbf{C} \n",
    "= \\mathbf{A}(\\mathbf{B}\\mathbf{C})\\in \\mathbb{R}^{n\\times q}\n",
    "$\n",
    "\n",
    "$(n\\times m) \\cdot (m\\times p)\\cdot (p\\times q)\\Longrightarrow (n\\times q)$"
   ]
  },
  {
   "cell_type": "markdown",
   "metadata": {},
   "source": [
    "One simple manner of visualizing matrix multiplication is to consider the rows of the first matrix against the columns of the second matrix. \n",
    "\n",
    "$\n",
    "\\mathbf{A} = \n",
    "\\begin{bmatrix}\n",
    "\\mathbf{a}_{1}  \\\\\n",
    "\\mathbf{a}_{2}  \\\\\n",
    "\\vdots \\\\\n",
    "\\mathbf{a}_{n}\n",
    "\\end{bmatrix}\n",
    "\\in \\mathbb{R}^{n\\times m},\n",
    "\\mathbf{a}_i = \n",
    "\\begin{bmatrix}\n",
    "a_{i1}  & a_{i2} & \\ldots & a_{im}\n",
    "\\end{bmatrix}\\in \\mathbb{R}^{1\\times m},\n",
    "$\n",
    "\n",
    "$\\mathbf{B} = \n",
    "\\begin{bmatrix}\n",
    "\\mathbf{b}_{1}  & \\mathbf{b}_{2} & \\ldots & \\mathbf{b}_{p}\n",
    "\\end{bmatrix}\\in \\mathbb{R}^{m\\times p},\n",
    "\\mathbf{b}_j = \n",
    "\\begin{bmatrix}\n",
    "b_{1j}  \\\\\n",
    "b_{2j}  \\\\\n",
    "\\vdots \\\\\n",
    "b_{mj}\n",
    "\\end{bmatrix}\n",
    "\\in \\mathbb{R}^{m\\times 1}\n",
    "$\n"
   ]
  },
  {
   "cell_type": "markdown",
   "metadata": {},
   "source": [
    "$\\mathbf{A}\\mathbf{B} = \\begin{bmatrix}\n",
    "\\mathbf{a}_{1}  \\\\\n",
    "\\mathbf{a}_{2}  \\\\\n",
    "\\vdots \\\\\n",
    "\\mathbf{a}_{n}\n",
    "\\end{bmatrix}\n",
    "\\begin{bmatrix}\n",
    "\\mathbf{b}_{1}  & \\mathbf{b}_{2} & \\ldots & \\mathbf{b}_{p}\n",
    "\\end{bmatrix}=\n",
    "\\begin{bmatrix}\n",
    "\\mathbf{a}_{1}\\mathbf{b}_{1}  & \\mathbf{a}_{1}\\mathbf{b}_{2} & \\ldots & \\mathbf{a}_{1}\\mathbf{b}_{p} \\\\\n",
    "\\mathbf{a}_{2}\\mathbf{b}_{1}  & \\mathbf{a}_{2}\\mathbf{b}_{2} & \\ldots & \\mathbf{a}_{2}\\mathbf{b}_{p} \\\\\n",
    "\\vdots  &  \\vdots  & \\ddots &  \\vdots\\\\\n",
    "\\mathbf{a}_{n}\\mathbf{b}_{1}  & \\mathbf{a}_{n}\\mathbf{b}_{2} & \\ldots & \\mathbf{a}_{n}\\mathbf{b}_{p} \\\\\n",
    "\\end{bmatrix} \\in \\mathbb{R}^{n\\times p}\n",
    "$"
   ]
  },
  {
   "cell_type": "markdown",
   "metadata": {},
   "source": [
    "where each of the entries is the cross product of a row of the first matrix and a column of the second: \n",
    "\n",
    "$\\mathbf{a}_i \\mathbf{b}_j = \n",
    "\\begin{bmatrix}\n",
    "a_{i1} & a_{i2} & \\ldots & a_{im}\n",
    "\\end{bmatrix}\n",
    "\\begin{bmatrix}\n",
    "b_{1j}  \\\\\n",
    "b_{2j}  \\\\\n",
    "\\vdots  \\\\\n",
    "b_{mj}\n",
    "\\end{bmatrix} = a_{i1}b_{1j}+a_{i2}b_{2j}+\\ldots +a_{im}b_{mj} \\in \\mathbb{R}$\n",
    "\n",
    "From Python 3.5, the \"@\" symbol is defined as a matrix multiplication operator.\n",
    "(On older Python versions matrix multiplication is done using the np.dot() function.)"
   ]
  },
  {
   "cell_type": "code",
   "execution_count": 388,
   "metadata": {
    "collapsed": false
   },
   "outputs": [
    {
     "data": {
      "text/plain": [
       "array([[0, 0],\n",
       "       [0, 4],\n",
       "       [3, 2]])"
      ]
     },
     "execution_count": 388,
     "metadata": {},
     "output_type": "execute_result"
    }
   ],
   "source": [
    "A = np.random.randint(5,size=(3, 2)) # creates random matrix with integer entries (from 0-5) and size (3,2)\n",
    "A"
   ]
  },
  {
   "cell_type": "code",
   "execution_count": 389,
   "metadata": {
    "collapsed": false
   },
   "outputs": [
    {
     "data": {
      "text/plain": [
       "array([[3, 2, 3, 4],\n",
       "       [0, 4, 2, 3]])"
      ]
     },
     "execution_count": 389,
     "metadata": {},
     "output_type": "execute_result"
    }
   ],
   "source": [
    "B = np.random.randint(5,size=(2, 4))# creates random matrix with integer entries (from 0-5) and size (2,4)\n",
    "B"
   ]
  },
  {
   "cell_type": "code",
   "execution_count": 390,
   "metadata": {
    "collapsed": false
   },
   "outputs": [
    {
     "data": {
      "text/plain": [
       "array([[ 0,  0,  0,  0],\n",
       "       [ 0, 16,  8, 12],\n",
       "       [ 9, 14, 13, 18]])"
      ]
     },
     "execution_count": 390,
     "metadata": {},
     "output_type": "execute_result"
    }
   ],
   "source": [
    "A @ B # matrix multiplication operator on python 3.5"
   ]
  },
  {
   "cell_type": "code",
   "execution_count": 391,
   "metadata": {
    "collapsed": false
   },
   "outputs": [
    {
     "data": {
      "text/plain": [
       "array([[ 0,  0,  0,  0],\n",
       "       [ 0, 16,  8, 12],\n",
       "       [ 9, 14, 13, 18]])"
      ]
     },
     "execution_count": 391,
     "metadata": {},
     "output_type": "execute_result"
    }
   ],
   "source": [
    "A.dot(B) # older format for matrix multiplication."
   ]
  },
  {
   "cell_type": "code",
   "execution_count": 392,
   "metadata": {
    "collapsed": false
   },
   "outputs": [
    {
     "data": {
      "text/plain": [
       "array([[ 0,  0,  0],\n",
       "       [ 0, 16,  8],\n",
       "       [ 0,  8, 13]])"
      ]
     },
     "execution_count": 392,
     "metadata": {},
     "output_type": "execute_result"
    }
   ],
   "source": [
    "A @ A.T"
   ]
  },
  {
   "cell_type": "markdown",
   "metadata": {},
   "source": [
    "$\\mathbf{A} \\in \\mathbb{R}^{n\\times m}, \\mathbf{B} \\in \\mathbb{R}^{m\\times p}\n",
    "\\Longrightarrow (\\mathbf{A}\\mathbf{B})^T = \\mathbf{B}^T\\mathbf{A}^T\\in \\mathbb{R}^{p\\times n}\n",
    "$\n",
    "\n",
    "$\\mathbf{A} \\in \\mathbb{R}^{n\\times m}, \\mathbf{B} \\in \\mathbb{R}^{m\\times p},\n",
    "\\mathbf{C} \\in \\mathbb{R}^{p\\times q}\n",
    "\\Longrightarrow (\\mathbf{A}\\mathbf{B}\\mathbf{C})^T= \\mathbf{C}^T\\mathbf{B}^T\\mathbf{A}^T \n",
    "\\in \\mathbb{R}^{q\\times n}\n",
    "$"
   ]
  },
  {
   "cell_type": "code",
   "execution_count": 393,
   "metadata": {
    "collapsed": false
   },
   "outputs": [
    {
     "data": {
      "text/plain": [
       "array([[ 0,  0,  9],\n",
       "       [ 0, 16, 14],\n",
       "       [ 0,  8, 13],\n",
       "       [ 0, 12, 18]])"
      ]
     },
     "execution_count": 393,
     "metadata": {},
     "output_type": "execute_result"
    }
   ],
   "source": [
    "(A @ B).T"
   ]
  },
  {
   "cell_type": "code",
   "execution_count": 394,
   "metadata": {
    "collapsed": false
   },
   "outputs": [
    {
     "data": {
      "text/plain": [
       "array([[ 0,  0,  9],\n",
       "       [ 0, 16, 14],\n",
       "       [ 0,  8, 13],\n",
       "       [ 0, 12, 18]])"
      ]
     },
     "execution_count": 394,
     "metadata": {},
     "output_type": "execute_result"
    }
   ],
   "source": [
    "B.T @ A.T"
   ]
  },
  {
   "cell_type": "code",
   "execution_count": 395,
   "metadata": {
    "collapsed": false
   },
   "outputs": [
    {
     "data": {
      "text/plain": [
       "array([[3, 0, 2, 1, 0],\n",
       "       [1, 0, 2, 0, 2],\n",
       "       [3, 0, 2, 2, 2],\n",
       "       [3, 4, 3, 2, 2]])"
      ]
     },
     "execution_count": 395,
     "metadata": {},
     "output_type": "execute_result"
    }
   ],
   "source": [
    "C = np.random.randint(5,size=(4, 5))\n",
    "C"
   ]
  },
  {
   "cell_type": "code",
   "execution_count": 396,
   "metadata": {
    "collapsed": false
   },
   "outputs": [
    {
     "data": {
      "text/plain": [
       "array([[  0,  76, 134],\n",
       "       [  0,  48,  72],\n",
       "       [  0,  84, 126],\n",
       "       [  0,  40,  71],\n",
       "       [  0,  72,  90]])"
      ]
     },
     "execution_count": 396,
     "metadata": {},
     "output_type": "execute_result"
    }
   ],
   "source": [
    "(A @ B @ C).T"
   ]
  },
  {
   "cell_type": "code",
   "execution_count": 397,
   "metadata": {
    "collapsed": false
   },
   "outputs": [
    {
     "data": {
      "text/plain": [
       "array([[  0,  76, 134],\n",
       "       [  0,  48,  72],\n",
       "       [  0,  84, 126],\n",
       "       [  0,  40,  71],\n",
       "       [  0,  72,  90]])"
      ]
     },
     "execution_count": 397,
     "metadata": {},
     "output_type": "execute_result"
    }
   ],
   "source": [
    "C.T @ B.T @ A.T"
   ]
  },
  {
   "cell_type": "markdown",
   "metadata": {},
   "source": [
    "## Matrix identity\n",
    "\n",
    "Diagonal square matrix with all elements equal to $1$. \n",
    "\n",
    "$\\mathbf{I}_2 = \n",
    "\\begin{bmatrix}\n",
    "1 &   0 \\\\\n",
    "0 & 1\n",
    "\\end{bmatrix} \\in \\mathbb{R}^{2\\times 2}\n",
    "$ \n",
    "\n",
    "$\\mathbf{I}_3 = \n",
    "\\begin{bmatrix}\n",
    "1 &   0  & 0 \\\\\n",
    "0  &   1&  0 \\\\\n",
    "0 & 0 & 1\n",
    "\\end{bmatrix} \\in \\mathbb{R}^{3\\times 3}\n",
    "$ \n",
    "\n",
    "$\\mathbf{I}_n = \n",
    "\\begin{bmatrix}\n",
    "1 &   \\ldots & 0 \\\\\n",
    "\\vdots  &   \\ddots &  \\vdots \\\\\n",
    "0 & \\ldots & 1\n",
    "\\end{bmatrix} \\in \\mathbb{R}^{n\\times n}\n",
    "$ \n",
    "\n",
    "$\\mathbf{A} \\in \\mathbb{R}^{n\\times n}\n",
    "\\Longrightarrow \\mathbf{A}\\mathbf{I}_n = \\mathbf{I}_n\\mathbf{A} = \\mathbf{A}\n",
    "$\n",
    "\n",
    "$\\mathbf{A} \\in \\mathbb{R}^{n\\times m}\n",
    "\\Longrightarrow \\mathbf{A}\\mathbf{I}_m = \\mathbf{I}_n\\mathbf{A} = \\mathbf{A}\n",
    "$\n",
    "\n",
    "Note: sometimes identity matrix simply denoted by $\\mathbf{I}$"
   ]
  },
  {
   "cell_type": "code",
   "execution_count": 398,
   "metadata": {
    "collapsed": false
   },
   "outputs": [
    {
     "data": {
      "text/plain": [
       "array([[ 1.,  0.,  0.,  0.],\n",
       "       [ 0.,  1.,  0.,  0.],\n",
       "       [ 0.,  0.,  1.,  0.],\n",
       "       [ 0.,  0.,  0.,  1.]])"
      ]
     },
     "execution_count": 398,
     "metadata": {},
     "output_type": "execute_result"
    }
   ],
   "source": [
    "I = np.eye(4) # identity matrix of dimension 4\n",
    "I"
   ]
  },
  {
   "cell_type": "code",
   "execution_count": 399,
   "metadata": {
    "collapsed": false
   },
   "outputs": [
    {
     "data": {
      "text/plain": [
       "array([[ 0.64,  0.86,  0.28,  0.7 ],\n",
       "       [ 0.97,  0.07,  0.37,  0.69],\n",
       "       [ 0.12,  0.55,  0.48,  0.6 ],\n",
       "       [ 1.  ,  0.01,  0.07,  0.66]])"
      ]
     },
     "execution_count": 399,
     "metadata": {},
     "output_type": "execute_result"
    }
   ],
   "source": [
    "A = np.random.rand(4,4) # random matrix size (4x4)\n",
    "A"
   ]
  },
  {
   "cell_type": "code",
   "execution_count": 400,
   "metadata": {
    "collapsed": false
   },
   "outputs": [
    {
     "data": {
      "text/plain": [
       "array([[ 0.64,  0.86,  0.28,  0.7 ],\n",
       "       [ 0.97,  0.07,  0.37,  0.69],\n",
       "       [ 0.12,  0.55,  0.48,  0.6 ],\n",
       "       [ 1.  ,  0.01,  0.07,  0.66]])"
      ]
     },
     "execution_count": 400,
     "metadata": {},
     "output_type": "execute_result"
    }
   ],
   "source": [
    "A @ I"
   ]
  },
  {
   "cell_type": "code",
   "execution_count": 401,
   "metadata": {
    "collapsed": false
   },
   "outputs": [
    {
     "data": {
      "text/plain": [
       "array([[ 0.,  0.,  0.,  0.],\n",
       "       [ 0.,  0.,  0.,  0.],\n",
       "       [ 0.,  0.,  0.,  0.],\n",
       "       [ 0.,  0.,  0.,  0.]])"
      ]
     },
     "execution_count": 401,
     "metadata": {},
     "output_type": "execute_result"
    }
   ],
   "source": [
    "(A @ I) - (I @ A)"
   ]
  },
  {
   "cell_type": "markdown",
   "metadata": {},
   "source": [
    "## Matrix inversion\n",
    "\n",
    "Matrix inverse is only defined for non-singular square matrices (with non zero determinant).\n",
    "\n",
    "$\\mathbf{A}\\in \\mathbb{R}^{n\\times n}$\n",
    "\n",
    "$\\mathbf{A}^{-1}\\in \\mathbb{R}^{n\\times n}$, defined only if $\\det(\\mathbf{A})\\neq 0$\n",
    "\n",
    "$\\mathbf{A}\\mathbf{A}^{-1} = \\mathbf{A}^{-1}\\mathbf{A} = \\mathbf{I}_n$\n",
    "\n"
   ]
  },
  {
   "cell_type": "code",
   "execution_count": 402,
   "metadata": {
    "collapsed": false
   },
   "outputs": [
    {
     "data": {
      "text/plain": [
       "array([[ 0.45,  0.53,  0.57,  0.95],\n",
       "       [ 0.94,  0.27,  0.9 ,  0.63],\n",
       "       [ 0.97,  0.76,  0.51,  0.65],\n",
       "       [ 0.38,  0.28,  0.21,  0.58]])"
      ]
     },
     "execution_count": 402,
     "metadata": {},
     "output_type": "execute_result"
    }
   ],
   "source": [
    "A = np.random.rand(4,4)\n",
    "A"
   ]
  },
  {
   "cell_type": "code",
   "execution_count": 403,
   "metadata": {
    "collapsed": false
   },
   "outputs": [
    {
     "data": {
      "text/plain": [
       "array([[-2.39,  0.63,  0.44,  2.75],\n",
       "       [ 1.73, -1.34,  1.87, -3.49],\n",
       "       [ 1.95,  0.92, -0.26, -3.91],\n",
       "       [ 0.05, -0.11, -1.09,  2.99]])"
      ]
     },
     "execution_count": 403,
     "metadata": {},
     "output_type": "execute_result"
    }
   ],
   "source": [
    "Ainv = np.linalg.inv(A) # matrix inverse\n",
    "Ainv"
   ]
  },
  {
   "cell_type": "code",
   "execution_count": 404,
   "metadata": {
    "collapsed": false
   },
   "outputs": [
    {
     "data": {
      "text/plain": [
       "array([[  1.00e+00,  -2.78e-17,  -2.22e-16,   0.00e+00],\n",
       "       [  4.37e-16,   1.00e+00,  -1.11e-16,   2.22e-16],\n",
       "       [  1.67e-16,   1.39e-16,   1.00e+00,   0.00e+00],\n",
       "       [  2.08e-16,   1.39e-17,   0.00e+00,   1.00e+00]])"
      ]
     },
     "execution_count": 404,
     "metadata": {},
     "output_type": "execute_result"
    }
   ],
   "source": [
    "A @ Ainv # the result is the identity matrix except for numerical accuracy in the order 10e-15"
   ]
  },
  {
   "cell_type": "code",
   "execution_count": 405,
   "metadata": {
    "collapsed": false
   },
   "outputs": [
    {
     "data": {
      "text/plain": [
       "array([[ 0.57,  0.84,  0.13, ...,  0.18,  0.08,  0.5 ],\n",
       "       [ 0.48,  0.2 ,  0.98, ...,  0.88,  0.22,  0.89],\n",
       "       [ 0.38,  0.67,  0.08, ...,  0.17,  0.45,  0.22],\n",
       "       ..., \n",
       "       [ 0.13,  0.86,  0.35, ...,  0.87,  0.16,  0.17],\n",
       "       [ 0.5 ,  0.89,  0.33, ...,  0.52,  0.33,  0.14],\n",
       "       [ 0.11,  0.8 ,  0.85, ...,  0.15,  0.52,  0.79]])"
      ]
     },
     "execution_count": 405,
     "metadata": {},
     "output_type": "execute_result"
    }
   ],
   "source": [
    "A = np.random.rand(100,100) # 100x100 random matrix entries uniformly distributed between [0,1]\n",
    "A"
   ]
  },
  {
   "cell_type": "code",
   "execution_count": 406,
   "metadata": {
    "collapsed": false
   },
   "outputs": [
    {
     "data": {
      "text/plain": [
       "array([[ 0.83,  1.73, -0.92, ...,  1.11,  0.46, -0.25],\n",
       "       [-0.01,  0.06, -0.12, ...,  0.39,  0.29,  0.25],\n",
       "       [-0.16, -0.38,  0.01, ..., -0.29, -0.09,  0.16],\n",
       "       ..., \n",
       "       [ 0.19,  0.54, -0.47, ...,  0.49,  0.36,  0.09],\n",
       "       [-0.05, -0.27,  0.18, ...,  0.28,  0.12,  0.13],\n",
       "       [ 0.25,  0.51, -0.69, ...,  0.08,  0.77,  0.05]])"
      ]
     },
     "execution_count": 406,
     "metadata": {},
     "output_type": "execute_result"
    }
   ],
   "source": [
    "Ainv = np.linalg.inv(A) # inverse of a 100x100 matrix, don't try to do this by hand...\n",
    "Ainv"
   ]
  },
  {
   "cell_type": "code",
   "execution_count": 407,
   "metadata": {
    "collapsed": false
   },
   "outputs": [
    {
     "data": {
      "text/plain": [
       "array([[  1.00e+00,  -1.43e-15,   2.09e-15, ...,  -1.44e-15,   1.33e-15,\n",
       "          6.66e-16],\n",
       "       [  7.05e-16,   1.00e+00,   6.89e-16, ...,   1.67e-15,  -1.78e-15,\n",
       "         -3.33e-16],\n",
       "       [ -2.73e-16,  -2.36e-15,   1.00e+00, ...,   2.22e-16,   3.33e-15,\n",
       "         -3.33e-16],\n",
       "       ..., \n",
       "       [ -2.64e-16,  -2.08e-15,  -1.09e-15, ...,   1.00e+00,  -8.88e-16,\n",
       "         -8.33e-16],\n",
       "       [ -1.61e-15,   2.69e-15,  -1.29e-15, ...,  -7.02e-16,   1.00e+00,\n",
       "          6.11e-16],\n",
       "       [ -1.16e-15,  -5.98e-16,  -5.16e-16, ...,  -9.71e-16,  -1.17e-15,\n",
       "          1.00e+00]])"
      ]
     },
     "execution_count": 407,
     "metadata": {},
     "output_type": "execute_result"
    }
   ],
   "source": [
    "A @ Ainv"
   ]
  },
  {
   "cell_type": "code",
   "execution_count": 408,
   "metadata": {
    "collapsed": false,
    "scrolled": true
   },
   "outputs": [
    {
     "data": {
      "application/javascript": [
       "/* Put everything inside the global mpl namespace */\n",
       "window.mpl = {};\n",
       "\n",
       "mpl.get_websocket_type = function() {\n",
       "    if (typeof(WebSocket) !== 'undefined') {\n",
       "        return WebSocket;\n",
       "    } else if (typeof(MozWebSocket) !== 'undefined') {\n",
       "        return MozWebSocket;\n",
       "    } else {\n",
       "        alert('Your browser does not have WebSocket support.' +\n",
       "              'Please try Chrome, Safari or Firefox ≥ 6. ' +\n",
       "              'Firefox 4 and 5 are also supported but you ' +\n",
       "              'have to enable WebSockets in about:config.');\n",
       "    };\n",
       "}\n",
       "\n",
       "mpl.figure = function(figure_id, websocket, ondownload, parent_element) {\n",
       "    this.id = figure_id;\n",
       "\n",
       "    this.ws = websocket;\n",
       "\n",
       "    this.supports_binary = (this.ws.binaryType != undefined);\n",
       "\n",
       "    if (!this.supports_binary) {\n",
       "        var warnings = document.getElementById(\"mpl-warnings\");\n",
       "        if (warnings) {\n",
       "            warnings.style.display = 'block';\n",
       "            warnings.textContent = (\n",
       "                \"This browser does not support binary websocket messages. \" +\n",
       "                    \"Performance may be slow.\");\n",
       "        }\n",
       "    }\n",
       "\n",
       "    this.imageObj = new Image();\n",
       "\n",
       "    this.context = undefined;\n",
       "    this.message = undefined;\n",
       "    this.canvas = undefined;\n",
       "    this.rubberband_canvas = undefined;\n",
       "    this.rubberband_context = undefined;\n",
       "    this.format_dropdown = undefined;\n",
       "\n",
       "    this.image_mode = 'full';\n",
       "\n",
       "    this.root = $('<div/>');\n",
       "    this._root_extra_style(this.root)\n",
       "    this.root.attr('style', 'display: inline-block');\n",
       "\n",
       "    $(parent_element).append(this.root);\n",
       "\n",
       "    this._init_header(this);\n",
       "    this._init_canvas(this);\n",
       "    this._init_toolbar(this);\n",
       "\n",
       "    var fig = this;\n",
       "\n",
       "    this.waiting = false;\n",
       "\n",
       "    this.ws.onopen =  function () {\n",
       "            fig.send_message(\"supports_binary\", {value: fig.supports_binary});\n",
       "            fig.send_message(\"send_image_mode\", {});\n",
       "            fig.send_message(\"refresh\", {});\n",
       "        }\n",
       "\n",
       "    this.imageObj.onload = function() {\n",
       "            if (fig.image_mode == 'full') {\n",
       "                // Full images could contain transparency (where diff images\n",
       "                // almost always do), so we need to clear the canvas so that\n",
       "                // there is no ghosting.\n",
       "                fig.context.clearRect(0, 0, fig.canvas.width, fig.canvas.height);\n",
       "            }\n",
       "            fig.context.drawImage(fig.imageObj, 0, 0);\n",
       "        };\n",
       "\n",
       "    this.imageObj.onunload = function() {\n",
       "        this.ws.close();\n",
       "    }\n",
       "\n",
       "    this.ws.onmessage = this._make_on_message_function(this);\n",
       "\n",
       "    this.ondownload = ondownload;\n",
       "}\n",
       "\n",
       "mpl.figure.prototype._init_header = function() {\n",
       "    var titlebar = $(\n",
       "        '<div class=\"ui-dialog-titlebar ui-widget-header ui-corner-all ' +\n",
       "        'ui-helper-clearfix\"/>');\n",
       "    var titletext = $(\n",
       "        '<div class=\"ui-dialog-title\" style=\"width: 100%; ' +\n",
       "        'text-align: center; padding: 3px;\"/>');\n",
       "    titlebar.append(titletext)\n",
       "    this.root.append(titlebar);\n",
       "    this.header = titletext[0];\n",
       "}\n",
       "\n",
       "\n",
       "\n",
       "mpl.figure.prototype._canvas_extra_style = function(canvas_div) {\n",
       "\n",
       "}\n",
       "\n",
       "\n",
       "mpl.figure.prototype._root_extra_style = function(canvas_div) {\n",
       "\n",
       "}\n",
       "\n",
       "mpl.figure.prototype._init_canvas = function() {\n",
       "    var fig = this;\n",
       "\n",
       "    var canvas_div = $('<div/>');\n",
       "\n",
       "    canvas_div.attr('style', 'position: relative; clear: both; outline: 0');\n",
       "\n",
       "    function canvas_keyboard_event(event) {\n",
       "        return fig.key_event(event, event['data']);\n",
       "    }\n",
       "\n",
       "    canvas_div.keydown('key_press', canvas_keyboard_event);\n",
       "    canvas_div.keyup('key_release', canvas_keyboard_event);\n",
       "    this.canvas_div = canvas_div\n",
       "    this._canvas_extra_style(canvas_div)\n",
       "    this.root.append(canvas_div);\n",
       "\n",
       "    var canvas = $('<canvas/>');\n",
       "    canvas.addClass('mpl-canvas');\n",
       "    canvas.attr('style', \"left: 0; top: 0; z-index: 0; outline: 0\")\n",
       "\n",
       "    this.canvas = canvas[0];\n",
       "    this.context = canvas[0].getContext(\"2d\");\n",
       "\n",
       "    var rubberband = $('<canvas/>');\n",
       "    rubberband.attr('style', \"position: absolute; left: 0; top: 0; z-index: 1;\")\n",
       "\n",
       "    var pass_mouse_events = true;\n",
       "\n",
       "    canvas_div.resizable({\n",
       "        start: function(event, ui) {\n",
       "            pass_mouse_events = false;\n",
       "        },\n",
       "        resize: function(event, ui) {\n",
       "            fig.request_resize(ui.size.width, ui.size.height);\n",
       "        },\n",
       "        stop: function(event, ui) {\n",
       "            pass_mouse_events = true;\n",
       "            fig.request_resize(ui.size.width, ui.size.height);\n",
       "        },\n",
       "    });\n",
       "\n",
       "    function mouse_event_fn(event) {\n",
       "        if (pass_mouse_events)\n",
       "            return fig.mouse_event(event, event['data']);\n",
       "    }\n",
       "\n",
       "    rubberband.mousedown('button_press', mouse_event_fn);\n",
       "    rubberband.mouseup('button_release', mouse_event_fn);\n",
       "    // Throttle sequential mouse events to 1 every 20ms.\n",
       "    rubberband.mousemove('motion_notify', mouse_event_fn);\n",
       "\n",
       "    rubberband.mouseenter('figure_enter', mouse_event_fn);\n",
       "    rubberband.mouseleave('figure_leave', mouse_event_fn);\n",
       "\n",
       "    canvas_div.on(\"wheel\", function (event) {\n",
       "        event = event.originalEvent;\n",
       "        event['data'] = 'scroll'\n",
       "        if (event.deltaY < 0) {\n",
       "            event.step = 1;\n",
       "        } else {\n",
       "            event.step = -1;\n",
       "        }\n",
       "        mouse_event_fn(event);\n",
       "    });\n",
       "\n",
       "    canvas_div.append(canvas);\n",
       "    canvas_div.append(rubberband);\n",
       "\n",
       "    this.rubberband = rubberband;\n",
       "    this.rubberband_canvas = rubberband[0];\n",
       "    this.rubberband_context = rubberband[0].getContext(\"2d\");\n",
       "    this.rubberband_context.strokeStyle = \"#000000\";\n",
       "\n",
       "    this._resize_canvas = function(width, height) {\n",
       "        // Keep the size of the canvas, canvas container, and rubber band\n",
       "        // canvas in synch.\n",
       "        canvas_div.css('width', width)\n",
       "        canvas_div.css('height', height)\n",
       "\n",
       "        canvas.attr('width', width);\n",
       "        canvas.attr('height', height);\n",
       "\n",
       "        rubberband.attr('width', width);\n",
       "        rubberband.attr('height', height);\n",
       "    }\n",
       "\n",
       "    // Set the figure to an initial 600x600px, this will subsequently be updated\n",
       "    // upon first draw.\n",
       "    this._resize_canvas(600, 600);\n",
       "\n",
       "    // Disable right mouse context menu.\n",
       "    $(this.rubberband_canvas).bind(\"contextmenu\",function(e){\n",
       "        return false;\n",
       "    });\n",
       "\n",
       "    function set_focus () {\n",
       "        canvas.focus();\n",
       "        canvas_div.focus();\n",
       "    }\n",
       "\n",
       "    window.setTimeout(set_focus, 100);\n",
       "}\n",
       "\n",
       "mpl.figure.prototype._init_toolbar = function() {\n",
       "    var fig = this;\n",
       "\n",
       "    var nav_element = $('<div/>')\n",
       "    nav_element.attr('style', 'width: 100%');\n",
       "    this.root.append(nav_element);\n",
       "\n",
       "    // Define a callback function for later on.\n",
       "    function toolbar_event(event) {\n",
       "        return fig.toolbar_button_onclick(event['data']);\n",
       "    }\n",
       "    function toolbar_mouse_event(event) {\n",
       "        return fig.toolbar_button_onmouseover(event['data']);\n",
       "    }\n",
       "\n",
       "    for(var toolbar_ind in mpl.toolbar_items) {\n",
       "        var name = mpl.toolbar_items[toolbar_ind][0];\n",
       "        var tooltip = mpl.toolbar_items[toolbar_ind][1];\n",
       "        var image = mpl.toolbar_items[toolbar_ind][2];\n",
       "        var method_name = mpl.toolbar_items[toolbar_ind][3];\n",
       "\n",
       "        if (!name) {\n",
       "            // put a spacer in here.\n",
       "            continue;\n",
       "        }\n",
       "        var button = $('<button/>');\n",
       "        button.addClass('ui-button ui-widget ui-state-default ui-corner-all ' +\n",
       "                        'ui-button-icon-only');\n",
       "        button.attr('role', 'button');\n",
       "        button.attr('aria-disabled', 'false');\n",
       "        button.click(method_name, toolbar_event);\n",
       "        button.mouseover(tooltip, toolbar_mouse_event);\n",
       "\n",
       "        var icon_img = $('<span/>');\n",
       "        icon_img.addClass('ui-button-icon-primary ui-icon');\n",
       "        icon_img.addClass(image);\n",
       "        icon_img.addClass('ui-corner-all');\n",
       "\n",
       "        var tooltip_span = $('<span/>');\n",
       "        tooltip_span.addClass('ui-button-text');\n",
       "        tooltip_span.html(tooltip);\n",
       "\n",
       "        button.append(icon_img);\n",
       "        button.append(tooltip_span);\n",
       "\n",
       "        nav_element.append(button);\n",
       "    }\n",
       "\n",
       "    var fmt_picker_span = $('<span/>');\n",
       "\n",
       "    var fmt_picker = $('<select/>');\n",
       "    fmt_picker.addClass('mpl-toolbar-option ui-widget ui-widget-content');\n",
       "    fmt_picker_span.append(fmt_picker);\n",
       "    nav_element.append(fmt_picker_span);\n",
       "    this.format_dropdown = fmt_picker[0];\n",
       "\n",
       "    for (var ind in mpl.extensions) {\n",
       "        var fmt = mpl.extensions[ind];\n",
       "        var option = $(\n",
       "            '<option/>', {selected: fmt === mpl.default_extension}).html(fmt);\n",
       "        fmt_picker.append(option)\n",
       "    }\n",
       "\n",
       "    // Add hover states to the ui-buttons\n",
       "    $( \".ui-button\" ).hover(\n",
       "        function() { $(this).addClass(\"ui-state-hover\");},\n",
       "        function() { $(this).removeClass(\"ui-state-hover\");}\n",
       "    );\n",
       "\n",
       "    var status_bar = $('<span class=\"mpl-message\"/>');\n",
       "    nav_element.append(status_bar);\n",
       "    this.message = status_bar[0];\n",
       "}\n",
       "\n",
       "mpl.figure.prototype.request_resize = function(x_pixels, y_pixels) {\n",
       "    // Request matplotlib to resize the figure. Matplotlib will then trigger a resize in the client,\n",
       "    // which will in turn request a refresh of the image.\n",
       "    this.send_message('resize', {'width': x_pixels, 'height': y_pixels});\n",
       "}\n",
       "\n",
       "mpl.figure.prototype.send_message = function(type, properties) {\n",
       "    properties['type'] = type;\n",
       "    properties['figure_id'] = this.id;\n",
       "    this.ws.send(JSON.stringify(properties));\n",
       "}\n",
       "\n",
       "mpl.figure.prototype.send_draw_message = function() {\n",
       "    if (!this.waiting) {\n",
       "        this.waiting = true;\n",
       "        this.ws.send(JSON.stringify({type: \"draw\", figure_id: this.id}));\n",
       "    }\n",
       "}\n",
       "\n",
       "\n",
       "mpl.figure.prototype.handle_save = function(fig, msg) {\n",
       "    var format_dropdown = fig.format_dropdown;\n",
       "    var format = format_dropdown.options[format_dropdown.selectedIndex].value;\n",
       "    fig.ondownload(fig, format);\n",
       "}\n",
       "\n",
       "\n",
       "mpl.figure.prototype.handle_resize = function(fig, msg) {\n",
       "    var size = msg['size'];\n",
       "    if (size[0] != fig.canvas.width || size[1] != fig.canvas.height) {\n",
       "        fig._resize_canvas(size[0], size[1]);\n",
       "        fig.send_message(\"refresh\", {});\n",
       "    };\n",
       "}\n",
       "\n",
       "mpl.figure.prototype.handle_rubberband = function(fig, msg) {\n",
       "    var x0 = msg['x0'];\n",
       "    var y0 = fig.canvas.height - msg['y0'];\n",
       "    var x1 = msg['x1'];\n",
       "    var y1 = fig.canvas.height - msg['y1'];\n",
       "    x0 = Math.floor(x0) + 0.5;\n",
       "    y0 = Math.floor(y0) + 0.5;\n",
       "    x1 = Math.floor(x1) + 0.5;\n",
       "    y1 = Math.floor(y1) + 0.5;\n",
       "    var min_x = Math.min(x0, x1);\n",
       "    var min_y = Math.min(y0, y1);\n",
       "    var width = Math.abs(x1 - x0);\n",
       "    var height = Math.abs(y1 - y0);\n",
       "\n",
       "    fig.rubberband_context.clearRect(\n",
       "        0, 0, fig.canvas.width, fig.canvas.height);\n",
       "\n",
       "    fig.rubberband_context.strokeRect(min_x, min_y, width, height);\n",
       "}\n",
       "\n",
       "mpl.figure.prototype.handle_figure_label = function(fig, msg) {\n",
       "    // Updates the figure title.\n",
       "    fig.header.textContent = msg['label'];\n",
       "}\n",
       "\n",
       "mpl.figure.prototype.handle_cursor = function(fig, msg) {\n",
       "    var cursor = msg['cursor'];\n",
       "    switch(cursor)\n",
       "    {\n",
       "    case 0:\n",
       "        cursor = 'pointer';\n",
       "        break;\n",
       "    case 1:\n",
       "        cursor = 'default';\n",
       "        break;\n",
       "    case 2:\n",
       "        cursor = 'crosshair';\n",
       "        break;\n",
       "    case 3:\n",
       "        cursor = 'move';\n",
       "        break;\n",
       "    }\n",
       "    fig.rubberband_canvas.style.cursor = cursor;\n",
       "}\n",
       "\n",
       "mpl.figure.prototype.handle_message = function(fig, msg) {\n",
       "    fig.message.textContent = msg['message'];\n",
       "}\n",
       "\n",
       "mpl.figure.prototype.handle_draw = function(fig, msg) {\n",
       "    // Request the server to send over a new figure.\n",
       "    fig.send_draw_message();\n",
       "}\n",
       "\n",
       "mpl.figure.prototype.handle_image_mode = function(fig, msg) {\n",
       "    fig.image_mode = msg['mode'];\n",
       "}\n",
       "\n",
       "mpl.figure.prototype.updated_canvas_event = function() {\n",
       "    // Called whenever the canvas gets updated.\n",
       "    this.send_message(\"ack\", {});\n",
       "}\n",
       "\n",
       "// A function to construct a web socket function for onmessage handling.\n",
       "// Called in the figure constructor.\n",
       "mpl.figure.prototype._make_on_message_function = function(fig) {\n",
       "    return function socket_on_message(evt) {\n",
       "        if (evt.data instanceof Blob) {\n",
       "            /* FIXME: We get \"Resource interpreted as Image but\n",
       "             * transferred with MIME type text/plain:\" errors on\n",
       "             * Chrome.  But how to set the MIME type?  It doesn't seem\n",
       "             * to be part of the websocket stream */\n",
       "            evt.data.type = \"image/png\";\n",
       "\n",
       "            /* Free the memory for the previous frames */\n",
       "            if (fig.imageObj.src) {\n",
       "                (window.URL || window.webkitURL).revokeObjectURL(\n",
       "                    fig.imageObj.src);\n",
       "            }\n",
       "\n",
       "            fig.imageObj.src = (window.URL || window.webkitURL).createObjectURL(\n",
       "                evt.data);\n",
       "            fig.updated_canvas_event();\n",
       "            fig.waiting = false;\n",
       "            return;\n",
       "        }\n",
       "        else if (typeof evt.data === 'string' && evt.data.slice(0, 21) == \"data:image/png;base64\") {\n",
       "            fig.imageObj.src = evt.data;\n",
       "            fig.updated_canvas_event();\n",
       "            fig.waiting = false;\n",
       "            return;\n",
       "        }\n",
       "\n",
       "        var msg = JSON.parse(evt.data);\n",
       "        var msg_type = msg['type'];\n",
       "\n",
       "        // Call the  \"handle_{type}\" callback, which takes\n",
       "        // the figure and JSON message as its only arguments.\n",
       "        try {\n",
       "            var callback = fig[\"handle_\" + msg_type];\n",
       "        } catch (e) {\n",
       "            console.log(\"No handler for the '\" + msg_type + \"' message type: \", msg);\n",
       "            return;\n",
       "        }\n",
       "\n",
       "        if (callback) {\n",
       "            try {\n",
       "                // console.log(\"Handling '\" + msg_type + \"' message: \", msg);\n",
       "                callback(fig, msg);\n",
       "            } catch (e) {\n",
       "                console.log(\"Exception inside the 'handler_\" + msg_type + \"' callback:\", e, e.stack, msg);\n",
       "            }\n",
       "        }\n",
       "    };\n",
       "}\n",
       "\n",
       "// from http://stackoverflow.com/questions/1114465/getting-mouse-location-in-canvas\n",
       "mpl.findpos = function(e) {\n",
       "    //this section is from http://www.quirksmode.org/js/events_properties.html\n",
       "    var targ;\n",
       "    if (!e)\n",
       "        e = window.event;\n",
       "    if (e.target)\n",
       "        targ = e.target;\n",
       "    else if (e.srcElement)\n",
       "        targ = e.srcElement;\n",
       "    if (targ.nodeType == 3) // defeat Safari bug\n",
       "        targ = targ.parentNode;\n",
       "\n",
       "    // jQuery normalizes the pageX and pageY\n",
       "    // pageX,Y are the mouse positions relative to the document\n",
       "    // offset() returns the position of the element relative to the document\n",
       "    var x = e.pageX - $(targ).offset().left;\n",
       "    var y = e.pageY - $(targ).offset().top;\n",
       "\n",
       "    return {\"x\": x, \"y\": y};\n",
       "};\n",
       "\n",
       "/*\n",
       " * return a copy of an object with only non-object keys\n",
       " * we need this to avoid circular references\n",
       " * http://stackoverflow.com/a/24161582/3208463\n",
       " */\n",
       "function simpleKeys (original) {\n",
       "  return Object.keys(original).reduce(function (obj, key) {\n",
       "    if (typeof original[key] !== 'object')\n",
       "        obj[key] = original[key]\n",
       "    return obj;\n",
       "  }, {});\n",
       "}\n",
       "\n",
       "mpl.figure.prototype.mouse_event = function(event, name) {\n",
       "    var canvas_pos = mpl.findpos(event)\n",
       "\n",
       "    if (name === 'button_press')\n",
       "    {\n",
       "        this.canvas.focus();\n",
       "        this.canvas_div.focus();\n",
       "    }\n",
       "\n",
       "    var x = canvas_pos.x;\n",
       "    var y = canvas_pos.y;\n",
       "\n",
       "    this.send_message(name, {x: x, y: y, button: event.button,\n",
       "                             step: event.step,\n",
       "                             guiEvent: simpleKeys(event)});\n",
       "\n",
       "    /* This prevents the web browser from automatically changing to\n",
       "     * the text insertion cursor when the button is pressed.  We want\n",
       "     * to control all of the cursor setting manually through the\n",
       "     * 'cursor' event from matplotlib */\n",
       "    event.preventDefault();\n",
       "    return false;\n",
       "}\n",
       "\n",
       "mpl.figure.prototype._key_event_extra = function(event, name) {\n",
       "    // Handle any extra behaviour associated with a key event\n",
       "}\n",
       "\n",
       "mpl.figure.prototype.key_event = function(event, name) {\n",
       "\n",
       "    // Prevent repeat events\n",
       "    if (name == 'key_press')\n",
       "    {\n",
       "        if (event.which === this._key)\n",
       "            return;\n",
       "        else\n",
       "            this._key = event.which;\n",
       "    }\n",
       "    if (name == 'key_release')\n",
       "        this._key = null;\n",
       "\n",
       "    var value = '';\n",
       "    if (event.ctrlKey && event.which != 17)\n",
       "        value += \"ctrl+\";\n",
       "    if (event.altKey && event.which != 18)\n",
       "        value += \"alt+\";\n",
       "    if (event.shiftKey && event.which != 16)\n",
       "        value += \"shift+\";\n",
       "\n",
       "    value += 'k';\n",
       "    value += event.which.toString();\n",
       "\n",
       "    this._key_event_extra(event, name);\n",
       "\n",
       "    this.send_message(name, {key: value,\n",
       "                             guiEvent: simpleKeys(event)});\n",
       "    return false;\n",
       "}\n",
       "\n",
       "mpl.figure.prototype.toolbar_button_onclick = function(name) {\n",
       "    if (name == 'download') {\n",
       "        this.handle_save(this, null);\n",
       "    } else {\n",
       "        this.send_message(\"toolbar_button\", {name: name});\n",
       "    }\n",
       "};\n",
       "\n",
       "mpl.figure.prototype.toolbar_button_onmouseover = function(tooltip) {\n",
       "    this.message.textContent = tooltip;\n",
       "};\n",
       "mpl.toolbar_items = [[\"Home\", \"Reset original view\", \"fa fa-home icon-home\", \"home\"], [\"Back\", \"Back to  previous view\", \"fa fa-arrow-left icon-arrow-left\", \"back\"], [\"Forward\", \"Forward to next view\", \"fa fa-arrow-right icon-arrow-right\", \"forward\"], [\"\", \"\", \"\", \"\"], [\"Pan\", \"Pan axes with left mouse, zoom with right\", \"fa fa-arrows icon-move\", \"pan\"], [\"Zoom\", \"Zoom to rectangle\", \"fa fa-square-o icon-check-empty\", \"zoom\"], [\"\", \"\", \"\", \"\"], [\"Download\", \"Download plot\", \"fa fa-floppy-o icon-save\", \"download\"]];\n",
       "\n",
       "mpl.extensions = [\"eps\", \"jpeg\", \"pdf\", \"png\", \"ps\", \"raw\", \"svg\", \"tif\"];\n",
       "\n",
       "mpl.default_extension = \"png\";var comm_websocket_adapter = function(comm) {\n",
       "    // Create a \"websocket\"-like object which calls the given IPython comm\n",
       "    // object with the appropriate methods. Currently this is a non binary\n",
       "    // socket, so there is still some room for performance tuning.\n",
       "    var ws = {};\n",
       "\n",
       "    ws.close = function() {\n",
       "        comm.close()\n",
       "    };\n",
       "    ws.send = function(m) {\n",
       "        //console.log('sending', m);\n",
       "        comm.send(m);\n",
       "    };\n",
       "    // Register the callback with on_msg.\n",
       "    comm.on_msg(function(msg) {\n",
       "        //console.log('receiving', msg['content']['data'], msg);\n",
       "        // Pass the mpl event to the overriden (by mpl) onmessage function.\n",
       "        ws.onmessage(msg['content']['data'])\n",
       "    });\n",
       "    return ws;\n",
       "}\n",
       "\n",
       "mpl.mpl_figure_comm = function(comm, msg) {\n",
       "    // This is the function which gets called when the mpl process\n",
       "    // starts-up an IPython Comm through the \"matplotlib\" channel.\n",
       "\n",
       "    var id = msg.content.data.id;\n",
       "    // Get hold of the div created by the display call when the Comm\n",
       "    // socket was opened in Python.\n",
       "    var element = $(\"#\" + id);\n",
       "    var ws_proxy = comm_websocket_adapter(comm)\n",
       "\n",
       "    function ondownload(figure, format) {\n",
       "        window.open(figure.imageObj.src);\n",
       "    }\n",
       "\n",
       "    var fig = new mpl.figure(id, ws_proxy,\n",
       "                           ondownload,\n",
       "                           element.get(0));\n",
       "\n",
       "    // Call onopen now - mpl needs it, as it is assuming we've passed it a real\n",
       "    // web socket which is closed, not our websocket->open comm proxy.\n",
       "    ws_proxy.onopen();\n",
       "\n",
       "    fig.parent_element = element.get(0);\n",
       "    fig.cell_info = mpl.find_output_cell(\"<div id='\" + id + \"'></div>\");\n",
       "    if (!fig.cell_info) {\n",
       "        console.error(\"Failed to find cell for figure\", id, fig);\n",
       "        return;\n",
       "    }\n",
       "\n",
       "    var output_index = fig.cell_info[2]\n",
       "    var cell = fig.cell_info[0];\n",
       "\n",
       "};\n",
       "\n",
       "mpl.figure.prototype.handle_close = function(fig, msg) {\n",
       "    fig.root.unbind('remove')\n",
       "\n",
       "    // Update the output cell to use the data from the current canvas.\n",
       "    fig.push_to_output();\n",
       "    var dataURL = fig.canvas.toDataURL();\n",
       "    // Re-enable the keyboard manager in IPython - without this line, in FF,\n",
       "    // the notebook keyboard shortcuts fail.\n",
       "    IPython.keyboard_manager.enable()\n",
       "    $(fig.parent_element).html('<img src=\"' + dataURL + '\">');\n",
       "    fig.close_ws(fig, msg);\n",
       "}\n",
       "\n",
       "mpl.figure.prototype.close_ws = function(fig, msg){\n",
       "    fig.send_message('closing', msg);\n",
       "    // fig.ws.close()\n",
       "}\n",
       "\n",
       "mpl.figure.prototype.push_to_output = function(remove_interactive) {\n",
       "    // Turn the data on the canvas into data in the output cell.\n",
       "    var dataURL = this.canvas.toDataURL();\n",
       "    this.cell_info[1]['text/html'] = '<img src=\"' + dataURL + '\">';\n",
       "}\n",
       "\n",
       "mpl.figure.prototype.updated_canvas_event = function() {\n",
       "    // Tell IPython that the notebook contents must change.\n",
       "    IPython.notebook.set_dirty(true);\n",
       "    this.send_message(\"ack\", {});\n",
       "    var fig = this;\n",
       "    // Wait a second, then push the new image to the DOM so\n",
       "    // that it is saved nicely (might be nice to debounce this).\n",
       "    setTimeout(function () { fig.push_to_output() }, 1000);\n",
       "}\n",
       "\n",
       "mpl.figure.prototype._init_toolbar = function() {\n",
       "    var fig = this;\n",
       "\n",
       "    var nav_element = $('<div/>')\n",
       "    nav_element.attr('style', 'width: 100%');\n",
       "    this.root.append(nav_element);\n",
       "\n",
       "    // Define a callback function for later on.\n",
       "    function toolbar_event(event) {\n",
       "        return fig.toolbar_button_onclick(event['data']);\n",
       "    }\n",
       "    function toolbar_mouse_event(event) {\n",
       "        return fig.toolbar_button_onmouseover(event['data']);\n",
       "    }\n",
       "\n",
       "    for(var toolbar_ind in mpl.toolbar_items){\n",
       "        var name = mpl.toolbar_items[toolbar_ind][0];\n",
       "        var tooltip = mpl.toolbar_items[toolbar_ind][1];\n",
       "        var image = mpl.toolbar_items[toolbar_ind][2];\n",
       "        var method_name = mpl.toolbar_items[toolbar_ind][3];\n",
       "\n",
       "        if (!name) { continue; };\n",
       "\n",
       "        var button = $('<button class=\"btn btn-default\" href=\"#\" title=\"' + name + '\"><i class=\"fa ' + image + ' fa-lg\"></i></button>');\n",
       "        button.click(method_name, toolbar_event);\n",
       "        button.mouseover(tooltip, toolbar_mouse_event);\n",
       "        nav_element.append(button);\n",
       "    }\n",
       "\n",
       "    // Add the status bar.\n",
       "    var status_bar = $('<span class=\"mpl-message\" style=\"text-align:right; float: right;\"/>');\n",
       "    nav_element.append(status_bar);\n",
       "    this.message = status_bar[0];\n",
       "\n",
       "    // Add the close button to the window.\n",
       "    var buttongrp = $('<div class=\"btn-group inline pull-right\"></div>');\n",
       "    var button = $('<button class=\"btn btn-mini btn-primary\" href=\"#\" title=\"Stop Interaction\"><i class=\"fa fa-power-off icon-remove icon-large\"></i></button>');\n",
       "    button.click(function (evt) { fig.handle_close(fig, {}); } );\n",
       "    button.mouseover('Stop Interaction', toolbar_mouse_event);\n",
       "    buttongrp.append(button);\n",
       "    var titlebar = this.root.find($('.ui-dialog-titlebar'));\n",
       "    titlebar.prepend(buttongrp);\n",
       "}\n",
       "\n",
       "mpl.figure.prototype._root_extra_style = function(el){\n",
       "    var fig = this\n",
       "    el.on(\"remove\", function(){\n",
       "\tfig.close_ws(fig, {});\n",
       "    });\n",
       "}\n",
       "\n",
       "mpl.figure.prototype._canvas_extra_style = function(el){\n",
       "    // this is important to make the div 'focusable\n",
       "    el.attr('tabindex', 0)\n",
       "    // reach out to IPython and tell the keyboard manager to turn it's self\n",
       "    // off when our div gets focus\n",
       "\n",
       "    // location in version 3\n",
       "    if (IPython.notebook.keyboard_manager) {\n",
       "        IPython.notebook.keyboard_manager.register_events(el);\n",
       "    }\n",
       "    else {\n",
       "        // location in version 2\n",
       "        IPython.keyboard_manager.register_events(el);\n",
       "    }\n",
       "\n",
       "}\n",
       "\n",
       "mpl.figure.prototype._key_event_extra = function(event, name) {\n",
       "    var manager = IPython.notebook.keyboard_manager;\n",
       "    if (!manager)\n",
       "        manager = IPython.keyboard_manager;\n",
       "\n",
       "    // Check for shift+enter\n",
       "    if (event.shiftKey && event.which == 13) {\n",
       "        this.canvas_div.blur();\n",
       "        event.shiftKey = false;\n",
       "        // Send a \"J\" for go to next cell\n",
       "        event.which = 74;\n",
       "        event.keyCode = 74;\n",
       "        manager.command_mode();\n",
       "        manager.handle_keydown(event);\n",
       "    }\n",
       "}\n",
       "\n",
       "mpl.figure.prototype.handle_save = function(fig, msg) {\n",
       "    fig.ondownload(fig, null);\n",
       "}\n",
       "\n",
       "\n",
       "mpl.find_output_cell = function(html_output) {\n",
       "    // Return the cell and output element which can be found *uniquely* in the notebook.\n",
       "    // Note - this is a bit hacky, but it is done because the \"notebook_saving.Notebook\"\n",
       "    // IPython event is triggered only after the cells have been serialised, which for\n",
       "    // our purposes (turning an active figure into a static one), is too late.\n",
       "    var cells = IPython.notebook.get_cells();\n",
       "    var ncells = cells.length;\n",
       "    for (var i=0; i<ncells; i++) {\n",
       "        var cell = cells[i];\n",
       "        if (cell.cell_type === 'code'){\n",
       "            for (var j=0; j<cell.output_area.outputs.length; j++) {\n",
       "                var data = cell.output_area.outputs[j];\n",
       "                if (data.data) {\n",
       "                    // IPython >= 3 moved mimebundle to data attribute of output\n",
       "                    data = data.data;\n",
       "                }\n",
       "                if (data['text/html'] == html_output) {\n",
       "                    return [cell, data, j];\n",
       "                }\n",
       "            }\n",
       "        }\n",
       "    }\n",
       "}\n",
       "\n",
       "// Register the function which deals with the matplotlib target/channel.\n",
       "// The kernel may be null if the page has been refreshed.\n",
       "if (IPython.notebook.kernel != null) {\n",
       "    IPython.notebook.kernel.comm_manager.register_target('matplotlib', mpl.mpl_figure_comm);\n",
       "}\n"
      ],
      "text/plain": [
       "<IPython.core.display.Javascript object>"
      ]
     },
     "metadata": {},
     "output_type": "display_data"
    },
    {
     "data": {
      "text/html": [
       "<img src=\"data:image/png;base64,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\">"
      ],
      "text/plain": [
       "<IPython.core.display.HTML object>"
      ]
     },
     "metadata": {},
     "output_type": "display_data"
    },
    {
     "data": {
      "text/plain": [
       "<matplotlib.colorbar.Colorbar at 0xe911da0>"
      ]
     },
     "execution_count": 408,
     "metadata": {},
     "output_type": "execute_result"
    }
   ],
   "source": [
    "plt.figure(figsize=(12, 5))\n",
    "plt.subplot(131)\n",
    "plt.imshow(A, interpolation='nearest',cmap=plt.cm.Blues)\n",
    "plt.title('$\\mathbf{A}$')\n",
    "plt.subplot(132)\n",
    "plt.imshow(Ainv, interpolation='nearest',cmap=plt.cm.Blues)\n",
    "plt.title('$\\mathbf{A}^{-1}$')\n",
    "plt.subplot(133)\n",
    "plt.imshow(A @ Ainv, interpolation='nearest',cmap=plt.cm.Blues)\n",
    "plt.title('$\\mathbf{A}\\mathbf{A}^{-1}$')\n",
    "#plt.colorbar()\n",
    "plt.colorbar(fraction=0.046)"
   ]
  },
  {
   "cell_type": "markdown",
   "metadata": {},
   "source": [
    "## Eigenvalues and eigenvectors\n",
    "\n"
   ]
  },
  {
   "cell_type": "code",
   "execution_count": 409,
   "metadata": {
    "collapsed": false
   },
   "outputs": [
    {
     "name": "stdout",
     "output_type": "stream",
     "text": [
      "[[ 1  0  0]\n",
      " [ 0  4  0]\n",
      " [ 0  0 -2]]\n"
     ]
    }
   ],
   "source": [
    "A = np.diag((1, 4, -2))\n",
    "print(A)"
   ]
  },
  {
   "cell_type": "code",
   "execution_count": 410,
   "metadata": {
    "collapsed": false
   },
   "outputs": [],
   "source": [
    "d, V = np.linalg.eig(A)"
   ]
  },
  {
   "cell_type": "code",
   "execution_count": 411,
   "metadata": {
    "collapsed": false
   },
   "outputs": [
    {
     "name": "stdout",
     "output_type": "stream",
     "text": [
      "[ 1.  4. -2.]\n"
     ]
    }
   ],
   "source": [
    "print(d) # eigenvalues"
   ]
  },
  {
   "cell_type": "code",
   "execution_count": 412,
   "metadata": {
    "collapsed": false
   },
   "outputs": [
    {
     "name": "stdout",
     "output_type": "stream",
     "text": [
      "[[ 1.  0.  0.]\n",
      " [ 0.  1.  0.]\n",
      " [ 0.  0.  1.]]\n"
     ]
    }
   ],
   "source": [
    "print(V) # eigenvectors, the matrix was already diagonal"
   ]
  },
  {
   "cell_type": "code",
   "execution_count": 413,
   "metadata": {
    "collapsed": false
   },
   "outputs": [
    {
     "name": "stdout",
     "output_type": "stream",
     "text": [
      "[[ 0.36  0.94  0.21]\n",
      " [ 0.44  0.29  0.04]\n",
      " [ 0.39  0.87  0.77]]\n"
     ]
    }
   ],
   "source": [
    "A = np.random.rand(3,3)\n",
    "print(A)"
   ]
  },
  {
   "cell_type": "code",
   "execution_count": 414,
   "metadata": {
    "collapsed": false
   },
   "outputs": [
    {
     "name": "stdout",
     "output_type": "stream",
     "text": [
      "[-0.31  1.25  0.48]\n"
     ]
    }
   ],
   "source": [
    "d, V = np.linalg.eig(A)\n",
    "print(d)"
   ]
  },
  {
   "cell_type": "code",
   "execution_count": 415,
   "metadata": {
    "collapsed": false
   },
   "outputs": [
    {
     "name": "stdout",
     "output_type": "stream",
     "text": [
      "[[-0.78  0.47 -0.19]\n",
      " [ 0.59  0.26 -0.24]\n",
      " [-0.19  0.85  0.95]]\n"
     ]
    }
   ],
   "source": [
    "print(V)"
   ]
  },
  {
   "cell_type": "code",
   "execution_count": 416,
   "metadata": {
    "collapsed": false
   },
   "outputs": [
    {
     "name": "stdout",
     "output_type": "stream",
     "text": [
      "[[-0.31  0.    0.  ]\n",
      " [ 0.    1.25  0.  ]\n",
      " [ 0.    0.    0.48]]\n"
     ]
    }
   ],
   "source": [
    "D = np.diag(d)\n",
    "print(D)"
   ]
  },
  {
   "cell_type": "code",
   "execution_count": 417,
   "metadata": {
    "collapsed": false
   },
   "outputs": [
    {
     "data": {
      "text/plain": [
       "array([[ 0.36,  0.94,  0.21],\n",
       "       [ 0.44,  0.29,  0.04],\n",
       "       [ 0.39,  0.87,  0.77]])"
      ]
     },
     "execution_count": 417,
     "metadata": {},
     "output_type": "execute_result"
    }
   ],
   "source": [
    "V @ D @ np.linalg.inv(V) # A = V*D*V^{-1}"
   ]
  },
  {
   "cell_type": "code",
   "execution_count": null,
   "metadata": {
    "collapsed": true
   },
   "outputs": [],
   "source": []
  }
 ],
 "metadata": {
  "kernelspec": {
   "display_name": "Python 3",
   "language": "python",
   "name": "python3"
  },
  "language_info": {
   "codemirror_mode": {
    "name": "ipython",
    "version": 3
   },
   "file_extension": ".py",
   "mimetype": "text/x-python",
   "name": "python",
   "nbconvert_exporter": "python",
   "pygments_lexer": "ipython3",
   "version": "3.5.1"
  }
 },
 "nbformat": 4,
 "nbformat_minor": 0
}
