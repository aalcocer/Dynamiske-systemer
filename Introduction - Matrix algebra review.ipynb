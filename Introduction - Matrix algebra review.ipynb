{
 "cells": [
  {
   "cell_type": "markdown",
   "metadata": {},
   "source": [
    "# Introduction - Matrix algebra review"
   ]
  },
  {
   "cell_type": "markdown",
   "metadata": {
    "collapsed": true
   },
   "source": [
    "This page contains some basic reminder of matrix algebra using python numpy.\n",
    "\n",
    "The following links has useful information whan converting from Matlab to numpy arrays:  \n",
    "http://sebastianraschka.com/Articles/2014_matlab_vs_numpy.html  \n",
    "https://docs.scipy.org/doc/numpy-dev/user/numpy-for-matlab-users.html#\n",
    "\n",
    "\n",
    "\n",
    "\n",
    "Matrix with real elements:\n",
    "$ \\mathbf{A} = \\begin{bmatrix}\n",
    "a_{11}  & a_{12} & \\ldots & a_{1m} \\\\\n",
    "a_{21}  & a_{22} & \\ldots & a_{2m} \\\\        \n",
    "\\vdots  &  \\vdots  & \\ddots &  \\vdots\\\\\n",
    "a_{n1}  & a_{n2} &  \\ldots & a_{nm}     \n",
    "\\end{bmatrix} \\in \\mathbb{R}^{n\\times m}$\n",
    "\n",
    "The first index $n$ is the number of rows.  \n",
    "The second index $m$ is the number of columns\n",
    "\n",
    "Column vector of dimension $n$:\n",
    "$\\mathbf{a} = \n",
    "\\begin{bmatrix}\n",
    "a_{1}  \\\\\n",
    "a_{2}  \\\\\n",
    "\\vdots \\\\\n",
    "a_{n}  \\\\\n",
    "\\end{bmatrix} \\in \\mathbb{R}^{n\\times 1}\n",
    "$\n",
    "\n",
    "Row vector of dimension $m$:\n",
    "\n",
    "$\\mathbf{b} = \n",
    "\\begin{bmatrix}\n",
    "b_1  & b_2 & \\ldots b_{m} \n",
    "\\end{bmatrix} \\in \\mathbb{R}^{1\\times m}\n",
    "$\n"
   ]
  },
  {
   "cell_type": "code",
   "execution_count": 69,
   "metadata": {
    "collapsed": false
   },
   "outputs": [],
   "source": [
    "import numpy as np\n",
    "#from numpy import linalg as LA\n",
    "np.set_printoptions(precision=2)"
   ]
  },
  {
   "cell_type": "code",
   "execution_count": 70,
   "metadata": {
    "collapsed": false
   },
   "outputs": [
    {
     "data": {
      "text/plain": [
       "array([[6, 7, 2, 5, 3],\n",
       "       [0, 1, 3, 3, 0],\n",
       "       [3, 7, 2, 5, 6],\n",
       "       [5, 8, 6, 5, 1]])"
      ]
     },
     "execution_count": 70,
     "metadata": {},
     "output_type": "execute_result"
    }
   ],
   "source": [
    "A = np.random.randint(9, size=(4, 5)) # creates random matrix with integer entries (from 0-9) and size (4,5)\n",
    "A"
   ]
  },
  {
   "cell_type": "code",
   "execution_count": 71,
   "metadata": {
    "collapsed": false
   },
   "outputs": [
    {
     "data": {
      "text/plain": [
       "array([[0],\n",
       "       [2],\n",
       "       [1],\n",
       "       [6],\n",
       "       [7]])"
      ]
     },
     "execution_count": 71,
     "metadata": {},
     "output_type": "execute_result"
    }
   ],
   "source": [
    "a = np.array([[0],[2],[1],[6],[7]]) # numpy array representation of column vector as a 2d array of dimension (5,1)\n",
    "a"
   ]
  },
  {
   "cell_type": "code",
   "execution_count": 72,
   "metadata": {
    "collapsed": false
   },
   "outputs": [
    {
     "data": {
      "text/plain": [
       "(5, 1)"
      ]
     },
     "execution_count": 72,
     "metadata": {},
     "output_type": "execute_result"
    }
   ],
   "source": [
    "a.shape"
   ]
  },
  {
   "cell_type": "code",
   "execution_count": 73,
   "metadata": {
    "collapsed": false
   },
   "outputs": [
    {
     "data": {
      "text/plain": [
       "array([[1, 2, 3, 6, 7]])"
      ]
     },
     "execution_count": 73,
     "metadata": {},
     "output_type": "execute_result"
    }
   ],
   "source": [
    "b = np.array([[1,2,3,6,7]]) # row vector\n",
    "b"
   ]
  },
  {
   "cell_type": "code",
   "execution_count": 74,
   "metadata": {
    "collapsed": false
   },
   "outputs": [
    {
     "data": {
      "text/plain": [
       "(1, 5)"
      ]
     },
     "execution_count": 74,
     "metadata": {},
     "output_type": "execute_result"
    }
   ],
   "source": [
    "b.shape"
   ]
  },
  {
   "cell_type": "code",
   "execution_count": 75,
   "metadata": {
    "collapsed": false
   },
   "outputs": [
    {
     "data": {
      "text/plain": [
       "array([[ 0.],\n",
       "       [ 0.],\n",
       "       [ 0.],\n",
       "       [ 0.],\n",
       "       [ 0.]])"
      ]
     },
     "execution_count": 75,
     "metadata": {},
     "output_type": "execute_result"
    }
   ],
   "source": [
    "np.zeros((5,1)) # column vector of zeros and dimension 5x1"
   ]
  },
  {
   "cell_type": "code",
   "execution_count": 76,
   "metadata": {
    "collapsed": false
   },
   "outputs": [
    {
     "data": {
      "text/plain": [
       "array([[ 1.,  1.,  1.,  1.]])"
      ]
     },
     "execution_count": 76,
     "metadata": {},
     "output_type": "execute_result"
    }
   ],
   "source": [
    "np.ones((1,4)) # row vector of ones and dimension 5x1"
   ]
  },
  {
   "cell_type": "markdown",
   "metadata": {},
   "source": [
    "## Transpose\n",
    "\n",
    "\n",
    "\n",
    "$ \\mathbf{A} = \\begin{bmatrix}\n",
    "a_{11}  & a_{12} & \\ldots & a_{1m} \\\\\n",
    "a_{21}  & a_{22} & \\ldots & a_{2m} \\\\        \n",
    "\\vdots  &  \\vdots  & \\ddots &  \\vdots\\\\\n",
    "a_{n1}  & a_{n2} &  \\ldots & a_{nm}     \n",
    "\\end{bmatrix} \\in \\mathbb{R}^{n\\times m} \\Longrightarrow\n",
    "\\mathbf{A}^T = \\begin{bmatrix}\n",
    "a_{11}  & a_{21} & \\ldots & a_{n1} \\\\\n",
    "a_{12}  & a_{22} & \\ldots & a_{n2} \\\\        \n",
    "\\vdots  &  \\vdots  & \\ddots &  \\vdots\\\\\n",
    "a_{1m}  & a_{2m} &  \\ldots & a_{nm}     \n",
    "\\end{bmatrix} \\in \\mathbb{R}^{m\\times n}$\n",
    "\n",
    "$  \\mathbf{A} = \\begin{bmatrix}\n",
    "\\mathbf{c}_{1}  & \\mathbf{c}_{1} & \\ldots & \\mathbf{c}_{m}\n",
    "\\end{bmatrix} \\in \\mathbb{R}^{n\\times m}, \n",
    "\\mathbf{c}_i = \n",
    "\\begin{bmatrix}\n",
    "a_{1i}  \\\\\n",
    "a_{2i}  \\\\\n",
    "\\vdots \\\\\n",
    "a_{ni}  \\\\\n",
    "\\end{bmatrix} \\in \\mathbb{R}^{n\\times 1}\n",
    " \\Longrightarrow\n",
    "\\mathbf{A}^T = \\begin{bmatrix}\n",
    "\\mathbf{c}^T_{1}  \\\\\n",
    "\\mathbf{c}^T_{2}  \\\\\n",
    "\\vdots \\\\\n",
    "\\mathbf{c}^T_{m}\n",
    "\\end{bmatrix} \\in \\mathbb{R}^{m\\times n},\n",
    "\\mathbf{c}^T_i = \n",
    "\\begin{bmatrix}\n",
    "a_{1i}  & a_{2i} & \\ldots &a_{ni}  \n",
    "\\end{bmatrix} \\in \\mathbb{R}^{1\\times n}\n",
    "$\n",
    "\n",
    "$  \n",
    "\\mathbf{A} = \\begin{bmatrix}\n",
    "\\mathbf{r}_{1}  \\\\\n",
    "\\mathbf{r}_{2}  \\\\\n",
    "\\vdots \\\\\n",
    "\\mathbf{r}_{n}\n",
    "\\end{bmatrix}\\in \\mathbb{R}^{n\\times m},\n",
    "\\mathbf{r}_i = \n",
    "\\begin{bmatrix}\n",
    "a_{i1}  & a_{i2} & \\ldots &a_{im}  \n",
    "\\end{bmatrix} \\in \\mathbb{R}^{1\\times m}\n",
    " \\Longrightarrow\n",
    "\\mathbf{A}^T = \\begin{bmatrix}\n",
    "\\mathbf{r}^T_{1}  & \\mathbf{r}^T_{1} & \\ldots & \\mathbf{r}^T_{n}\n",
    "\\end{bmatrix} \\in \\mathbb{R}^{m\\times n},\n",
    "\\mathbf{r}^T_i = \n",
    "\\begin{bmatrix}\n",
    "a_{i1}  \\\\\n",
    "a_{i2}  \\\\\n",
    "\\vdots \\\\\n",
    "a_{im}  \\\\\n",
    "\\end{bmatrix} \\in \\mathbb{R}^{m\\times 1}\n",
    "$"
   ]
  },
  {
   "cell_type": "code",
   "execution_count": 77,
   "metadata": {
    "collapsed": false
   },
   "outputs": [
    {
     "data": {
      "text/plain": [
       "array([[0, 8, 0],\n",
       "       [2, 5, 8],\n",
       "       [5, 0, 0],\n",
       "       [4, 4, 7],\n",
       "       [1, 0, 3]])"
      ]
     },
     "execution_count": 77,
     "metadata": {},
     "output_type": "execute_result"
    }
   ],
   "source": [
    "A = np.random.randint(9,size=(5, 3)) # creates random matrix with integer entries (from 0-9) and size (5,3)\n",
    "A"
   ]
  },
  {
   "cell_type": "code",
   "execution_count": 78,
   "metadata": {
    "collapsed": false
   },
   "outputs": [
    {
     "data": {
      "text/plain": [
       "(5, 3)"
      ]
     },
     "execution_count": 78,
     "metadata": {},
     "output_type": "execute_result"
    }
   ],
   "source": [
    "A.shape"
   ]
  },
  {
   "cell_type": "code",
   "execution_count": 79,
   "metadata": {
    "collapsed": false
   },
   "outputs": [
    {
     "data": {
      "text/plain": [
       "array([[0, 2, 5, 4, 1],\n",
       "       [8, 5, 0, 4, 0],\n",
       "       [0, 8, 0, 7, 3]])"
      ]
     },
     "execution_count": 79,
     "metadata": {},
     "output_type": "execute_result"
    }
   ],
   "source": [
    "A.T # returns matrix transpose"
   ]
  },
  {
   "cell_type": "code",
   "execution_count": 80,
   "metadata": {
    "collapsed": false
   },
   "outputs": [
    {
     "data": {
      "text/plain": [
       "(3, 5)"
      ]
     },
     "execution_count": 80,
     "metadata": {},
     "output_type": "execute_result"
    }
   ],
   "source": [
    "A.T.shape"
   ]
  },
  {
   "cell_type": "code",
   "execution_count": 81,
   "metadata": {
    "collapsed": false
   },
   "outputs": [
    {
     "data": {
      "text/plain": [
       "array([[ 0.06],\n",
       "       [-0.57],\n",
       "       [ 0.3 ],\n",
       "       [ 0.8 ],\n",
       "       [ 1.08]])"
      ]
     },
     "execution_count": 81,
     "metadata": {},
     "output_type": "execute_result"
    }
   ],
   "source": [
    "b = np.random.randn(5,1) # column vector with normally distributed random entries\n",
    "b"
   ]
  },
  {
   "cell_type": "code",
   "execution_count": 82,
   "metadata": {
    "collapsed": false
   },
   "outputs": [
    {
     "data": {
      "text/plain": [
       "array([[ 0.06, -0.57,  0.3 ,  0.8 ,  1.08]])"
      ]
     },
     "execution_count": 82,
     "metadata": {},
     "output_type": "execute_result"
    }
   ],
   "source": [
    "b.T"
   ]
  },
  {
   "cell_type": "markdown",
   "metadata": {},
   "source": [
    "Remember that $(\\mathbf{A}^T)^T = \\mathbf{A}$"
   ]
  },
  {
   "cell_type": "code",
   "execution_count": 83,
   "metadata": {
    "collapsed": false
   },
   "outputs": [
    {
     "data": {
      "text/plain": [
       "array([[ 0.06],\n",
       "       [-0.57],\n",
       "       [ 0.3 ],\n",
       "       [ 0.8 ],\n",
       "       [ 1.08]])"
      ]
     },
     "execution_count": 83,
     "metadata": {},
     "output_type": "execute_result"
    }
   ],
   "source": [
    "b.T.T # b.T.T = b"
   ]
  },
  {
   "cell_type": "markdown",
   "metadata": {},
   "source": [
    "## Matrix addition\n",
    "\n",
    "Matrix sum is only defined if matrices have the same dimension\n",
    "\n",
    "$$ \\mathbf{A} = \\begin{bmatrix}\n",
    "a_{11}  & a_{12} & \\ldots & a_{1m} \\\\\n",
    "a_{21}  & a_{22} & \\ldots & a_{2m} \\\\        \n",
    "\\vdots  &  \\vdots  & \\ddots &  \\vdots\\\\\n",
    "a_{n1}  & a_{n2} &  \\ldots & a_{nm}     \n",
    "\\end{bmatrix} \\in \\mathbb{R}^{n\\times m},\n",
    " \\mathbf{B} = \\begin{bmatrix}\n",
    "b_{11}  & b_{12} & \\ldots & b_{1m} \\\\\n",
    "b_{21}  & b_{22} & \\ldots & b_{2m} \\\\        \n",
    "\\vdots  &  \\vdots  & \\ddots &  \\vdots\\\\\n",
    "b_{n1}  & b_{n2} &  \\ldots & b_{nm}     \n",
    "\\end{bmatrix} \\in \\mathbb{R}^{n\\times m}$$\n",
    "\n",
    "$$ \\mathbf{A}+\\mathbf{B} = \\begin{bmatrix}\n",
    "a_{11}+b_{11}  & a_{12}+b_{12} & \\ldots & a_{1m}+b_{1m} \\\\\n",
    "a_{21}+b_{21}  & a_{22}+b_{22} & \\ldots & a_{2m}+b_{2m} \\\\        \n",
    "\\vdots  &  \\vdots  & \\ddots &  \\vdots\\\\\n",
    "a_{n1}+b_{n1}  & a_{n2}+b_{n2} &  \\ldots & a_{nm}+b_{nm}     \n",
    "\\end{bmatrix} \\in \\mathbb{R}^{n\\times m}$$\n",
    "\n",
    "\n"
   ]
  },
  {
   "cell_type": "code",
   "execution_count": 84,
   "metadata": {
    "collapsed": false
   },
   "outputs": [
    {
     "data": {
      "text/plain": [
       "array([[6, 2],\n",
       "       [6, 6],\n",
       "       [1, 3]])"
      ]
     },
     "execution_count": 84,
     "metadata": {},
     "output_type": "execute_result"
    }
   ],
   "source": [
    "A = np.random.randint(9,size=(3, 2)) # creates random matrix with integer entries (from 0-9) and size (5,3)\n",
    "A"
   ]
  },
  {
   "cell_type": "code",
   "execution_count": 85,
   "metadata": {
    "collapsed": false
   },
   "outputs": [
    {
     "data": {
      "text/plain": [
       "array([[2, 5],\n",
       "       [5, 7],\n",
       "       [1, 2]])"
      ]
     },
     "execution_count": 85,
     "metadata": {},
     "output_type": "execute_result"
    }
   ],
   "source": [
    "B = np.random.randint(9,size=(3, 2)) # creates random matrix with integer entries (from 0-9) and size (5,3)\n",
    "B"
   ]
  },
  {
   "cell_type": "code",
   "execution_count": 86,
   "metadata": {
    "collapsed": false
   },
   "outputs": [
    {
     "data": {
      "text/plain": [
       "array([[ 8,  7],\n",
       "       [11, 13],\n",
       "       [ 2,  5]])"
      ]
     },
     "execution_count": 86,
     "metadata": {},
     "output_type": "execute_result"
    }
   ],
   "source": [
    "A+B # matrix addition"
   ]
  },
  {
   "cell_type": "markdown",
   "metadata": {},
   "source": [
    "Adding matrices of different dimension is strictly not defined. \n",
    "In numpy, it is possible to do so as far as one of the arrays has dimension 1.  \n",
    "For details see http://docs.scipy.org/doc/numpy-1.10.1/user/basics.broadcasting.html"
   ]
  },
  {
   "cell_type": "code",
   "execution_count": 87,
   "metadata": {
    "collapsed": false
   },
   "outputs": [
    {
     "data": {
      "text/plain": [
       "array([[6, 2],\n",
       "       [6, 6],\n",
       "       [1, 3]])"
      ]
     },
     "execution_count": 87,
     "metadata": {},
     "output_type": "execute_result"
    }
   ],
   "source": [
    "A"
   ]
  },
  {
   "cell_type": "code",
   "execution_count": 88,
   "metadata": {
    "collapsed": false
   },
   "outputs": [
    {
     "data": {
      "text/plain": [
       "array([[7, 3],\n",
       "       [7, 7],\n",
       "       [2, 4]])"
      ]
     },
     "execution_count": 88,
     "metadata": {},
     "output_type": "execute_result"
    }
   ],
   "source": [
    "A+1 # here there is an addition of a 3x2 matrix plus a number. The number is added to all elements"
   ]
  },
  {
   "cell_type": "code",
   "execution_count": 89,
   "metadata": {
    "collapsed": false
   },
   "outputs": [
    {
     "data": {
      "text/plain": [
       "array([[1],\n",
       "       [2],\n",
       "       [3]])"
      ]
     },
     "execution_count": 89,
     "metadata": {},
     "output_type": "execute_result"
    }
   ],
   "source": [
    "C = np.array([[1],[2],[3]]) # column vector dimension 3x1\n",
    "C"
   ]
  },
  {
   "cell_type": "code",
   "execution_count": 90,
   "metadata": {
    "collapsed": false
   },
   "outputs": [
    {
     "data": {
      "text/plain": [
       "array([[6, 2],\n",
       "       [6, 6],\n",
       "       [1, 3]])"
      ]
     },
     "execution_count": 90,
     "metadata": {},
     "output_type": "execute_result"
    }
   ],
   "source": [
    "A"
   ]
  },
  {
   "cell_type": "code",
   "execution_count": 91,
   "metadata": {
    "collapsed": false
   },
   "outputs": [
    {
     "data": {
      "text/plain": [
       "array([[7, 3],\n",
       "       [8, 8],\n",
       "       [4, 6]])"
      ]
     },
     "execution_count": 91,
     "metadata": {},
     "output_type": "execute_result"
    }
   ],
   "source": [
    "A+C # in this case the vector C is copied to match the dimension of A. Is the same as A + [C C]"
   ]
  },
  {
   "cell_type": "markdown",
   "metadata": {},
   "source": [
    "## Matrix multiplication\n",
    "\n",
    "$\\mathbf{A} \\in \\mathbb{R}^{n\\times m}, \\mathbf{B} \\in \\mathbb{R}^{m\\times p}\n",
    "\\Longrightarrow \\mathbf{A}\\mathbf{B}\\in \\mathbb{R}^{n\\times p}\n",
    "$\n",
    "\n",
    "$\\mathbf{A} \\in \\mathbb{R}^{n\\times m}, \\mathbf{B} \\in \\mathbb{R}^{m\\times p},\n",
    "\\mathbf{C} \\in \\mathbb{R}^{p\\times q}\n",
    "\\Longrightarrow \\mathbf{A}\\mathbf{B}\\mathbf{C}= (\\mathbf{A}\\mathbf{B})\\mathbf{C} \n",
    "= \\mathbf{A}(\\mathbf{B}\\mathbf{C})\\in \\mathbb{R}^{n\\times q}\n",
    "$"
   ]
  },
  {
   "cell_type": "markdown",
   "metadata": {},
   "source": [
    "One simple manner of visualizing matrix multiplication is to consider the rows of the first matrix against the columns of the second matrix. This is similar to a dot product interpretation of matrix multiplication and helps to gain insight and understanding.\n",
    "\n",
    "$\n",
    "\\mathbf{A} = \n",
    "\\begin{bmatrix}\n",
    "\\mathbf{a}_{1}  \\\\\n",
    "\\mathbf{a}_{2}  \\\\\n",
    "\\vdots \\\\\n",
    "\\mathbf{a}_{n}\n",
    "\\end{bmatrix}\n",
    "\\in \\mathbb{R}^{n\\times m},\n",
    "\\mathbf{a}_i = \n",
    "\\begin{bmatrix}\n",
    "a_{i1}  & a_{i2} & \\ldots & a_{im}\n",
    "\\end{bmatrix}\\in \\mathbb{R}^{1\\times m},\n",
    "$\n",
    "\n",
    "$\\mathbf{B} = \n",
    "\\begin{bmatrix}\n",
    "\\mathbf{b}_{1}  & \\mathbf{b}_{2} & \\ldots & \\mathbf{b}_{p}\n",
    "\\end{bmatrix}\\in \\mathbb{R}^{m\\times p},\n",
    "\\mathbf{b}_j = \n",
    "\\begin{bmatrix}\n",
    "b_{1j}  \\\\\n",
    "b_{2j}  \\\\\n",
    "\\vdots \\\\\n",
    "b_{mj}\n",
    "\\end{bmatrix}\n",
    "\\in \\mathbb{R}^{m\\times 1}\n",
    "$\n"
   ]
  },
  {
   "cell_type": "markdown",
   "metadata": {},
   "source": [
    "$\\mathbf{A}\\mathbf{B} = \\begin{bmatrix}\n",
    "\\mathbf{a}_{1}  \\\\\n",
    "\\mathbf{a}_{2}  \\\\\n",
    "\\vdots \\\\\n",
    "\\mathbf{a}_{n}\n",
    "\\end{bmatrix}\n",
    "\\begin{bmatrix}\n",
    "\\mathbf{b}_{1}  & \\mathbf{b}_{2} & \\ldots & \\mathbf{b}_{p}\n",
    "\\end{bmatrix}=\n",
    "\\begin{bmatrix}\n",
    "\\mathbf{a}_{1}\\mathbf{b}_{1}  & \\mathbf{a}_{1}\\mathbf{b}_{2} & \\ldots & \\mathbf{a}_{1}\\mathbf{b}_{p} \\\\\n",
    "\\mathbf{a}_{2}\\mathbf{b}_{1}  & \\mathbf{a}_{2}\\mathbf{b}_{2} & \\ldots & \\mathbf{a}_{2}\\mathbf{b}_{p} \\\\\n",
    "\\vdots  &  \\vdots  & \\ddots &  \\vdots\\\\\n",
    "\\mathbf{a}_{n}\\mathbf{b}_{1}  & \\mathbf{a}_{n}\\mathbf{b}_{2} & \\ldots & \\mathbf{a}_{n}\\mathbf{b}_{p} \\\\\n",
    "\\end{bmatrix} \\in \\mathbb{R}^{n\\times m}\n",
    "$\n",
    "\n",
    "where each of the entries is the cross product of a row of the first matrix and a column of the second: \n",
    "\n",
    "$\n",
    "\\mathbf{a}_i\\mathbf{b}_j = \n",
    "\\begin{bmatrix}\n",
    "a_{i1}  & a_{i2} & \\ldots & a_{im}\n",
    "\\end{bmatrix}\n",
    "\\begin{bmatrix}\n",
    "b_{1j}  \\\\\n",
    "b_{2j}  \\\\\n",
    "\\vdots \\\\\n",
    "b_{mj}\n",
    "\\end{bmatrix}\n",
    "= \n",
    "a_{i1}b_{1j}+a_{i2}b_{2j}+\\ldots +a_{im}b_{mj}\n",
    "$\n",
    "\n",
    "\n",
    "\n",
    "Matrix multiplication is done using the \"@\". Note that this is only valid for newer python versions.\n",
    "In older versions matrix multiplication is obtained with the dot() command."
   ]
  },
  {
   "cell_type": "code",
   "execution_count": 92,
   "metadata": {
    "collapsed": false
   },
   "outputs": [
    {
     "data": {
      "text/plain": [
       "array([[2, 5],\n",
       "       [5, 7],\n",
       "       [1, 2]])"
      ]
     },
     "execution_count": 92,
     "metadata": {},
     "output_type": "execute_result"
    }
   ],
   "source": [
    "B"
   ]
  },
  {
   "cell_type": "code",
   "execution_count": 93,
   "metadata": {
    "collapsed": false
   },
   "outputs": [
    {
     "data": {
      "text/plain": [
       "array([[6, 2],\n",
       "       [6, 6],\n",
       "       [1, 3]])"
      ]
     },
     "execution_count": 93,
     "metadata": {},
     "output_type": "execute_result"
    }
   ],
   "source": [
    "A"
   ]
  },
  {
   "cell_type": "code",
   "execution_count": 94,
   "metadata": {
    "collapsed": false
   },
   "outputs": [
    {
     "data": {
      "text/plain": [
       "array([[30, 47],\n",
       "       [47, 78]])"
      ]
     },
     "execution_count": 94,
     "metadata": {},
     "output_type": "execute_result"
    }
   ],
   "source": [
    "B.T @ B"
   ]
  },
  {
   "cell_type": "code",
   "execution_count": 95,
   "metadata": {
    "collapsed": false
   },
   "outputs": [
    {
     "data": {
      "text/plain": [
       "array([[40, 48, 12],\n",
       "       [48, 72, 24],\n",
       "       [12, 24, 10]])"
      ]
     },
     "execution_count": 95,
     "metadata": {},
     "output_type": "execute_result"
    }
   ],
   "source": [
    "A @ A.T"
   ]
  },
  {
   "cell_type": "markdown",
   "metadata": {},
   "source": [
    "$\\mathbf{A} \\in \\mathbb{R}^{n\\times m}, \\mathbf{B} \\in \\mathbb{R}^{m\\times p}\n",
    "\\Longrightarrow (\\mathbf{A}\\mathbf{B})^T = \\mathbf{B}^T\\mathbf{A}^T\\in \\mathbb{R}^{p\\times n}\n",
    "$\n",
    "\n",
    "$\\mathbf{A} \\in \\mathbb{R}^{n\\times m}, \\mathbf{B} \\in \\mathbb{R}^{m\\times p},\n",
    "\\mathbf{C} \\in \\mathbb{R}^{p\\times q}\n",
    "\\Longrightarrow (\\mathbf{A}\\mathbf{B}\\mathbf{C})^T= \\mathbf{C}^T\\mathbf{B}^T\\mathbf{A}^T \n",
    "\\in \\mathbb{R}^{q\\times n}\n",
    "$"
   ]
  },
  {
   "cell_type": "code",
   "execution_count": 96,
   "metadata": {
    "collapsed": false
   },
   "outputs": [
    {
     "data": {
      "text/plain": [
       "array([[7, 1, 1],\n",
       "       [0, 0, 3]])"
      ]
     },
     "execution_count": 96,
     "metadata": {},
     "output_type": "execute_result"
    }
   ],
   "source": [
    "A = np.random.randint(9,size=(2, 3))\n",
    "A"
   ]
  },
  {
   "cell_type": "code",
   "execution_count": 97,
   "metadata": {
    "collapsed": false
   },
   "outputs": [
    {
     "data": {
      "text/plain": [
       "array([[0, 8, 4, 0],\n",
       "       [6, 6, 5, 8],\n",
       "       [5, 6, 2, 6]])"
      ]
     },
     "execution_count": 97,
     "metadata": {},
     "output_type": "execute_result"
    }
   ],
   "source": [
    "B = np.random.randint(9,size=(3, 4))\n",
    "B"
   ]
  },
  {
   "cell_type": "code",
   "execution_count": 98,
   "metadata": {
    "collapsed": false
   },
   "outputs": [
    {
     "data": {
      "text/plain": [
       "array([[2, 5, 6, 0, 2],\n",
       "       [4, 7, 8, 4, 1],\n",
       "       [7, 7, 7, 3, 8],\n",
       "       [8, 1, 8, 2, 6]])"
      ]
     },
     "execution_count": 98,
     "metadata": {},
     "output_type": "execute_result"
    }
   ],
   "source": [
    "C = np.random.randint(9,size=(4, 5))\n",
    "C"
   ]
  },
  {
   "cell_type": "code",
   "execution_count": 99,
   "metadata": {
    "collapsed": false
   },
   "outputs": [
    {
     "data": {
      "text/plain": [
       "array([[651, 790, 967, 405, 454],\n",
       "       [288, 261, 420, 126, 204]])"
      ]
     },
     "execution_count": 99,
     "metadata": {},
     "output_type": "execute_result"
    }
   ],
   "source": [
    "A @ B @ C"
   ]
  },
  {
   "cell_type": "code",
   "execution_count": 100,
   "metadata": {
    "collapsed": false
   },
   "outputs": [
    {
     "data": {
      "text/plain": [
       "array([[651, 288],\n",
       "       [790, 261],\n",
       "       [967, 420],\n",
       "       [405, 126],\n",
       "       [454, 204]])"
      ]
     },
     "execution_count": 100,
     "metadata": {},
     "output_type": "execute_result"
    }
   ],
   "source": [
    "C.T @ B.T @ A.T"
   ]
  },
  {
   "cell_type": "markdown",
   "metadata": {},
   "source": [
    "## Matrix inversion"
   ]
  },
  {
   "cell_type": "code",
   "execution_count": 108,
   "metadata": {
    "collapsed": false
   },
   "outputs": [
    {
     "data": {
      "text/plain": [
       "array([[ 0.26, -0.23, -0.25,  0.93],\n",
       "       [ 0.25, -1.07, -0.73, -0.44],\n",
       "       [ 2.05,  0.01, -0.14,  1.44],\n",
       "       [ 0.86, -0.25, -0.01, -0.82]])"
      ]
     },
     "execution_count": 108,
     "metadata": {},
     "output_type": "execute_result"
    }
   ],
   "source": [
    "A = np.random.randn(4,4)\n",
    "A"
   ]
  },
  {
   "cell_type": "code",
   "execution_count": 109,
   "metadata": {
    "collapsed": false
   },
   "outputs": [
    {
     "data": {
      "text/plain": [
       "array([[ -0.77,   0.17,   0.56,   0.01],\n",
       "       [-10.92,   3.12,   3.96,  -7.11],\n",
       "       [ 14.24,  -5.43,  -5.24,   9.86],\n",
       "       [  2.48,  -0.76,  -0.61,   0.93]])"
      ]
     },
     "execution_count": 109,
     "metadata": {},
     "output_type": "execute_result"
    }
   ],
   "source": [
    "np.linalg.inv(A)"
   ]
  },
  {
   "cell_type": "code",
   "execution_count": 111,
   "metadata": {
    "collapsed": false
   },
   "outputs": [
    {
     "data": {
      "text/plain": [
       "array([[  1.00e+00,  -1.11e-16,   0.00e+00,   0.00e+00],\n",
       "       [  6.66e-16,   1.00e+00,   6.66e-16,  -1.05e-15],\n",
       "       [  0.00e+00,   0.00e+00,   1.00e+00,   0.00e+00],\n",
       "       [  8.88e-16,  -1.11e-16,  -2.78e-16,   1.00e+00]])"
      ]
     },
     "execution_count": 111,
     "metadata": {},
     "output_type": "execute_result"
    }
   ],
   "source": [
    "A @ np.linalg.inv(A) # the result is the identity matrix except for numerical accuracy in the order 10e-15"
   ]
  },
  {
   "cell_type": "code",
   "execution_count": 104,
   "metadata": {
    "collapsed": false
   },
   "outputs": [
    {
     "name": "stdout",
     "output_type": "stream",
     "text": [
      "[[ 0.19 -0.25 -0.1   0.32  0.19  0.12]\n",
      " [ 2.66 -0.45 -0.22  0.36  0.15 -0.97]\n",
      " [ 0.63 -0.28  0.34  0.36 -0.21 -0.34]\n",
      " [ 2.16 -0.64 -0.08  0.13 -0.27 -0.86]\n",
      " [ 0.2   0.16 -0.9   0.07  0.13 -0.61]\n",
      " [ 1.55 -0.64  0.46  0.66 -0.64  0.11]]\n"
     ]
    }
   ],
   "source": [
    "Y = np.linalg.pinv(A)\n",
    "print(Y)"
   ]
  },
  {
   "cell_type": "code",
   "execution_count": 105,
   "metadata": {
    "collapsed": false
   },
   "outputs": [
    {
     "name": "stdout",
     "output_type": "stream",
     "text": [
      "[[  1.00e+00   1.39e-16  -1.67e-16  -2.36e-16   1.94e-16   1.80e-16]\n",
      " [  6.66e-16   1.00e+00  -8.88e-16   1.22e-15  -8.33e-16  -8.88e-16]\n",
      " [  4.44e-16  -5.55e-16   1.00e+00   7.22e-16  -1.67e-16  -2.22e-16]\n",
      " [  2.22e-16  -1.55e-15  -8.88e-16   1.00e+00  -7.63e-16  -1.11e-15]\n",
      " [ -2.78e-16  -2.78e-17   0.00e+00  -3.33e-16   1.00e+00  -2.22e-16]\n",
      " [  4.44e-16  -8.88e-16  -5.55e-16   1.22e-15  -1.11e-16   1.00e+00]]\n"
     ]
    }
   ],
   "source": [
    "print(Y @ A)"
   ]
  },
  {
   "cell_type": "code",
   "execution_count": 106,
   "metadata": {
    "collapsed": false
   },
   "outputs": [
    {
     "name": "stdout",
     "output_type": "stream",
     "text": [
      "[[  1.61   3.53  -0.21  -0.34  -0.39   1.93]\n",
      " [  3.53  15.13   1.89   3.57  -2.54   1.46]\n",
      " [ -0.21   1.89   2.87   1.09   1.12  -1.94]\n",
      " [ -0.34   3.57   1.09   4.95   0.4   -1.36]\n",
      " [ -0.39  -2.54   1.12   0.4    4.38  -0.13]\n",
      " [  1.93   1.46  -1.94  -1.36  -0.13   4.23]]\n",
      "[[ 14.58  -3.77  -0.02   2.56  -1.24  -4.58]\n",
      " [ -3.77   1.19  -0.36  -0.84   0.55   0.89]\n",
      " [ -0.02  -0.36   1.2    0.24  -0.52   0.75]\n",
      " [  2.56  -0.84   0.24   0.82  -0.41  -0.52]\n",
      " [ -1.24   0.55  -0.52  -0.41   0.61   0.02]\n",
      " [ -4.58   0.89   0.75  -0.52   0.02   2.2 ]]\n",
      "[[  1.00e+00   0.00e+00  -8.33e-17   0.00e+00  -4.44e-16   0.00e+00]\n",
      " [ -7.11e-15   1.00e+00  -4.44e-16   0.00e+00   0.00e+00   0.00e+00]\n",
      " [ -1.78e-15   4.44e-16   1.00e+00  -5.55e-17   2.22e-16   0.00e+00]\n",
      " [  8.88e-16   0.00e+00  -2.22e-16   1.00e+00   3.05e-16  -8.88e-16]\n",
      " [ -1.78e-15   2.22e-16  -4.44e-16  -4.44e-16   1.00e+00   0.00e+00]\n",
      " [ -3.55e-15  -1.78e-15   0.00e+00   0.00e+00  -6.66e-16   1.00e+00]]\n"
     ]
    }
   ],
   "source": [
    "X = A @ A.T\n",
    "Xinv = np.linalg.inv(X)\n",
    "print(X)\n",
    "print(Xinv)\n",
    "print(X @ Xinv)\n"
   ]
  },
  {
   "cell_type": "code",
   "execution_count": 107,
   "metadata": {
    "collapsed": false
   },
   "outputs": [
    {
     "data": {
      "text/plain": [
       "(array([ 17.71,   7.7 ,   4.31,   2.95,   0.06,   0.44]),\n",
       " array([[ 0.21, -0.27, -0.21, -0.09, -0.91,  0.02],\n",
       "        [ 0.92, -0.02, -0.04, -0.15,  0.24, -0.27],\n",
       "        [ 0.11,  0.44, -0.14, -0.55,  0.  ,  0.69],\n",
       "        [ 0.25,  0.53, -0.04,  0.76, -0.16,  0.23],\n",
       "        [-0.17,  0.28, -0.86, -0.06,  0.08, -0.37],\n",
       "        [ 0.09, -0.62, -0.43,  0.28,  0.29,  0.51]]))"
      ]
     },
     "execution_count": 107,
     "metadata": {},
     "output_type": "execute_result"
    }
   ],
   "source": [
    "np.linalg.eig(X)"
   ]
  },
  {
   "cell_type": "code",
   "execution_count": null,
   "metadata": {
    "collapsed": true
   },
   "outputs": [],
   "source": []
  }
 ],
 "metadata": {
  "kernelspec": {
   "display_name": "Python 3",
   "language": "python",
   "name": "python3"
  },
  "language_info": {
   "codemirror_mode": {
    "name": "ipython",
    "version": 3
   },
   "file_extension": ".py",
   "mimetype": "text/x-python",
   "name": "python",
   "nbconvert_exporter": "python",
   "pygments_lexer": "ipython3",
   "version": "3.5.1"
  }
 },
 "nbformat": 4,
 "nbformat_minor": 0
}
