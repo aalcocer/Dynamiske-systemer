{
 "cells": [
  {
   "cell_type": "markdown",
   "metadata": {},
   "source": [
    "# Introduction - Matrix algebra review"
   ]
  },
  {
   "cell_type": "markdown",
   "metadata": {
    "collapsed": true
   },
   "source": [
    "$ \\mathbf{A} = \\begin{bmatrix}\n",
    "a_{11}  & a_{12} & \\ldots & a_{1m} \\\\\n",
    "a_{21}  & a_{22} & \\ldots & a_{1m} \\\\        \n",
    "\\vdots  &  \\vdots  & \\ddots &  \\vdots\\\\\n",
    "a_{n1}  & a_{n2} &  \\ldots & a_{nm}     \n",
    "\\end{bmatrix} \\in \\mathbb{R}^{n\\times m}$\n",
    "\n",
    "$n$ is the number of rows\n",
    "\n",
    "$m$ is the number of columns\n",
    "\n",
    "$ A^T = \\begin{bmatrix}\n",
    "a_{11}  & a_{12} & \\ldots & a_{1m} \\\\\n",
    "a_{21}  & a_{22} & \\ldots & a_{1m} \\\\        \n",
    "\\vdots  &  \\vdots  & \\ddots &  \\vdots\\\\\n",
    "a_{n1}  & a_{n2} &  \\ldots & a_{nm}     \n",
    "\\end{bmatrix} \\in \\mathbb{R}^{n\\times m}$"
   ]
  },
  {
   "cell_type": "code",
   "execution_count": 88,
   "metadata": {
    "collapsed": false
   },
   "outputs": [],
   "source": [
    "import numpy as np\n",
    "#from numpy import linalg as LA\n",
    "np.set_printoptions(precision=3)"
   ]
  },
  {
   "cell_type": "code",
   "execution_count": 89,
   "metadata": {
    "collapsed": false
   },
   "outputs": [
    {
     "name": "stdout",
     "output_type": "stream",
     "text": [
      "[[7 1 0 5 3]\n",
      " [7 2 1 0 0]\n",
      " [1 3 6 2 1]\n",
      " [7 8 1 1 5]]\n"
     ]
    }
   ],
   "source": [
    "A = np.random.randint(9, size=(4, 5))\n",
    "print(A)"
   ]
  },
  {
   "cell_type": "code",
   "execution_count": 90,
   "metadata": {
    "collapsed": false
   },
   "outputs": [
    {
     "name": "stdout",
     "output_type": "stream",
     "text": [
      "[[3 4]\n",
      " [3 2]\n",
      " [3 1]\n",
      " [6 4]]\n"
     ]
    }
   ],
   "source": [
    "B = np.random.randint(9, size=(4, 2))\n",
    "print(B)"
   ]
  },
  {
   "cell_type": "code",
   "execution_count": 91,
   "metadata": {
    "collapsed": false
   },
   "outputs": [
    {
     "name": "stdout",
     "output_type": "stream",
     "text": [
      "[[3 3 3 6]\n",
      " [4 2 1 4]]\n"
     ]
    }
   ],
   "source": [
    "print(B.T)"
   ]
  },
  {
   "cell_type": "code",
   "execution_count": 92,
   "metadata": {
    "collapsed": false
   },
   "outputs": [
    {
     "data": {
      "text/plain": [
       "array([[63, 45],\n",
       "       [45, 37]])"
      ]
     },
     "execution_count": 92,
     "metadata": {},
     "output_type": "execute_result"
    }
   ],
   "source": [
    "B.T.dot(B) # B^T*B"
   ]
  },
  {
   "cell_type": "code",
   "execution_count": 93,
   "metadata": {
    "collapsed": false
   },
   "outputs": [
    {
     "data": {
      "text/plain": [
       "array([[63, 45],\n",
       "       [45, 37]])"
      ]
     },
     "execution_count": 93,
     "metadata": {},
     "output_type": "execute_result"
    }
   ],
   "source": [
    "B.T @ B"
   ]
  },
  {
   "cell_type": "code",
   "execution_count": 94,
   "metadata": {
    "collapsed": false
   },
   "outputs": [
    {
     "data": {
      "text/plain": [
       "array([[ 84,  51,  23,  77],\n",
       "       [ 51,  54,  19,  66],\n",
       "       [ 23,  19,  51,  44],\n",
       "       [ 77,  66,  44, 140]])"
      ]
     },
     "execution_count": 94,
     "metadata": {},
     "output_type": "execute_result"
    }
   ],
   "source": [
    "A @ A.T"
   ]
  },
  {
   "cell_type": "code",
   "execution_count": 95,
   "metadata": {
    "collapsed": false
   },
   "outputs": [
    {
     "name": "stdout",
     "output_type": "stream",
     "text": [
      "[[ 0.024  0.144 -0.025 -0.023]\n",
      " [-0.07  -0.032  0.009  0.108]\n",
      " [-0.027  0.052  0.155 -0.051]\n",
      " [ 0.148 -0.112  0.045 -0.035]\n",
      " [ 0.055 -0.14  -0.02   0.078]]\n"
     ]
    }
   ],
   "source": [
    "Y = np.linalg.pinv(A)\n",
    "print(Y)"
   ]
  },
  {
   "cell_type": "code",
   "execution_count": 96,
   "metadata": {
    "collapsed": false
   },
   "outputs": [
    {
     "name": "stdout",
     "output_type": "stream",
     "text": [
      "[[ 0.989  0.051 -0.028  0.047 -0.07 ]\n",
      " [ 0.051  0.756  0.132 -0.225  0.337]\n",
      " [-0.028  0.132  0.928  0.122 -0.183]\n",
      " [ 0.047 -0.225  0.122  0.793  0.311]\n",
      " [-0.07   0.337 -0.183  0.311  0.533]]\n"
     ]
    }
   ],
   "source": [
    "print(Y @ A)"
   ]
  },
  {
   "cell_type": "code",
   "execution_count": 97,
   "metadata": {
    "collapsed": false
   },
   "outputs": [
    {
     "name": "stdout",
     "output_type": "stream",
     "text": [
      "[[ 84  51  23  77]\n",
      " [ 51  54  19  66]\n",
      " [ 23  19  51  44]\n",
      " [ 77  66  44 140]]\n",
      "[[  3.105e-02  -1.994e-02   6.750e-05  -7.699e-03]\n",
      " [ -1.994e-02   5.666e-02   2.013e-03  -1.638e-02]\n",
      " [  6.750e-05   2.013e-03   2.700e-02  -9.471e-03]\n",
      " [ -7.699e-03  -1.638e-02  -9.471e-03   2.207e-02]]\n",
      "[[  1.000e+00   2.220e-16   0.000e+00   0.000e+00]\n",
      " [  1.110e-16   1.000e+00   1.110e-16  -2.220e-16]\n",
      " [  1.665e-16  -1.110e-16   1.000e+00   0.000e+00]\n",
      " [  2.220e-16   0.000e+00   2.220e-16   1.000e+00]]\n"
     ]
    }
   ],
   "source": [
    "X = A @ A.T\n",
    "Xinv = np.linalg.inv(X)\n",
    "print(X)\n",
    "print(Xinv)\n",
    "print(X @ Xinv)\n"
   ]
  },
  {
   "cell_type": "code",
   "execution_count": 98,
   "metadata": {
    "collapsed": false
   },
   "outputs": [
    {
     "data": {
      "text/plain": [
       "(array([ 246.918,   41.758,   26.145,   14.178]),\n",
       " array([[ 0.503,  0.5  ,  0.585,  0.394],\n",
       "        [ 0.404,  0.253,  0.028, -0.878],\n",
       "        [ 0.26 , -0.804,  0.527, -0.095],\n",
       "        [ 0.719, -0.202, -0.616,  0.253]]))"
      ]
     },
     "execution_count": 98,
     "metadata": {},
     "output_type": "execute_result"
    }
   ],
   "source": [
    "np.linalg.eig(X)"
   ]
  },
  {
   "cell_type": "code",
   "execution_count": null,
   "metadata": {
    "collapsed": true
   },
   "outputs": [],
   "source": []
  }
 ],
 "metadata": {
  "kernelspec": {
   "display_name": "Python 3",
   "language": "python",
   "name": "python3"
  },
  "language_info": {
   "codemirror_mode": {
    "name": "ipython",
    "version": 3
   },
   "file_extension": ".py",
   "mimetype": "text/x-python",
   "name": "python",
   "nbconvert_exporter": "python",
   "pygments_lexer": "ipython3",
   "version": "3.5.1"
  }
 },
 "nbformat": 4,
 "nbformat_minor": 0
}
