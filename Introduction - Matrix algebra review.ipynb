{
 "cells": [
  {
   "cell_type": "markdown",
   "metadata": {},
   "source": [
    "# Introduction - Matrix algebra review"
   ]
  },
  {
   "cell_type": "markdown",
   "metadata": {
    "collapsed": true
   },
   "source": [
    "This page contains some basic reminder of matrix algebra using python numpy.\n",
    "\n",
    "The following links has useful information whan converting from Matlab to numpy arrays:  \n",
    "http://sebastianraschka.com/Articles/2014_matlab_vs_numpy.html  \n",
    "https://docs.scipy.org/doc/numpy-dev/user/numpy-for-matlab-users.html#\n",
    "\n",
    "\n",
    "\n",
    "\n",
    "Matrix with real elements:\n",
    "$ \\mathbf{A} = \\begin{bmatrix}\n",
    "a_{11}  & a_{12} & \\ldots & a_{1m} \\\\\n",
    "a_{21}  & a_{22} & \\ldots & a_{2m} \\\\        \n",
    "\\vdots  &  \\vdots  & \\ddots &  \\vdots\\\\\n",
    "a_{n1}  & a_{n2} &  \\ldots & a_{nm}     \n",
    "\\end{bmatrix} \\in \\mathbb{R}^{n\\times m}$\n",
    "\n",
    "The first index $n$ is the number of rows.  \n",
    "The second index $m$ is the number of columns\n",
    "\n",
    "Column vector of dimension $n$:\n",
    "$\\mathbf{a} = \n",
    "\\begin{bmatrix}\n",
    "a_{1}  \\\\\n",
    "a_{2}  \\\\\n",
    "\\vdots \\\\\n",
    "a_{n}  \\\\\n",
    "\\end{bmatrix} \\in \\mathbb{R}^{n\\times 1}\n",
    "$\n",
    "\n",
    "Row vector of dimension $m$:\n",
    "\n",
    "$\\mathbf{b} = \n",
    "\\begin{bmatrix}\n",
    "b_1  & b_2 & \\ldots b_{m} \n",
    "\\end{bmatrix} \\in \\mathbb{R}^{1\\times m}\n",
    "$\n"
   ]
  },
  {
   "cell_type": "code",
   "execution_count": 193,
   "metadata": {
    "collapsed": false
   },
   "outputs": [],
   "source": [
    "import numpy as np\n",
    "#from numpy import linalg as LA\n",
    "np.set_printoptions(precision=3)"
   ]
  },
  {
   "cell_type": "code",
   "execution_count": 194,
   "metadata": {
    "collapsed": false
   },
   "outputs": [
    {
     "data": {
      "text/plain": [
       "array([[8, 8, 6, 1, 4],\n",
       "       [3, 2, 7, 2, 4],\n",
       "       [3, 5, 7, 0, 1],\n",
       "       [1, 0, 7, 8, 2]])"
      ]
     },
     "execution_count": 194,
     "metadata": {},
     "output_type": "execute_result"
    }
   ],
   "source": [
    "A = np.random.randint(9, size=(4, 5)) # creates random matrix with integer entries (from 0-9) and size (4,5)\n",
    "A"
   ]
  },
  {
   "cell_type": "code",
   "execution_count": 195,
   "metadata": {
    "collapsed": false
   },
   "outputs": [
    {
     "data": {
      "text/plain": [
       "array([[0],\n",
       "       [2],\n",
       "       [1],\n",
       "       [6],\n",
       "       [7]])"
      ]
     },
     "execution_count": 195,
     "metadata": {},
     "output_type": "execute_result"
    }
   ],
   "source": [
    "a = np.array([[0],[2],[1],[6],[7]]) # numpy array representation of column vector as a 2d array of dimension (5,1)\n",
    "a"
   ]
  },
  {
   "cell_type": "code",
   "execution_count": 196,
   "metadata": {
    "collapsed": false
   },
   "outputs": [
    {
     "data": {
      "text/plain": [
       "(5, 1)"
      ]
     },
     "execution_count": 196,
     "metadata": {},
     "output_type": "execute_result"
    }
   ],
   "source": [
    "a.shape"
   ]
  },
  {
   "cell_type": "code",
   "execution_count": 197,
   "metadata": {
    "collapsed": false
   },
   "outputs": [
    {
     "data": {
      "text/plain": [
       "array([[1, 2, 3, 6, 7]])"
      ]
     },
     "execution_count": 197,
     "metadata": {},
     "output_type": "execute_result"
    }
   ],
   "source": [
    "b = np.array([[1,2,3,6,7]]) # row vector\n",
    "b"
   ]
  },
  {
   "cell_type": "code",
   "execution_count": 198,
   "metadata": {
    "collapsed": false
   },
   "outputs": [
    {
     "data": {
      "text/plain": [
       "(1, 5)"
      ]
     },
     "execution_count": 198,
     "metadata": {},
     "output_type": "execute_result"
    }
   ],
   "source": [
    "b.shape"
   ]
  },
  {
   "cell_type": "code",
   "execution_count": 199,
   "metadata": {
    "collapsed": false
   },
   "outputs": [
    {
     "data": {
      "text/plain": [
       "array([[ 0.],\n",
       "       [ 0.],\n",
       "       [ 0.],\n",
       "       [ 0.],\n",
       "       [ 0.]])"
      ]
     },
     "execution_count": 199,
     "metadata": {},
     "output_type": "execute_result"
    }
   ],
   "source": [
    "np.zeros((5,1)) # column vector of zeros and dimension 5x1"
   ]
  },
  {
   "cell_type": "code",
   "execution_count": 200,
   "metadata": {
    "collapsed": false
   },
   "outputs": [
    {
     "data": {
      "text/plain": [
       "array([[ 1.,  1.,  1.,  1.]])"
      ]
     },
     "execution_count": 200,
     "metadata": {},
     "output_type": "execute_result"
    }
   ],
   "source": [
    "np.ones((1,4)) # row vector of ones and dimension 5x1"
   ]
  },
  {
   "cell_type": "markdown",
   "metadata": {},
   "source": [
    "## Transpose\n",
    "\n",
    "\n",
    "\n",
    "$ \\mathbf{A} = \\begin{bmatrix}\n",
    "a_{11}  & a_{12} & \\ldots & a_{1m} \\\\\n",
    "a_{21}  & a_{22} & \\ldots & a_{2m} \\\\        \n",
    "\\vdots  &  \\vdots  & \\ddots &  \\vdots\\\\\n",
    "a_{n1}  & a_{n2} &  \\ldots & a_{nm}     \n",
    "\\end{bmatrix} \\in \\mathbb{R}^{n\\times m} \\Longrightarrow\n",
    "\\mathbf{A}^T = \\begin{bmatrix}\n",
    "a_{11}  & a_{21} & \\ldots & a_{n1} \\\\\n",
    "a_{12}  & a_{22} & \\ldots & a_{n2} \\\\        \n",
    "\\vdots  &  \\vdots  & \\ddots &  \\vdots\\\\\n",
    "a_{1m}  & a_{2m} &  \\ldots & a_{nm}     \n",
    "\\end{bmatrix} \\in \\mathbb{R}^{m\\times n}$\n",
    "\n",
    "$  \\mathbf{A} = \\begin{bmatrix}\n",
    "\\mathbf{c}_{1}  & \\mathbf{c}_{1} & \\ldots & \\mathbf{c}_{m}\n",
    "\\end{bmatrix} \\in \\mathbb{R}^{n\\times m}, \n",
    "\\mathbf{c}_i = \n",
    "\\begin{bmatrix}\n",
    "a_{1i}  \\\\\n",
    "a_{2i}  \\\\\n",
    "\\vdots \\\\\n",
    "a_{ni}  \\\\\n",
    "\\end{bmatrix} \\in \\mathbb{R}^{n\\times 1}\n",
    " \\Longrightarrow\n",
    "\\mathbf{A}^T = \\begin{bmatrix}\n",
    "\\mathbf{c}^T_{1}  \\\\\n",
    "\\mathbf{c}^T_{2}  \\\\\n",
    "\\vdots \\\\\n",
    "\\mathbf{c}^T_{m}\n",
    "\\end{bmatrix} \\in \\mathbb{R}^{m\\times n},\n",
    "\\mathbf{c}^T_i = \n",
    "\\begin{bmatrix}\n",
    "a_{1i}  & a_{2i} & \\ldots &a_{ni}  \n",
    "\\end{bmatrix} \\in \\mathbb{R}^{1\\times n}\n",
    "$\n",
    "\n",
    "$  \n",
    "\\mathbf{A} = \\begin{bmatrix}\n",
    "\\mathbf{r}_{1}  \\\\\n",
    "\\mathbf{r}_{2}  \\\\\n",
    "\\vdots \\\\\n",
    "\\mathbf{r}_{n}\n",
    "\\end{bmatrix}\\in \\mathbb{R}^{n\\times m},\n",
    "\\mathbf{r}_i = \n",
    "\\begin{bmatrix}\n",
    "a_{i1}  & a_{i2} & \\ldots &a_{im}  \n",
    "\\end{bmatrix} \\in \\mathbb{R}^{1\\times m}\n",
    " \\Longrightarrow\n",
    "\\mathbf{A}^T = \\begin{bmatrix}\n",
    "\\mathbf{r}^T_{1}  & \\mathbf{r}^T_{1} & \\ldots & \\mathbf{r}^T_{n}\n",
    "\\end{bmatrix} \\in \\mathbb{R}^{m\\times n},\n",
    "\\mathbf{r}^T_i = \n",
    "\\begin{bmatrix}\n",
    "a_{i1}  \\\\\n",
    "a_{i2}  \\\\\n",
    "\\vdots \\\\\n",
    "a_{im}  \\\\\n",
    "\\end{bmatrix} \\in \\mathbb{R}^{m\\times 1}\n",
    "$"
   ]
  },
  {
   "cell_type": "code",
   "execution_count": 201,
   "metadata": {
    "collapsed": false
   },
   "outputs": [
    {
     "data": {
      "text/plain": [
       "array([[5, 6, 4],\n",
       "       [0, 0, 3],\n",
       "       [2, 6, 0],\n",
       "       [8, 1, 5],\n",
       "       [1, 0, 2]])"
      ]
     },
     "execution_count": 201,
     "metadata": {},
     "output_type": "execute_result"
    }
   ],
   "source": [
    "A = np.random.randint(9,size=(5, 3)) # creates random matrix with integer entries (from 0-9) and size (5,3)\n",
    "A"
   ]
  },
  {
   "cell_type": "code",
   "execution_count": 202,
   "metadata": {
    "collapsed": false
   },
   "outputs": [
    {
     "data": {
      "text/plain": [
       "(5, 3)"
      ]
     },
     "execution_count": 202,
     "metadata": {},
     "output_type": "execute_result"
    }
   ],
   "source": [
    "A.shape"
   ]
  },
  {
   "cell_type": "code",
   "execution_count": 203,
   "metadata": {
    "collapsed": false
   },
   "outputs": [
    {
     "data": {
      "text/plain": [
       "array([[5, 0, 2, 8, 1],\n",
       "       [6, 0, 6, 1, 0],\n",
       "       [4, 3, 0, 5, 2]])"
      ]
     },
     "execution_count": 203,
     "metadata": {},
     "output_type": "execute_result"
    }
   ],
   "source": [
    "A.T # returns matrix transpose"
   ]
  },
  {
   "cell_type": "code",
   "execution_count": 204,
   "metadata": {
    "collapsed": false
   },
   "outputs": [
    {
     "data": {
      "text/plain": [
       "(3, 5)"
      ]
     },
     "execution_count": 204,
     "metadata": {},
     "output_type": "execute_result"
    }
   ],
   "source": [
    "A.T.shape"
   ]
  },
  {
   "cell_type": "code",
   "execution_count": 205,
   "metadata": {
    "collapsed": false
   },
   "outputs": [
    {
     "data": {
      "text/plain": [
       "array([[-2.466],\n",
       "       [-0.102],\n",
       "       [-0.769],\n",
       "       [-1.143],\n",
       "       [ 0.165]])"
      ]
     },
     "execution_count": 205,
     "metadata": {},
     "output_type": "execute_result"
    }
   ],
   "source": [
    "b = np.random.randn(5,1) # column vector with normally distributed random entries\n",
    "b"
   ]
  },
  {
   "cell_type": "code",
   "execution_count": 206,
   "metadata": {
    "collapsed": false
   },
   "outputs": [
    {
     "data": {
      "text/plain": [
       "array([[-2.466, -0.102, -0.769, -1.143,  0.165]])"
      ]
     },
     "execution_count": 206,
     "metadata": {},
     "output_type": "execute_result"
    }
   ],
   "source": [
    "b.T"
   ]
  },
  {
   "cell_type": "markdown",
   "metadata": {},
   "source": [
    "Remember that $(\\mathbf{A}^T)^T = \\mathbf{A}$"
   ]
  },
  {
   "cell_type": "code",
   "execution_count": 207,
   "metadata": {
    "collapsed": false
   },
   "outputs": [
    {
     "data": {
      "text/plain": [
       "array([[-2.466],\n",
       "       [-0.102],\n",
       "       [-0.769],\n",
       "       [-1.143],\n",
       "       [ 0.165]])"
      ]
     },
     "execution_count": 207,
     "metadata": {},
     "output_type": "execute_result"
    }
   ],
   "source": [
    "b.T.T # b.T.T = b"
   ]
  },
  {
   "cell_type": "markdown",
   "metadata": {},
   "source": [
    "## Matrix addition\n",
    "\n",
    "Matrix sum is only defined if matrices have the same dimension\n",
    "\n",
    "$$ \\mathbf{A} = \\begin{bmatrix}\n",
    "a_{11}  & a_{12} & \\ldots & a_{1m} \\\\\n",
    "a_{21}  & a_{22} & \\ldots & a_{2m} \\\\        \n",
    "\\vdots  &  \\vdots  & \\ddots &  \\vdots\\\\\n",
    "a_{n1}  & a_{n2} &  \\ldots & a_{nm}     \n",
    "\\end{bmatrix} \\in \\mathbb{R}^{n\\times m},\n",
    " \\mathbf{B} = \\begin{bmatrix}\n",
    "b_{11}  & b_{12} & \\ldots & b_{1m} \\\\\n",
    "b_{21}  & b_{22} & \\ldots & b_{2m} \\\\        \n",
    "\\vdots  &  \\vdots  & \\ddots &  \\vdots\\\\\n",
    "b_{n1}  & b_{n2} &  \\ldots & b_{nm}     \n",
    "\\end{bmatrix} \\in \\mathbb{R}^{n\\times m}$$\n",
    "\n",
    "$$ \\mathbf{A}+\\mathbf{B} = \\begin{bmatrix}\n",
    "a_{11}+b_{11}  & a_{12}+b_{12} & \\ldots & a_{1m}+b_{1m} \\\\\n",
    "a_{21}+b_{21}  & a_{22}+b_{22} & \\ldots & a_{2m}+b_{2m} \\\\        \n",
    "\\vdots  &  \\vdots  & \\ddots &  \\vdots\\\\\n",
    "a_{n1}+b_{n1}  & a_{n2}+b_{n2} &  \\ldots & a_{nm}+b_{nm}     \n",
    "\\end{bmatrix} \\in \\mathbb{R}^{n\\times m}$$\n",
    "\n",
    "\n"
   ]
  },
  {
   "cell_type": "code",
   "execution_count": 208,
   "metadata": {
    "collapsed": false
   },
   "outputs": [
    {
     "data": {
      "text/plain": [
       "array([[1, 6],\n",
       "       [5, 3],\n",
       "       [5, 1]])"
      ]
     },
     "execution_count": 208,
     "metadata": {},
     "output_type": "execute_result"
    }
   ],
   "source": [
    "A = np.random.randint(9,size=(3, 2)) # creates random matrix with integer entries (from 0-9) and size (5,3)\n",
    "A"
   ]
  },
  {
   "cell_type": "code",
   "execution_count": 209,
   "metadata": {
    "collapsed": false
   },
   "outputs": [
    {
     "data": {
      "text/plain": [
       "array([[7, 1],\n",
       "       [0, 3],\n",
       "       [8, 6]])"
      ]
     },
     "execution_count": 209,
     "metadata": {},
     "output_type": "execute_result"
    }
   ],
   "source": [
    "B = np.random.randint(9,size=(3, 2)) # creates random matrix with integer entries (from 0-9) and size (5,3)\n",
    "B"
   ]
  },
  {
   "cell_type": "code",
   "execution_count": 210,
   "metadata": {
    "collapsed": false
   },
   "outputs": [
    {
     "data": {
      "text/plain": [
       "array([[ 8,  7],\n",
       "       [ 5,  6],\n",
       "       [13,  7]])"
      ]
     },
     "execution_count": 210,
     "metadata": {},
     "output_type": "execute_result"
    }
   ],
   "source": [
    "A+B # matrix addition"
   ]
  },
  {
   "cell_type": "code",
   "execution_count": 211,
   "metadata": {
    "collapsed": false
   },
   "outputs": [
    {
     "data": {
      "text/plain": [
       "array([[7],\n",
       "       [8],\n",
       "       [0]])"
      ]
     },
     "execution_count": 211,
     "metadata": {},
     "output_type": "execute_result"
    }
   ],
   "source": [
    "C = np.random.randint(9,size=(3, 1)) # column vector dimension 3x1\n",
    "C"
   ]
  },
  {
   "cell_type": "code",
   "execution_count": 212,
   "metadata": {
    "collapsed": false
   },
   "outputs": [
    {
     "data": {
      "text/plain": [
       "array([[ 8, 13],\n",
       "       [13, 11],\n",
       "       [ 5,  1]])"
      ]
     },
     "execution_count": 212,
     "metadata": {},
     "output_type": "execute_result"
    }
   ],
   "source": [
    "A+C"
   ]
  },
  {
   "cell_type": "markdown",
   "metadata": {},
   "source": [
    "## Matrix multiplication"
   ]
  },
  {
   "cell_type": "code",
   "execution_count": 213,
   "metadata": {
    "collapsed": false
   },
   "outputs": [
    {
     "data": {
      "text/plain": [
       "array([[113,  55],\n",
       "       [ 55,  46]])"
      ]
     },
     "execution_count": 213,
     "metadata": {},
     "output_type": "execute_result"
    }
   ],
   "source": [
    "B.T @ B"
   ]
  },
  {
   "cell_type": "code",
   "execution_count": 214,
   "metadata": {
    "collapsed": false
   },
   "outputs": [
    {
     "data": {
      "text/plain": [
       "array([[37, 23, 11],\n",
       "       [23, 34, 28],\n",
       "       [11, 28, 26]])"
      ]
     },
     "execution_count": 214,
     "metadata": {},
     "output_type": "execute_result"
    }
   ],
   "source": [
    "A @ A.T"
   ]
  },
  {
   "cell_type": "code",
   "execution_count": 215,
   "metadata": {
    "collapsed": false
   },
   "outputs": [
    {
     "name": "stdout",
     "output_type": "stream",
     "text": [
      "[[-0.066  0.091  0.122]\n",
      " [ 0.168  0.014 -0.047]]\n"
     ]
    }
   ],
   "source": [
    "Y = np.linalg.pinv(A)\n",
    "print(Y)"
   ]
  },
  {
   "cell_type": "code",
   "execution_count": 216,
   "metadata": {
    "collapsed": false
   },
   "outputs": [
    {
     "name": "stdout",
     "output_type": "stream",
     "text": [
      "[[  1.000e+00  -1.249e-16]\n",
      " [  1.110e-16   1.000e+00]]\n"
     ]
    }
   ],
   "source": [
    "print(Y @ A)"
   ]
  },
  {
   "cell_type": "code",
   "execution_count": 217,
   "metadata": {
    "collapsed": false
   },
   "outputs": [
    {
     "name": "stdout",
     "output_type": "stream",
     "text": [
      "[[37 23 11]\n",
      " [23 34 28]\n",
      " [11 28 26]]\n",
      "[[  5.141e+14  -1.491e+15   1.388e+15]\n",
      " [ -1.491e+15   4.323e+15  -4.025e+15]\n",
      " [  1.388e+15  -4.025e+15   3.748e+15]]\n",
      "[[  0.5  -8.    0.5]\n",
      " [ -6.    0.   10. ]\n",
      " [ -9.    0.    7. ]]\n"
     ]
    }
   ],
   "source": [
    "X = A @ A.T\n",
    "Xinv = np.linalg.inv(X)\n",
    "print(X)\n",
    "print(Xinv)\n",
    "print(X @ Xinv)\n"
   ]
  },
  {
   "cell_type": "code",
   "execution_count": 218,
   "metadata": {
    "collapsed": false
   },
   "outputs": [
    {
     "data": {
      "text/plain": [
       "(array([  7.462e+01,   2.238e+01,   4.012e-15]),\n",
       " array([[-0.553, -0.797,  0.245],\n",
       "        [-0.662,  0.241, -0.71 ],\n",
       "        [-0.506,  0.554,  0.661]]))"
      ]
     },
     "execution_count": 218,
     "metadata": {},
     "output_type": "execute_result"
    }
   ],
   "source": [
    "np.linalg.eig(X)"
   ]
  },
  {
   "cell_type": "code",
   "execution_count": null,
   "metadata": {
    "collapsed": true
   },
   "outputs": [],
   "source": []
  }
 ],
 "metadata": {
  "kernelspec": {
   "display_name": "Python 3",
   "language": "python",
   "name": "python3"
  },
  "language_info": {
   "codemirror_mode": {
    "name": "ipython",
    "version": 3
   },
   "file_extension": ".py",
   "mimetype": "text/x-python",
   "name": "python",
   "nbconvert_exporter": "python",
   "pygments_lexer": "ipython3",
   "version": "3.5.1"
  }
 },
 "nbformat": 4,
 "nbformat_minor": 0
}
