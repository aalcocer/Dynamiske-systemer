{
 "cells": [
  {
   "cell_type": "markdown",
   "metadata": {},
   "source": [
    "# Introduction - Matrix algebra review"
   ]
  },
  {
   "cell_type": "markdown",
   "metadata": {
    "collapsed": true
   },
   "source": [
    "This page contains some basic reminder of matrix algebra using python numpy.\n",
    "\n",
    "The following links has useful information whan converting from Matlab to numpy arrays:  \n",
    "http://sebastianraschka.com/Articles/2014_matlab_vs_numpy.html  \n",
    "https://docs.scipy.org/doc/numpy-dev/user/numpy-for-matlab-users.html#\n",
    "\n",
    "\n",
    "\n",
    "\n",
    "Matrix with real elements:\n",
    "$ \\mathbf{A} = \\begin{bmatrix}\n",
    "a_{11}  & a_{12} & \\ldots & a_{1m} \\\\\n",
    "a_{21}  & a_{22} & \\ldots & a_{2m} \\\\        \n",
    "\\vdots  &  \\vdots  & \\ddots &  \\vdots\\\\\n",
    "a_{n1}  & a_{n2} &  \\ldots & a_{nm}     \n",
    "\\end{bmatrix} \\in \\mathbb{R}^{n\\times m}$\n",
    "\n",
    "The first index $n$ is the number of rows.  \n",
    "The second index $m$ is the number of columns\n",
    "\n",
    "Column vector of dimension $n$:\n",
    "$\\mathbf{a} = \n",
    "\\begin{bmatrix}\n",
    "a_{1}  \\\\\n",
    "a_{2}  \\\\\n",
    "\\vdots \\\\\n",
    "a_{n}  \\\\\n",
    "\\end{bmatrix} \\in \\mathbb{R}^{n\\times 1}\n",
    "$\n",
    "\n",
    "Row vector of dimension $m$:\n",
    "\n",
    "$\\mathbf{b} = \n",
    "\\begin{bmatrix}\n",
    "b_1  & b_2 & \\ldots b_{m} \n",
    "\\end{bmatrix} \\in \\mathbb{R}^{1\\times m}\n",
    "$\n"
   ]
  },
  {
   "cell_type": "code",
   "execution_count": 1,
   "metadata": {
    "collapsed": false
   },
   "outputs": [],
   "source": [
    "import numpy as np\n",
    "#from numpy import linalg as LA\n",
    "np.set_printoptions(precision=2)"
   ]
  },
  {
   "cell_type": "code",
   "execution_count": 2,
   "metadata": {
    "collapsed": false
   },
   "outputs": [
    {
     "data": {
      "text/plain": [
       "array([[3, 0, 8, 1, 1],\n",
       "       [3, 0, 1, 0, 4],\n",
       "       [7, 7, 2, 2, 0],\n",
       "       [3, 5, 7, 6, 3]])"
      ]
     },
     "execution_count": 2,
     "metadata": {},
     "output_type": "execute_result"
    }
   ],
   "source": [
    "A = np.random.randint(9, size=(4, 5)) # creates random matrix with integer entries (from 0-9) and size (4,5)\n",
    "A"
   ]
  },
  {
   "cell_type": "code",
   "execution_count": 3,
   "metadata": {
    "collapsed": false
   },
   "outputs": [
    {
     "data": {
      "text/plain": [
       "array([[0],\n",
       "       [2],\n",
       "       [1],\n",
       "       [6],\n",
       "       [7]])"
      ]
     },
     "execution_count": 3,
     "metadata": {},
     "output_type": "execute_result"
    }
   ],
   "source": [
    "a = np.array([[0],[2],[1],[6],[7]]) # numpy array representation of column vector as a 2d array of dimension (5,1)\n",
    "a"
   ]
  },
  {
   "cell_type": "code",
   "execution_count": 4,
   "metadata": {
    "collapsed": false
   },
   "outputs": [
    {
     "data": {
      "text/plain": [
       "(5, 1)"
      ]
     },
     "execution_count": 4,
     "metadata": {},
     "output_type": "execute_result"
    }
   ],
   "source": [
    "a.shape"
   ]
  },
  {
   "cell_type": "code",
   "execution_count": 65,
   "metadata": {
    "collapsed": false
   },
   "outputs": [
    {
     "data": {
      "text/plain": [
       "array([[1, 2, 3, 6, 7]])"
      ]
     },
     "execution_count": 65,
     "metadata": {},
     "output_type": "execute_result"
    }
   ],
   "source": [
    "b = np.array([[1,2,3,6,7]]) # row vector of dimension (1,5)\n",
    "b"
   ]
  },
  {
   "cell_type": "code",
   "execution_count": 6,
   "metadata": {
    "collapsed": false
   },
   "outputs": [
    {
     "data": {
      "text/plain": [
       "(1, 5)"
      ]
     },
     "execution_count": 6,
     "metadata": {},
     "output_type": "execute_result"
    }
   ],
   "source": [
    "b.shape"
   ]
  },
  {
   "cell_type": "code",
   "execution_count": 7,
   "metadata": {
    "collapsed": false
   },
   "outputs": [
    {
     "data": {
      "text/plain": [
       "array([[ 0.],\n",
       "       [ 0.],\n",
       "       [ 0.],\n",
       "       [ 0.],\n",
       "       [ 0.]])"
      ]
     },
     "execution_count": 7,
     "metadata": {},
     "output_type": "execute_result"
    }
   ],
   "source": [
    "np.zeros((5,1)) # column vector of zeros and dimension 5x1"
   ]
  },
  {
   "cell_type": "code",
   "execution_count": 8,
   "metadata": {
    "collapsed": false
   },
   "outputs": [
    {
     "data": {
      "text/plain": [
       "array([[ 1.,  1.,  1.,  1.]])"
      ]
     },
     "execution_count": 8,
     "metadata": {},
     "output_type": "execute_result"
    }
   ],
   "source": [
    "np.ones((1,4)) # row vector of ones and dimension 5x1"
   ]
  },
  {
   "cell_type": "markdown",
   "metadata": {},
   "source": [
    "## Transpose\n",
    "\n",
    "\n",
    "\n",
    "$ \\mathbf{A} = \\begin{bmatrix}\n",
    "a_{11}  & a_{12} & \\ldots & a_{1m} \\\\\n",
    "a_{21}  & a_{22} & \\ldots & a_{2m} \\\\        \n",
    "\\vdots  &  \\vdots  & \\ddots &  \\vdots\\\\\n",
    "a_{n1}  & a_{n2} &  \\ldots & a_{nm}     \n",
    "\\end{bmatrix} \\in \\mathbb{R}^{n\\times m} \\Longrightarrow\n",
    "\\mathbf{A}^T = \\begin{bmatrix}\n",
    "a_{11}  & a_{21} & \\ldots & a_{n1} \\\\\n",
    "a_{12}  & a_{22} & \\ldots & a_{n2} \\\\        \n",
    "\\vdots  &  \\vdots  & \\ddots &  \\vdots\\\\\n",
    "a_{1m}  & a_{2m} &  \\ldots & a_{nm}     \n",
    "\\end{bmatrix} \\in \\mathbb{R}^{m\\times n}$\n",
    "\n",
    "$  \\mathbf{A} = \\begin{bmatrix}\n",
    "\\mathbf{c}_{1}  & \\mathbf{c}_{1} & \\ldots & \\mathbf{c}_{m}\n",
    "\\end{bmatrix} \\in \\mathbb{R}^{n\\times m}, \n",
    "\\mathbf{c}_i = \n",
    "\\begin{bmatrix}\n",
    "a_{1i}  \\\\\n",
    "a_{2i}  \\\\\n",
    "\\vdots \\\\\n",
    "a_{ni}  \\\\\n",
    "\\end{bmatrix} \\in \\mathbb{R}^{n\\times 1}\n",
    " \\Longrightarrow\n",
    "\\mathbf{A}^T = \\begin{bmatrix}\n",
    "\\mathbf{c}^T_{1}  \\\\\n",
    "\\mathbf{c}^T_{2}  \\\\\n",
    "\\vdots \\\\\n",
    "\\mathbf{c}^T_{m}\n",
    "\\end{bmatrix} \\in \\mathbb{R}^{m\\times n},\n",
    "\\mathbf{c}^T_i = \n",
    "\\begin{bmatrix}\n",
    "a_{1i}  & a_{2i} & \\ldots &a_{ni}  \n",
    "\\end{bmatrix} \\in \\mathbb{R}^{1\\times n}\n",
    "$\n",
    "\n",
    "$  \n",
    "\\mathbf{A} = \\begin{bmatrix}\n",
    "\\mathbf{r}_{1}  \\\\\n",
    "\\mathbf{r}_{2}  \\\\\n",
    "\\vdots \\\\\n",
    "\\mathbf{r}_{n}\n",
    "\\end{bmatrix}\\in \\mathbb{R}^{n\\times m},\n",
    "\\mathbf{r}_i = \n",
    "\\begin{bmatrix}\n",
    "a_{i1}  & a_{i2} & \\ldots &a_{im}  \n",
    "\\end{bmatrix} \\in \\mathbb{R}^{1\\times m}\n",
    " \\Longrightarrow\n",
    "\\mathbf{A}^T = \\begin{bmatrix}\n",
    "\\mathbf{r}^T_{1}  & \\mathbf{r}^T_{1} & \\ldots & \\mathbf{r}^T_{n}\n",
    "\\end{bmatrix} \\in \\mathbb{R}^{m\\times n},\n",
    "\\mathbf{r}^T_i = \n",
    "\\begin{bmatrix}\n",
    "a_{i1}  \\\\\n",
    "a_{i2}  \\\\\n",
    "\\vdots \\\\\n",
    "a_{im}  \\\\\n",
    "\\end{bmatrix} \\in \\mathbb{R}^{m\\times 1}\n",
    "$"
   ]
  },
  {
   "cell_type": "code",
   "execution_count": 9,
   "metadata": {
    "collapsed": false
   },
   "outputs": [
    {
     "data": {
      "text/plain": [
       "array([[1, 5, 7],\n",
       "       [6, 3, 3],\n",
       "       [5, 3, 2],\n",
       "       [7, 4, 7],\n",
       "       [8, 3, 7]])"
      ]
     },
     "execution_count": 9,
     "metadata": {},
     "output_type": "execute_result"
    }
   ],
   "source": [
    "A = np.random.randint(9,size=(5, 3)) # creates random matrix with integer entries (from 0-9) and size (5,3)\n",
    "A"
   ]
  },
  {
   "cell_type": "code",
   "execution_count": 10,
   "metadata": {
    "collapsed": false
   },
   "outputs": [
    {
     "data": {
      "text/plain": [
       "(5, 3)"
      ]
     },
     "execution_count": 10,
     "metadata": {},
     "output_type": "execute_result"
    }
   ],
   "source": [
    "A.shape"
   ]
  },
  {
   "cell_type": "code",
   "execution_count": 11,
   "metadata": {
    "collapsed": false
   },
   "outputs": [
    {
     "data": {
      "text/plain": [
       "array([[1, 6, 5, 7, 8],\n",
       "       [5, 3, 3, 4, 3],\n",
       "       [7, 3, 2, 7, 7]])"
      ]
     },
     "execution_count": 11,
     "metadata": {},
     "output_type": "execute_result"
    }
   ],
   "source": [
    "A.T # returns matrix transpose"
   ]
  },
  {
   "cell_type": "code",
   "execution_count": 12,
   "metadata": {
    "collapsed": false
   },
   "outputs": [
    {
     "data": {
      "text/plain": [
       "(3, 5)"
      ]
     },
     "execution_count": 12,
     "metadata": {},
     "output_type": "execute_result"
    }
   ],
   "source": [
    "A.T.shape"
   ]
  },
  {
   "cell_type": "code",
   "execution_count": 13,
   "metadata": {
    "collapsed": false
   },
   "outputs": [
    {
     "data": {
      "text/plain": [
       "array([[ 0.08],\n",
       "       [-0.3 ],\n",
       "       [-0.36],\n",
       "       [ 1.67],\n",
       "       [-1.23]])"
      ]
     },
     "execution_count": 13,
     "metadata": {},
     "output_type": "execute_result"
    }
   ],
   "source": [
    "b = np.random.randn(5,1) # column vector with normally distributed random entries\n",
    "b"
   ]
  },
  {
   "cell_type": "code",
   "execution_count": 14,
   "metadata": {
    "collapsed": false
   },
   "outputs": [
    {
     "data": {
      "text/plain": [
       "array([[ 0.08, -0.3 , -0.36,  1.67, -1.23]])"
      ]
     },
     "execution_count": 14,
     "metadata": {},
     "output_type": "execute_result"
    }
   ],
   "source": [
    "b.T"
   ]
  },
  {
   "cell_type": "markdown",
   "metadata": {},
   "source": [
    "Remember that $(\\mathbf{A}^T)^T = \\mathbf{A}$"
   ]
  },
  {
   "cell_type": "code",
   "execution_count": 15,
   "metadata": {
    "collapsed": false
   },
   "outputs": [
    {
     "data": {
      "text/plain": [
       "array([[ 0.08],\n",
       "       [-0.3 ],\n",
       "       [-0.36],\n",
       "       [ 1.67],\n",
       "       [-1.23]])"
      ]
     },
     "execution_count": 15,
     "metadata": {},
     "output_type": "execute_result"
    }
   ],
   "source": [
    "b.T.T # b.T.T = b"
   ]
  },
  {
   "cell_type": "markdown",
   "metadata": {},
   "source": [
    "## Matrix addition\n",
    "\n",
    "Matrix sum is only defined if matrices have the same dimension\n",
    "\n",
    "$$ \\mathbf{A} = \\begin{bmatrix}\n",
    "a_{11}  & a_{12} & \\ldots & a_{1m} \\\\\n",
    "a_{21}  & a_{22} & \\ldots & a_{2m} \\\\        \n",
    "\\vdots  &  \\vdots  & \\ddots &  \\vdots\\\\\n",
    "a_{n1}  & a_{n2} &  \\ldots & a_{nm}     \n",
    "\\end{bmatrix} \\in \\mathbb{R}^{n\\times m},\n",
    " \\mathbf{B} = \\begin{bmatrix}\n",
    "b_{11}  & b_{12} & \\ldots & b_{1m} \\\\\n",
    "b_{21}  & b_{22} & \\ldots & b_{2m} \\\\        \n",
    "\\vdots  &  \\vdots  & \\ddots &  \\vdots\\\\\n",
    "b_{n1}  & b_{n2} &  \\ldots & b_{nm}     \n",
    "\\end{bmatrix} \\in \\mathbb{R}^{n\\times m}$$\n",
    "\n",
    "$$ \\mathbf{A}+\\mathbf{B} = \\begin{bmatrix}\n",
    "a_{11}+b_{11}  & a_{12}+b_{12} & \\ldots & a_{1m}+b_{1m} \\\\\n",
    "a_{21}+b_{21}  & a_{22}+b_{22} & \\ldots & a_{2m}+b_{2m} \\\\        \n",
    "\\vdots  &  \\vdots  & \\ddots &  \\vdots\\\\\n",
    "a_{n1}+b_{n1}  & a_{n2}+b_{n2} &  \\ldots & a_{nm}+b_{nm}     \n",
    "\\end{bmatrix} \\in \\mathbb{R}^{n\\times m}$$\n",
    "\n",
    "\n"
   ]
  },
  {
   "cell_type": "code",
   "execution_count": 16,
   "metadata": {
    "collapsed": false
   },
   "outputs": [
    {
     "data": {
      "text/plain": [
       "array([[7, 0],\n",
       "       [2, 1],\n",
       "       [1, 3]])"
      ]
     },
     "execution_count": 16,
     "metadata": {},
     "output_type": "execute_result"
    }
   ],
   "source": [
    "A = np.random.randint(9,size=(3, 2)) # creates random matrix with integer entries (from 0-9) and size (5,3)\n",
    "A"
   ]
  },
  {
   "cell_type": "code",
   "execution_count": 17,
   "metadata": {
    "collapsed": false
   },
   "outputs": [
    {
     "data": {
      "text/plain": [
       "array([[6, 1],\n",
       "       [6, 2],\n",
       "       [1, 0]])"
      ]
     },
     "execution_count": 17,
     "metadata": {},
     "output_type": "execute_result"
    }
   ],
   "source": [
    "B = np.random.randint(9,size=(3, 2)) # creates random matrix with integer entries (from 0-9) and size (5,3)\n",
    "B"
   ]
  },
  {
   "cell_type": "code",
   "execution_count": 18,
   "metadata": {
    "collapsed": false
   },
   "outputs": [
    {
     "data": {
      "text/plain": [
       "array([[13,  1],\n",
       "       [ 8,  3],\n",
       "       [ 2,  3]])"
      ]
     },
     "execution_count": 18,
     "metadata": {},
     "output_type": "execute_result"
    }
   ],
   "source": [
    "A+B # matrix addition"
   ]
  },
  {
   "cell_type": "markdown",
   "metadata": {},
   "source": [
    "Adding matrices of different dimension is strictly not defined. \n",
    "In numpy, it is possible to do so as far as one of the arrays has dimension 1.  \n",
    "For details see http://docs.scipy.org/doc/numpy-1.10.1/user/basics.broadcasting.html"
   ]
  },
  {
   "cell_type": "code",
   "execution_count": 19,
   "metadata": {
    "collapsed": false
   },
   "outputs": [
    {
     "data": {
      "text/plain": [
       "array([[7, 0],\n",
       "       [2, 1],\n",
       "       [1, 3]])"
      ]
     },
     "execution_count": 19,
     "metadata": {},
     "output_type": "execute_result"
    }
   ],
   "source": [
    "A"
   ]
  },
  {
   "cell_type": "code",
   "execution_count": 20,
   "metadata": {
    "collapsed": false
   },
   "outputs": [
    {
     "data": {
      "text/plain": [
       "array([[8, 1],\n",
       "       [3, 2],\n",
       "       [2, 4]])"
      ]
     },
     "execution_count": 20,
     "metadata": {},
     "output_type": "execute_result"
    }
   ],
   "source": [
    "A+1 # here there is an addition of a 3x2 matrix plus a number. The number is added to all elements"
   ]
  },
  {
   "cell_type": "code",
   "execution_count": 21,
   "metadata": {
    "collapsed": false
   },
   "outputs": [
    {
     "data": {
      "text/plain": [
       "array([[1],\n",
       "       [2],\n",
       "       [3]])"
      ]
     },
     "execution_count": 21,
     "metadata": {},
     "output_type": "execute_result"
    }
   ],
   "source": [
    "C = np.array([[1],[2],[3]]) # column vector dimension 3x1\n",
    "C"
   ]
  },
  {
   "cell_type": "code",
   "execution_count": 22,
   "metadata": {
    "collapsed": false
   },
   "outputs": [
    {
     "data": {
      "text/plain": [
       "array([[7, 0],\n",
       "       [2, 1],\n",
       "       [1, 3]])"
      ]
     },
     "execution_count": 22,
     "metadata": {},
     "output_type": "execute_result"
    }
   ],
   "source": [
    "A"
   ]
  },
  {
   "cell_type": "code",
   "execution_count": 23,
   "metadata": {
    "collapsed": false
   },
   "outputs": [
    {
     "data": {
      "text/plain": [
       "array([[8, 1],\n",
       "       [4, 3],\n",
       "       [4, 6]])"
      ]
     },
     "execution_count": 23,
     "metadata": {},
     "output_type": "execute_result"
    }
   ],
   "source": [
    "A+C # in this case the vector C is copied to match the dimension of A. Is the same as A + [C C]"
   ]
  },
  {
   "cell_type": "markdown",
   "metadata": {},
   "source": [
    "## Matrix multiplication\n",
    "\n",
    "Matrix multiplication is only defined when the number of columns of the first matrix and the rows of the second are equal. \n",
    "\n",
    "$\\mathbf{A} \\in \\mathbb{R}^{n\\times m}, \\mathbf{B} \\in \\mathbb{R}^{m\\times p}\n",
    "\\Longrightarrow \\mathbf{A}\\mathbf{B}\\in \\mathbb{R}^{n\\times p}\n",
    "$\n",
    "\n",
    "$(n\\times m) \\cdot (m\\times p)\\Longrightarrow (n\\times p)$\n",
    "\n",
    "$\\mathbf{A} \\in \\mathbb{R}^{n\\times m}, \\mathbf{B} \\in \\mathbb{R}^{m\\times p},\n",
    "\\mathbf{C} \\in \\mathbb{R}^{p\\times q}\n",
    "\\Longrightarrow \\mathbf{A}\\mathbf{B}\\mathbf{C}= (\\mathbf{A}\\mathbf{B})\\mathbf{C} \n",
    "= \\mathbf{A}(\\mathbf{B}\\mathbf{C})\\in \\mathbb{R}^{n\\times q}\n",
    "$\n",
    "\n",
    "$(n\\times m) \\cdot (m\\times p)\\cdot (p\\times q)\\Longrightarrow (n\\times q)$"
   ]
  },
  {
   "cell_type": "markdown",
   "metadata": {},
   "source": [
    "One simple manner of visualizing matrix multiplication is to consider the rows of the first matrix against the columns of the second matrix. This is similar to a dot product interpretation of matrix multiplication and helps to gain insight and understanding.\n",
    "\n",
    "$\n",
    "\\mathbf{A} = \n",
    "\\begin{bmatrix}\n",
    "\\mathbf{a}_{1}  \\\\\n",
    "\\mathbf{a}_{2}  \\\\\n",
    "\\vdots \\\\\n",
    "\\mathbf{a}_{n}\n",
    "\\end{bmatrix}\n",
    "\\in \\mathbb{R}^{n\\times m},\n",
    "\\mathbf{a}_i = \n",
    "\\begin{bmatrix}\n",
    "a_{i1}  & a_{i2} & \\ldots & a_{im}\n",
    "\\end{bmatrix}\\in \\mathbb{R}^{1\\times m},\n",
    "$\n",
    "\n",
    "$\\mathbf{B} = \n",
    "\\begin{bmatrix}\n",
    "\\mathbf{b}_{1}  & \\mathbf{b}_{2} & \\ldots & \\mathbf{b}_{p}\n",
    "\\end{bmatrix}\\in \\mathbb{R}^{m\\times p},\n",
    "\\mathbf{b}_j = \n",
    "\\begin{bmatrix}\n",
    "b_{1j}  \\\\\n",
    "b_{2j}  \\\\\n",
    "\\vdots \\\\\n",
    "b_{mj}\n",
    "\\end{bmatrix}\n",
    "\\in \\mathbb{R}^{m\\times 1}\n",
    "$\n"
   ]
  },
  {
   "cell_type": "markdown",
   "metadata": {},
   "source": [
    "$\\mathbf{A}\\mathbf{B} = \\begin{bmatrix}\n",
    "\\mathbf{a}_{1}  \\\\\n",
    "\\mathbf{a}_{2}  \\\\\n",
    "\\vdots \\\\\n",
    "\\mathbf{a}_{n}\n",
    "\\end{bmatrix}\n",
    "\\begin{bmatrix}\n",
    "\\mathbf{b}_{1}  & \\mathbf{b}_{2} & \\ldots & \\mathbf{b}_{p}\n",
    "\\end{bmatrix}=\n",
    "\\begin{bmatrix}\n",
    "\\mathbf{a}_{1}\\mathbf{b}_{1}  & \\mathbf{a}_{1}\\mathbf{b}_{2} & \\ldots & \\mathbf{a}_{1}\\mathbf{b}_{p} \\\\\n",
    "\\mathbf{a}_{2}\\mathbf{b}_{1}  & \\mathbf{a}_{2}\\mathbf{b}_{2} & \\ldots & \\mathbf{a}_{2}\\mathbf{b}_{p} \\\\\n",
    "\\vdots  &  \\vdots  & \\ddots &  \\vdots\\\\\n",
    "\\mathbf{a}_{n}\\mathbf{b}_{1}  & \\mathbf{a}_{n}\\mathbf{b}_{2} & \\ldots & \\mathbf{a}_{n}\\mathbf{b}_{p} \\\\\n",
    "\\end{bmatrix} \\in \\mathbb{R}^{n\\times m}\n",
    "$"
   ]
  },
  {
   "cell_type": "markdown",
   "metadata": {},
   "source": [
    "where each of the entries is the cross product of a row of the first matrix and a column of the second: \n",
    "\n",
    "$\\mathbf{a}_i \\mathbf{b}_j = \n",
    "\\begin{bmatrix}\n",
    "a_{i1} & a_{i2} & \\ldots & a_{im}\n",
    "\\end{bmatrix}\n",
    "\\begin{bmatrix}\n",
    "b_{1j}  \\\\\n",
    "b_{2j}  \\\\\n",
    "\\vdots  \\\\\n",
    "b_{mj}\n",
    "\\end{bmatrix} = a_{i1}b_{1j}+a_{i2}b_{2j}+\\ldots +a_{im}b_{mj} \\in \\mathbb{R}$\n",
    "\n",
    "\n",
    "Matrix multiplication is done using the \"@\". Note that this is only valid for newer python versions.\n",
    "In older versions matrix multiplication is obtained with the dot() command."
   ]
  },
  {
   "cell_type": "code",
   "execution_count": 52,
   "metadata": {
    "collapsed": false
   },
   "outputs": [
    {
     "data": {
      "text/plain": [
       "array([[3, 1],\n",
       "       [1, 3],\n",
       "       [0, 2]])"
      ]
     },
     "execution_count": 52,
     "metadata": {},
     "output_type": "execute_result"
    }
   ],
   "source": [
    "A = np.random.randint(5,size=(3, 2)) # creates random matrix with integer entries (from 0-5) and size (3,2)\n",
    "A"
   ]
  },
  {
   "cell_type": "code",
   "execution_count": 53,
   "metadata": {
    "collapsed": false
   },
   "outputs": [
    {
     "data": {
      "text/plain": [
       "array([[1, 2, 3, 2],\n",
       "       [4, 3, 4, 2]])"
      ]
     },
     "execution_count": 53,
     "metadata": {},
     "output_type": "execute_result"
    }
   ],
   "source": [
    "B = np.random.randint(5,size=(2, 4))# creates random matrix with integer entries (from 0-5) and size (2,4)\n",
    "B"
   ]
  },
  {
   "cell_type": "code",
   "execution_count": 54,
   "metadata": {
    "collapsed": false
   },
   "outputs": [
    {
     "data": {
      "text/plain": [
       "array([[ 7,  9, 13,  8],\n",
       "       [13, 11, 15,  8],\n",
       "       [ 8,  6,  8,  4]])"
      ]
     },
     "execution_count": 54,
     "metadata": {},
     "output_type": "execute_result"
    }
   ],
   "source": [
    "A @ B"
   ]
  },
  {
   "cell_type": "code",
   "execution_count": 27,
   "metadata": {
    "collapsed": false
   },
   "outputs": [
    {
     "data": {
      "text/plain": [
       "array([[49, 14,  7],\n",
       "       [14,  5,  5],\n",
       "       [ 7,  5, 10]])"
      ]
     },
     "execution_count": 27,
     "metadata": {},
     "output_type": "execute_result"
    }
   ],
   "source": [
    "A @ A.T"
   ]
  },
  {
   "cell_type": "markdown",
   "metadata": {},
   "source": [
    "$\\mathbf{A} \\in \\mathbb{R}^{n\\times m}, \\mathbf{B} \\in \\mathbb{R}^{m\\times p}\n",
    "\\Longrightarrow (\\mathbf{A}\\mathbf{B})^T = \\mathbf{B}^T\\mathbf{A}^T\\in \\mathbb{R}^{p\\times n}\n",
    "$\n",
    "\n",
    "$\\mathbf{A} \\in \\mathbb{R}^{n\\times m}, \\mathbf{B} \\in \\mathbb{R}^{m\\times p},\n",
    "\\mathbf{C} \\in \\mathbb{R}^{p\\times q}\n",
    "\\Longrightarrow (\\mathbf{A}\\mathbf{B}\\mathbf{C})^T= \\mathbf{C}^T\\mathbf{B}^T\\mathbf{A}^T \n",
    "\\in \\mathbb{R}^{q\\times n}\n",
    "$"
   ]
  },
  {
   "cell_type": "code",
   "execution_count": 55,
   "metadata": {
    "collapsed": false
   },
   "outputs": [
    {
     "data": {
      "text/plain": [
       "array([[ 7, 13,  8],\n",
       "       [ 9, 11,  6],\n",
       "       [13, 15,  8],\n",
       "       [ 8,  8,  4]])"
      ]
     },
     "execution_count": 55,
     "metadata": {},
     "output_type": "execute_result"
    }
   ],
   "source": [
    "(A @ B).T"
   ]
  },
  {
   "cell_type": "code",
   "execution_count": 56,
   "metadata": {
    "collapsed": false
   },
   "outputs": [
    {
     "data": {
      "text/plain": [
       "array([[ 7, 13,  8],\n",
       "       [ 9, 11,  6],\n",
       "       [13, 15,  8],\n",
       "       [ 8,  8,  4]])"
      ]
     },
     "execution_count": 56,
     "metadata": {},
     "output_type": "execute_result"
    }
   ],
   "source": [
    "B.T @ A.T"
   ]
  },
  {
   "cell_type": "code",
   "execution_count": 57,
   "metadata": {
    "collapsed": false
   },
   "outputs": [
    {
     "data": {
      "text/plain": [
       "array([[2, 2, 4, 2, 0],\n",
       "       [4, 1, 0, 2, 0],\n",
       "       [4, 2, 4, 4, 4],\n",
       "       [1, 4, 3, 4, 1]])"
      ]
     },
     "execution_count": 57,
     "metadata": {},
     "output_type": "execute_result"
    }
   ],
   "source": [
    "C = np.random.randint(5,size=(4, 5))\n",
    "C"
   ]
  },
  {
   "cell_type": "code",
   "execution_count": 58,
   "metadata": {
    "collapsed": false
   },
   "outputs": [
    {
     "data": {
      "text/plain": [
       "array([[110, 138,  76],\n",
       "       [ 81,  99,  54],\n",
       "       [104, 136,  76],\n",
       "       [116, 140,  76],\n",
       "       [ 60,  68,  36]])"
      ]
     },
     "execution_count": 58,
     "metadata": {},
     "output_type": "execute_result"
    }
   ],
   "source": [
    "(A @ B @ C).T"
   ]
  },
  {
   "cell_type": "code",
   "execution_count": 59,
   "metadata": {
    "collapsed": false
   },
   "outputs": [
    {
     "data": {
      "text/plain": [
       "array([[110, 138,  76],\n",
       "       [ 81,  99,  54],\n",
       "       [104, 136,  76],\n",
       "       [116, 140,  76],\n",
       "       [ 60,  68,  36]])"
      ]
     },
     "execution_count": 59,
     "metadata": {},
     "output_type": "execute_result"
    }
   ],
   "source": [
    "C.T @ B.T @ A.T"
   ]
  },
  {
   "cell_type": "code",
   "execution_count": 60,
   "metadata": {
    "collapsed": false
   },
   "outputs": [
    {
     "data": {
      "text/plain": [
       "array([[ 1.,  0.,  0.,  0.],\n",
       "       [ 0.,  1.,  0.,  0.],\n",
       "       [ 0.,  0.,  1.,  0.],\n",
       "       [ 0.,  0.,  0.,  1.]])"
      ]
     },
     "execution_count": 60,
     "metadata": {},
     "output_type": "execute_result"
    }
   ],
   "source": [
    "I = np.eye(4) # identity matrix of dimension 4\n",
    "I"
   ]
  },
  {
   "cell_type": "code",
   "execution_count": 62,
   "metadata": {
    "collapsed": false
   },
   "outputs": [
    {
     "data": {
      "text/plain": [
       "array([[ 0.28,  0.29,  0.01,  0.63],\n",
       "       [ 0.74,  0.02,  0.59,  0.18],\n",
       "       [ 0.02,  0.66,  0.05,  0.04],\n",
       "       [ 0.42,  0.46,  0.94,  0.77]])"
      ]
     },
     "execution_count": 62,
     "metadata": {},
     "output_type": "execute_result"
    }
   ],
   "source": [
    "A = np.random.rand(4,4) # random matrix size (4x4)\n",
    "A"
   ]
  },
  {
   "cell_type": "code",
   "execution_count": 63,
   "metadata": {
    "collapsed": false
   },
   "outputs": [
    {
     "data": {
      "text/plain": [
       "array([[ 0.28,  0.29,  0.01,  0.63],\n",
       "       [ 0.74,  0.02,  0.59,  0.18],\n",
       "       [ 0.02,  0.66,  0.05,  0.04],\n",
       "       [ 0.42,  0.46,  0.94,  0.77]])"
      ]
     },
     "execution_count": 63,
     "metadata": {},
     "output_type": "execute_result"
    }
   ],
   "source": [
    "A @ I"
   ]
  },
  {
   "cell_type": "code",
   "execution_count": 64,
   "metadata": {
    "collapsed": false
   },
   "outputs": [
    {
     "data": {
      "text/plain": [
       "array([[ 0.,  0.,  0.,  0.],\n",
       "       [ 0.,  0.,  0.,  0.],\n",
       "       [ 0.,  0.,  0.,  0.],\n",
       "       [ 0.,  0.,  0.,  0.]])"
      ]
     },
     "execution_count": 64,
     "metadata": {},
     "output_type": "execute_result"
    }
   ],
   "source": [
    "(A @ I) - A"
   ]
  },
  {
   "cell_type": "markdown",
   "metadata": {},
   "source": [
    "## Matrix inversion"
   ]
  },
  {
   "cell_type": "code",
   "execution_count": 33,
   "metadata": {
    "collapsed": false
   },
   "outputs": [
    {
     "data": {
      "text/plain": [
       "array([[ 0.44,  0.53,  0.23, -0.74],\n",
       "       [-0.08, -0.07, -0.19, -0.43],\n",
       "       [ 0.65,  0.11, -0.15,  1.47],\n",
       "       [-1.  ,  0.98,  0.27, -0.28]])"
      ]
     },
     "execution_count": 33,
     "metadata": {},
     "output_type": "execute_result"
    }
   ],
   "source": [
    "A = np.random.randn(4,4)\n",
    "A"
   ]
  },
  {
   "cell_type": "code",
   "execution_count": 34,
   "metadata": {
    "collapsed": false
   },
   "outputs": [
    {
     "data": {
      "text/plain": [
       "array([[ 0.78,  0.03,  0.31, -0.46],\n",
       "       [ 0.62,  1.09,  0.76,  0.68],\n",
       "       [ 0.25, -4.38, -1.21, -0.32],\n",
       "       [-0.37, -0.54,  0.36,  0.12]])"
      ]
     },
     "execution_count": 34,
     "metadata": {},
     "output_type": "execute_result"
    }
   ],
   "source": [
    "np.linalg.inv(A)"
   ]
  },
  {
   "cell_type": "code",
   "execution_count": 35,
   "metadata": {
    "collapsed": false
   },
   "outputs": [
    {
     "data": {
      "text/plain": [
       "array([[  1.00e+00,  -5.55e-17,   0.00e+00,   0.00e+00],\n",
       "       [ -2.78e-17,   1.00e+00,  -8.33e-17,  -2.08e-17],\n",
       "       [  0.00e+00,   0.00e+00,   1.00e+00,   0.00e+00],\n",
       "       [ -1.39e-17,   1.67e-16,   0.00e+00,   1.00e+00]])"
      ]
     },
     "execution_count": 35,
     "metadata": {},
     "output_type": "execute_result"
    }
   ],
   "source": [
    "A @ np.linalg.inv(A) # the result is the identity matrix except for numerical accuracy in the order 10e-15"
   ]
  },
  {
   "cell_type": "code",
   "execution_count": 36,
   "metadata": {
    "collapsed": false
   },
   "outputs": [
    {
     "name": "stdout",
     "output_type": "stream",
     "text": [
      "[[ 0.78  0.03  0.31 -0.46]\n",
      " [ 0.62  1.09  0.76  0.68]\n",
      " [ 0.25 -4.38 -1.21 -0.32]\n",
      " [-0.37 -0.54  0.36  0.12]]\n"
     ]
    }
   ],
   "source": [
    "Y = np.linalg.pinv(A)\n",
    "print(Y)"
   ]
  },
  {
   "cell_type": "code",
   "execution_count": 37,
   "metadata": {
    "collapsed": false
   },
   "outputs": [
    {
     "name": "stdout",
     "output_type": "stream",
     "text": [
      "[[  1.00e+00  -5.55e-17  -1.39e-17   2.22e-16]\n",
      " [  2.22e-16   1.00e+00   2.50e-16   3.33e-16]\n",
      " [ -1.11e-16   7.77e-16   1.00e+00   8.47e-16]\n",
      " [ -2.78e-17   1.39e-16  -1.53e-16   1.00e+00]]\n"
     ]
    }
   ],
   "source": [
    "print(Y @ A)"
   ]
  },
  {
   "cell_type": "code",
   "execution_count": 38,
   "metadata": {
    "collapsed": false
   },
   "outputs": [
    {
     "name": "stdout",
     "output_type": "stream",
     "text": [
      "[[ 1.07  0.2  -0.77  0.35]\n",
      " [ 0.2   0.23 -0.67  0.08]\n",
      " [-0.77 -0.67  2.63 -0.99]\n",
      " [ 0.35  0.08 -0.99  2.11]]\n",
      "[[  1.19  -0.21   0.27  -0.06]\n",
      " [ -0.21  20.7    5.96   2.07]\n",
      " [  0.27   5.96   2.27   0.8 ]\n",
      " [ -0.06   2.07   0.8    0.78]]\n",
      "[[  1.00e+00   8.88e-16  -2.78e-16   0.00e+00]\n",
      " [ -6.94e-18   1.00e+00   1.39e-17  -2.08e-17]\n",
      " [  3.47e-17   1.33e-15   1.00e+00   1.11e-16]\n",
      " [ -5.55e-17   0.00e+00  -2.22e-16   1.00e+00]]\n"
     ]
    }
   ],
   "source": [
    "X = A @ A.T\n",
    "Xinv = np.linalg.inv(X)\n",
    "print(X)\n",
    "print(Xinv)\n",
    "print(X @ Xinv)\n"
   ]
  },
  {
   "cell_type": "code",
   "execution_count": 39,
   "metadata": {
    "collapsed": false
   },
   "outputs": [
    {
     "data": {
      "text/plain": [
       "(array([ 3.76,  1.48,  0.76,  0.04]), array([[ 0.3 ,  0.23, -0.93,  0.01],\n",
       "        [ 0.17,  0.22,  0.11, -0.95],\n",
       "        [-0.77, -0.44, -0.36, -0.28],\n",
       "        [ 0.53, -0.84, -0.04, -0.1 ]]))"
      ]
     },
     "execution_count": 39,
     "metadata": {},
     "output_type": "execute_result"
    }
   ],
   "source": [
    "np.linalg.eig(X)"
   ]
  },
  {
   "cell_type": "code",
   "execution_count": null,
   "metadata": {
    "collapsed": true
   },
   "outputs": [],
   "source": []
  }
 ],
 "metadata": {
  "kernelspec": {
   "display_name": "Python 3",
   "language": "python",
   "name": "python3"
  },
  "language_info": {
   "codemirror_mode": {
    "name": "ipython",
    "version": 3
   },
   "file_extension": ".py",
   "mimetype": "text/x-python",
   "name": "python",
   "nbconvert_exporter": "python",
   "pygments_lexer": "ipython3",
   "version": "3.5.1"
  }
 },
 "nbformat": 4,
 "nbformat_minor": 0
}
